{
  "cells": [
    {
      "cell_type": "markdown",
      "metadata": {
        "id": "EKlnfu4JKGRC"
      },
      "source": [
        "# Ejercicios de Programación Funcional"
      ]
    },
    {
      "cell_type": "markdown",
      "metadata": {
        "id": "zcWJH6fJKGRJ"
      },
      "source": [
        "# Ejercicio 1"
      ]
    },
    {
      "cell_type": "markdown",
      "metadata": {
        "id": "yJpWHjldKGRN"
      },
      "source": [
        "Escribir una función que aplique un descuento a un precio y otra que aplique el IVA a un precio. Escribir una tercera función que reciba un diccionario con los precios y porcentajes de una cesta de la compra, y una de las funciones anteriores, y utilice la función pasada para aplicar los descuentos o el IVA a los productos de la canasta y devolver el precio final de la canasta."
      ]
    },
    {
      "cell_type": "code",
      "execution_count": null,
      "metadata": {
        "id": "bxwnUBbRKGRQ",
        "outputId": "e8f70f27-b502-43da-ba6a-33d9f401a6be",
        "colab": {
          "base_uri": "https://localhost:8080/"
        }
      },
      "outputs": [
        {
          "output_type": "stream",
          "name": "stdout",
          "text": [
            "Total Con descuentos aplicados: 1190.0\n",
            "Total Con iva aplicado: 1130.5\n"
          ]
        }
      ],
      "source": [
        "def descuento(des, precio):\n",
        "  return precio*(1+(des/100)) #se ingresa el descuento en porcentaje y se cambia a decimal\n",
        "\n",
        "def iva(precio):\n",
        "  return precio*1.19 #se aplicara el iva estandar en chile\n",
        "\n",
        "def calculo(dicci, funcion):\n",
        "  aux = 0\n",
        "  for x in dicci:\n",
        "    if funcion == descuento:\n",
        "      des = dicci[x]\n",
        "      aux += funcion(des,x)\n",
        "    else:\n",
        "      aux += funcion(x)\n",
        "  return aux\n",
        "\n",
        "precios = {100:40, 200:30, 500:25, 150:10}\n",
        "\n",
        "print(\"Total Con descuentos aplicados:\", calculo(precios, descuento))\n",
        "print(\"Total Con iva aplicado:\", calculo(precios,iva))"
      ]
    },
    {
      "cell_type": "markdown",
      "metadata": {
        "id": "966-2U0RKGRS"
      },
      "source": [
        "# Ejercicio 2"
      ]
    },
    {
      "cell_type": "markdown",
      "metadata": {
        "id": "xqHvmPmVKGRS"
      },
      "source": [
        "Escribir una función que simule una calculadora científica que permita calcular el seno, coseno, tangente, exponencial y logaritmo neperiano. La función preguntará al usuario el valor y la función a aplicar, y mostrará por pantalla una tabla con los enteros de 1 al valor introducido y el resultado de aplicar la función a esos enteros."
      ]
    },
    {
      "cell_type": "code",
      "source": [
        "import math\n",
        "seno = lambda num: math.sin(num)\n",
        "coseno = lambda num: math.cos(num)\n",
        "tangente = lambda num: math.tan(num)\n",
        "exponencial = lambda num: math.exp(num)\n",
        "logaritmo_neperiano = lambda num: math.log(num)\n",
        "\n",
        "switch = 1\n",
        "try: \n",
        "  while(switch == 1):\n",
        "    x = float(input(\"Ingrese un numero a utilizar: \"))\n",
        "    print(\"Ingrese un numero de acuerdo a la funcion que desea realizar, según su número:\")\n",
        "    print(\"- Realizar el calculo de seno, 1\")\n",
        "    print(\"- Realizar el calculo para coseno, 2\") \n",
        "    print(\"- Realizar el calculo para tangente, 3\")\n",
        "    print(\"- Realizar el calculo para exponencial, 4\") \n",
        "    print(\"- Realizar el calculo para logaritmo neperiano, 5\") \n",
        "    fun = input(\"\")\n",
        "    if (fun == '1'):\n",
        "      print(\"El seno de\", x,\"es:\", seno(x))\n",
        "    elif (fun == '2'):\n",
        "      print(\"El coseno de\", x,\"es:\", coseno(x))\n",
        "    elif (fun == '3'):\n",
        "      print(\"La tangente de\", x,\"es:\", tangente(x))\n",
        "    elif (fun == '4'):\n",
        "      print(\"El exponencial de\", x,\"es:\", exponencial(x))\n",
        "    elif (fun == '5'):\n",
        "      print(\"El logaritmo neperiano de\", x,\"es:\", logaritmo_neperiano(x))\n",
        "    else:\n",
        "      print(\"No has ingresado ninguna opcion.\")\n",
        "    salir = input(\"¿Deseas salir del programa? (si/no): \").upper()\n",
        "    if(salir == \"SI\"):\n",
        "      switch = 0\n",
        "      print(\"Muchas gracias por utilizar el programa\")\n",
        "except ValueError:\n",
        "  print(\"Error en el ingreso del valor de número, debe ser entero, vuelve a intentar.\") "
      ],
      "metadata": {
        "id": "aJX2pB8qttHX",
        "colab": {
          "base_uri": "https://localhost:8080/"
        },
        "outputId": "2e657d6e-9817-4784-b04d-f0f423ac73ea"
      },
      "execution_count": null,
      "outputs": [
        {
          "output_type": "stream",
          "name": "stdout",
          "text": [
            "Ingrese un numero a utilizar: 12\n",
            "Ingrese un numero de acuerdo a la funcion que desea realizar, según su número:\n",
            "- Realizar el calculo de seno, 1\n",
            "- Realizar el calculo para coseno, 2\n",
            "- Realizar el calculo para tangente, 3\n",
            "- Realizar el calculo para exponencial, 4\n",
            "- Realizar el calculo para logaritmo neperiano, 5\n",
            "1\n",
            "El seno de 12.0 es: -0.5365729180004349\n",
            "¿Deseas salir del programa? (si/no): no\n",
            "Ingrese un numero a utilizar: 12\n",
            "Ingrese un numero de acuerdo a la funcion que desea realizar, según su número:\n",
            "- Realizar el calculo de seno, 1\n",
            "- Realizar el calculo para coseno, 2\n",
            "- Realizar el calculo para tangente, 3\n",
            "- Realizar el calculo para exponencial, 4\n",
            "- Realizar el calculo para logaritmo neperiano, 5\n",
            "2\n",
            "El coseno de 12.0 es: 0.8438539587324921\n",
            "¿Deseas salir del programa? (si/no): no\n",
            "Ingrese un numero a utilizar: 12\n",
            "Ingrese un numero de acuerdo a la funcion que desea realizar, según su número:\n",
            "- Realizar el calculo de seno, 1\n",
            "- Realizar el calculo para coseno, 2\n",
            "- Realizar el calculo para tangente, 3\n",
            "- Realizar el calculo para exponencial, 4\n",
            "- Realizar el calculo para logaritmo neperiano, 5\n",
            "3\n",
            "La tangente de 12.0 es: -0.6358599286615808\n",
            "¿Deseas salir del programa? (si/no): no\n",
            "Ingrese un numero a utilizar: 12\n",
            "Ingrese un numero de acuerdo a la funcion que desea realizar, según su número:\n",
            "- Realizar el calculo de seno, 1\n",
            "- Realizar el calculo para coseno, 2\n",
            "- Realizar el calculo para tangente, 3\n",
            "- Realizar el calculo para exponencial, 4\n",
            "- Realizar el calculo para logaritmo neperiano, 5\n",
            "4\n",
            "El exponencial de 12.0 es: 162754.79141900392\n",
            "¿Deseas salir del programa? (si/no): no\n",
            "Ingrese un numero a utilizar: 12\n",
            "Ingrese un numero de acuerdo a la funcion que desea realizar, según su número:\n",
            "- Realizar el calculo de seno, 1\n",
            "- Realizar el calculo para coseno, 2\n",
            "- Realizar el calculo para tangente, 3\n",
            "- Realizar el calculo para exponencial, 4\n",
            "- Realizar el calculo para logaritmo neperiano, 5\n",
            "5\n",
            "El logaritmo neperiano de 12.0 es: 2.4849066497880004\n",
            "¿Deseas salir del programa? (si/no): no\n",
            "Ingrese un numero a utilizar: 12\n",
            "Ingrese un numero de acuerdo a la funcion que desea realizar, según su número:\n",
            "- Realizar el calculo de seno, 1\n",
            "- Realizar el calculo para coseno, 2\n",
            "- Realizar el calculo para tangente, 3\n",
            "- Realizar el calculo para exponencial, 4\n",
            "- Realizar el calculo para logaritmo neperiano, 5\n",
            "No quiero\n",
            "No has ingresado ninguna opcion.\n",
            "¿Deseas salir del programa? (si/no): si\n",
            "Muchas gracias por utilizar el programa\n"
          ]
        }
      ]
    },
    {
      "cell_type": "markdown",
      "metadata": {
        "id": "NGf6VlliKGRU"
      },
      "source": [
        "# Ejercicio 3"
      ]
    },
    {
      "cell_type": "markdown",
      "metadata": {
        "id": "vnOW7VINKGRV"
      },
      "source": [
        "Escribir una función que reciba otra función y una lista, y devuelva otra lista con el resultado de aplicar la función dada a cada uno de los elementos de la lista."
      ]
    },
    {
      "cell_type": "code",
      "execution_count": null,
      "metadata": {
        "colab": {
          "base_uri": "https://localhost:8080/"
        },
        "id": "510b_Wk7KGRX",
        "outputId": "3bb3d3ed-d95d-4d64-94f4-ff8b65a8f23c"
      },
      "outputs": [
        {
          "output_type": "stream",
          "name": "stdout",
          "text": [
            "[3, 4, 5, 6, 7]\n"
          ]
        }
      ],
      "source": [
        "def funcionlista(funcion,lista):\n",
        "  l=[]\n",
        "  for i in lista:\n",
        "    l.append(funcion(i))\n",
        "  return l\n",
        "\n",
        "def sumar2(x):\n",
        "  return x+2\n",
        "\n",
        "num=[1,2,3,4,5]\n",
        "print(funcionlista(sumar2,num))"
      ]
    },
    {
      "cell_type": "markdown",
      "metadata": {
        "id": "2ogI_GBpKGRY"
      },
      "source": [
        "# Ejercicio 4"
      ]
    },
    {
      "cell_type": "markdown",
      "metadata": {
        "id": "9sWt0xAvKGRZ"
      },
      "source": [
        "Escribir una función que reciba otra función booleana y una lista, y devuelva otra lista con los elementos de la lista que devuelvan True al aplicarles la función booleana."
      ]
    },
    {
      "cell_type": "code",
      "execution_count": null,
      "metadata": {
        "colab": {
          "base_uri": "https://localhost:8080/"
        },
        "id": "exVFVivJKGRa",
        "outputId": "ea9aacee-1495-4eb7-ccba-5ab31f5f229b"
      },
      "outputs": [
        {
          "output_type": "stream",
          "name": "stdout",
          "text": [
            "[6, 7]\n"
          ]
        }
      ],
      "source": [
        "def esboolean(funcion,lista):\n",
        "  l=[]\n",
        "  for i in lista:\n",
        "    if funcion(i):\n",
        "      l.append(i)\n",
        "  return l\n",
        "\n",
        "def mayor_que_5(x):\n",
        "  if x>5:\n",
        "    return x\n",
        "num=[4,3,5,6,7]\n",
        "print(esboolean(mayor_que_5,num))"
      ]
    },
    {
      "cell_type": "markdown",
      "metadata": {
        "id": "P5WDws-9KGRa"
      },
      "source": [
        "# Ejercicio 5"
      ]
    },
    {
      "cell_type": "markdown",
      "metadata": {
        "id": "QKfjuef2KGRa"
      },
      "source": [
        "Escribir una función que reciba una frase y devuelva un diccionario con las palabras que contiene y su longitud."
      ]
    },
    {
      "cell_type": "code",
      "execution_count": null,
      "metadata": {
        "colab": {
          "base_uri": "https://localhost:8080/"
        },
        "id": "NSc_FaWQKGRb",
        "outputId": "e9c0a90f-2e8e-478a-dac2-5b18aa29c479"
      },
      "outputs": [
        {
          "output_type": "stream",
          "name": "stdout",
          "text": [
            "{'Bootcamp': 8, 'ingenieria': 10, 'de': 2, 'datos': 5}\n"
          ]
        }
      ],
      "source": [
        "def diccionario(frase):\n",
        "  f=frase.split() # divide la frase en palabras\n",
        "  longitud= map(len,f) #cantidad de casillas del diccionario\n",
        "  return dict(zip(f,longitud)) #arma el diccionario con los datos \n",
        "\n",
        "print(diccionario(\"Bootcamp ingenieria de datos\"))\n"
      ]
    },
    {
      "cell_type": "markdown",
      "source": [
        ""
      ],
      "metadata": {
        "id": "YVTk8aqwSCxn"
      }
    },
    {
      "cell_type": "markdown",
      "metadata": {
        "id": "9C4Ve_8JKGRb"
      },
      "source": [
        "# Ejercicio 6"
      ]
    },
    {
      "cell_type": "markdown",
      "metadata": {
        "id": "GFVM1KJbKGRc"
      },
      "source": [
        "Escribir una función reciba una lista de notas decimales y devuelva la lista de calificaciones (aprobado/reprobado) correspondientes a esas notas."
      ]
    },
    {
      "cell_type": "code",
      "execution_count": null,
      "metadata": {
        "id": "KthpLOfIKGRd"
      },
      "outputs": [],
      "source": [
        "def calificacion(nota):\n",
        "  if nota <4:\n",
        "    return 'Reprobado'\n",
        "  else:\n",
        "    return 'Aprobado'\n",
        "\n",
        "def tucalif(notas):\n",
        "  return list(map(calificacion,notas))\n",
        "\n",
        "miscalif=[6.5,3.2,6,5.4,1.8,6.9]\n",
        "print(tucalif(miscalif))"
      ]
    },
    {
      "cell_type": "markdown",
      "metadata": {
        "id": "_JVoiK0yKGRd"
      },
      "source": [
        "# Ejercicio 7"
      ]
    },
    {
      "cell_type": "markdown",
      "metadata": {
        "id": "5aqwuRRqKGRd"
      },
      "source": [
        "Escribir una función reciba un diccionario con las asignaturas y las notas de un alumno y devuelva otro diccionario con las asignaturas en mayúsculas y las calificaciones correspondientes a las notas."
      ]
    },
    {
      "cell_type": "code",
      "source": [
        "asignaturas = {\"matemáticas\":40, \"biologia\":45, \"fisica\":55, \"química\":70, \"historia\":35, \"lengua\":24}\n",
        "\n",
        "#print(asignaturas)\n",
        "\n",
        "def apro(asign):\n",
        "  aux = {}\n",
        "  for x in asign:\n",
        "    aux[x.upper()] = asign[x]\n",
        "  return aux\n",
        "\n",
        "print(apro(asignaturas))"
      ],
      "metadata": {
        "id": "Y1_fiqmgVQpr",
        "colab": {
          "base_uri": "https://localhost:8080/"
        },
        "outputId": "a2947de5-9547-4976-f175-ade587072a28"
      },
      "execution_count": null,
      "outputs": [
        {
          "output_type": "stream",
          "name": "stdout",
          "text": [
            "{'matemáticas': 40, 'biologia': 45, 'fisica': 55, 'química': 70, 'historia': 35, 'lengua': 24}\n",
            "{'MATEMÁTICAS': 40, 'BIOLOGIA': 45, 'FISICA': 55, 'QUÍMICA': 70, 'HISTORIA': 35, 'LENGUA': 24}\n"
          ]
        }
      ]
    },
    {
      "cell_type": "markdown",
      "metadata": {
        "id": "XtheTEZoKGRe"
      },
      "source": [
        "# Ejercicio 8"
      ]
    },
    {
      "cell_type": "markdown",
      "metadata": {
        "id": "OBCQxDH_KGRe"
      },
      "source": [
        "Escribir una función reciba un diccionario con las asignaturas y las notas de un alumno y devuelva otro diccionario con las asignaturas en mayúsculas y las calificaciones correspondientes a las notas aprobadas."
      ]
    },
    {
      "cell_type": "code",
      "execution_count": null,
      "metadata": {
        "id": "NPOp1-A6KGRf",
        "colab": {
          "base_uri": "https://localhost:8080/"
        },
        "outputId": "b01ab1ad-f170-4f1e-825a-bfb3d949c0ea"
      },
      "outputs": [
        {
          "output_type": "stream",
          "name": "stdout",
          "text": [
            "{'MATEMÁTICAS': 4.0, 'BIOLOGIA': 4.5, 'FISICA': 5.5, 'QUÍMICA': 7.0}\n"
          ]
        }
      ],
      "source": [
        "asignaturas = {\"matemáticas\":4.0, \"biologia\":4.5, \"fisica\":5.5, \"química\":7.0, \"historia\":3.5, \"lengua\":2.4}\n",
        "\n",
        "def apro(asign):\n",
        "  aux = {}\n",
        "  for x in asign.keys():\n",
        "    if asign[x] > 3.9:\n",
        "      aux[x.upper()] = asign[x]\n",
        "  return aux\n",
        "\n",
        "print(apro(asignaturas))"
      ]
    },
    {
      "cell_type": "markdown",
      "metadata": {
        "id": "HTLGUUtKKGRg"
      },
      "source": [
        "# Ejercicio 9"
      ]
    },
    {
      "cell_type": "markdown",
      "metadata": {
        "id": "wXBxe70XKGRg"
      },
      "source": [
        "Escribir una función que calcule el módulo de un vector."
      ]
    },
    {
      "cell_type": "code",
      "execution_count": null,
      "metadata": {
        "id": "9s9wGxSMKGRh",
        "colab": {
          "base_uri": "https://localhost:8080/"
        },
        "outputId": "dde6cf55-e768-465f-f099-904de6dd2569"
      },
      "outputs": [
        {
          "output_type": "stream",
          "name": "stdout",
          "text": [
            "Ingrese el valor del eje X del vector: 4\n",
            "Ingrese el valor del eje Y del vector: 3\n",
            "El modulo de este vector es: 5.0\n"
          ]
        }
      ],
      "source": [
        "Modulo= lambda x, y: ((x**2)+(y**2))**(1/2)\n",
        "try:\n",
        "  X = float(input(\"Ingrese el valor del eje X del vector: \"))\n",
        "  Y = float(input(\"Ingrese el valor del eje Y del vector: \"))\n",
        "  print(\"El modulo de este vector es:\", Modulo(X,Y))\n",
        "except ValueError:\n",
        "    print(\"Error en el ingreso del valor de número, debe ser entero, vuelve a intentar.\") "
      ]
    },
    {
      "cell_type": "markdown",
      "metadata": {
        "id": "6GsyrJ-OKGRh"
      },
      "source": [
        "# Ejercicio 10"
      ]
    },
    {
      "cell_type": "markdown",
      "metadata": {
        "id": "WjwsSxi0KGRh"
      },
      "source": [
        "Una inmobiliaria de una ciudad maneja una lista de inmuebles como la siguiente:\n",
        "\n",
        "<pre><code class=\"language-python\">[{'año': 2000, 'metros': 100, 'habitaciones': 3, 'garaje': True, 'zona': 'A'},\n",
        "{'año': 2012, 'metros': 60, 'habitaciones': 2, 'garaje': True, 'zona': 'B'},\n",
        "{'año': 1980, 'metros': 120, 'habitaciones': 4, 'garaje': False, 'zona': 'A'},\n",
        "{'año': 2005, 'metros': 75, 'habitaciones': 3, 'garaje': True, 'zona': 'B'},\n",
        "{'año': 2015, 'metros': 90, 'habitaciones': 2, 'garaje': False, 'zona': 'A'}]\n",
        "</code></pre>\n",
        "\n",
        "Construir una función que permita hacer búsqueda de inmuebles en función de un presupuesto dado. La función recibirá como entrada la lista de inmuebles y un precio, y devolverá otra lista con los inmuebles cuyo precio sea menor o igual que el dado. Los inmuebles de la lista que se devuelva deben incorporar un nuevo par a cada diccionario con el precio del inmueble, donde el precio de un inmueble se calcula con las siguiente fórmula en función de la zona:\n",
        "\n",
        "<ul>\n",
        "<li>Zona A: precio = (metros * 1000 + habitaciones * 5000 + garaje * 15000) * (1-antiguedad/100)</li>\n",
        "<li>Zona B: precio = (metros * 1000 + habitaciones * 5000 + garaje * 15000) * (1-antiguedad/100) * 1.5</li>\n",
        "</ul>"
      ]
    },
    {
      "cell_type": "code",
      "execution_count": 2,
      "metadata": {
        "id": "QvGDTD9aKGRi",
        "colab": {
          "base_uri": "https://localhost:8080/"
        },
        "outputId": "6a7a50c4-0e25-4ea4-9f16-cc341302172f"
      },
      "outputs": [
        {
          "output_type": "stream",
          "name": "stdout",
          "text": [
            "[{'año': 1980, 'metros': 120, 'habitaciones': 4, 'garaje': False, 'zona': 'A', 'precio': 84000.0}, {'año': 2015, 'metros': 90, 'habitaciones': 2, 'garaje': False, 'zona': 'A', 'precio': 95000.0}]\n"
          ]
        }
      ],
      "source": [
        "calculo = lambda piso: (piso['metros'] * 1000 + piso['habitaciones'] * 5000 + int(piso['garaje']) * 15000) * (1 - (2020 - piso['año']) / 100)\n",
        "inmuebles = [{'año': 2000, 'metros': 100, 'habitaciones': 3, 'garaje': True, 'zona': 'A'}, {'año': 2012, 'metros': 60, 'habitaciones': 2, 'garaje': True, 'zona': 'B'}, \n",
        "             {'año': 1980, 'metros': 120, 'habitaciones': 4, 'garaje': False, 'zona': 'A'}, {'año': 2005, 'metros': 75, 'habitaciones': 3, 'garaje': True, 'zona': 'B'}, \n",
        "             {'año': 2015, 'metros': 90, 'habitaciones': 2, 'garaje': False, 'zona': 'A'}]\n",
        "\n",
        "def agregar_precio(piso):\n",
        "    precio = calculo(piso)\n",
        "    if piso['zona'] == 'B':\n",
        "        precio *= 1.5\n",
        "    piso['precio'] = precio\n",
        "    return piso\n",
        "\n",
        "def busca_inmueble(inmuebles, presupuesto):\n",
        "    def filtro(piso):\n",
        "        return piso['precio'] <= presupuesto\n",
        "    return list(filter(filtro,map(agregar_precio, inmuebles)))\n",
        "\n",
        "print(busca_inmueble(inmuebles, 100000))"
      ]
    },
    {
      "cell_type": "markdown",
      "metadata": {
        "id": "huNqPWX9KGRj"
      },
      "source": [
        "# Ejercicio 11"
      ]
    },
    {
      "cell_type": "markdown",
      "metadata": {
        "id": "ucNiXgCQKGRk"
      },
      "source": [
        "Escribir una función que reciba una muestra de números y devuelva los valores atípicos, es decir, los valores cuya puntuación típica sea mayor que 3 o menor que -3. \n",
        "\n",
        "**Nota**: La puntuación típica de un valor se obtiene restando la media y dividiendo por la desviación típica de la muestra."
      ]
    },
    {
      "cell_type": "code",
      "execution_count": null,
      "metadata": {
        "id": "4-b5f7TrKGRl",
        "colab": {
          "base_uri": "https://localhost:8080/"
        },
        "outputId": "2651960d-894f-4750-f4a6-4e3de18496b9"
      },
      "outputs": [
        {
          "output_type": "stream",
          "name": "stdout",
          "text": [
            "[910]\n"
          ]
        }
      ],
      "source": [
        "#para ocupar las funciones de media mean y desviacion stdev importamos la libreria statistics\n",
        "from statistics import mean, stdev\n",
        "\n",
        "def atipicos(numeros):\n",
        "  media=mean(numeros)\n",
        "  desv=stdev(numeros)\n",
        "  def puntuacion(n): #para calcular la puntuacion tipica por cada numero de la muestra\n",
        "    p=(n-media)/desv\n",
        "    if p>3 or p<-3:\n",
        "      return p \n",
        "  return puntuacion\n",
        "\n",
        "def esatipico(muestra):\n",
        "  return list(filter(atipicos(muestra), muestra))\n",
        "\n",
        "m=[2,2,3,5,4,8,60,50,20,20,910,12]\n",
        "print(esatipico(m))"
      ]
    }
  ],
  "metadata": {
    "kernelspec": {
      "display_name": "Python 3",
      "language": "python",
      "name": "python3"
    },
    "language_info": {
      "codemirror_mode": {
        "name": "ipython",
        "version": 3
      },
      "file_extension": ".py",
      "mimetype": "text/x-python",
      "name": "python",
      "nbconvert_exporter": "python",
      "pygments_lexer": "ipython3",
      "version": "3.6.9"
    },
    "colab": {
      "name": "Ejercitación 2.2 - Programacion-Funcional.ipynb",
      "provenance": [],
      "collapsed_sections": []
    }
  },
  "nbformat": 4,
  "nbformat_minor": 0
}