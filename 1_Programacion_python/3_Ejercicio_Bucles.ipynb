{
  "cells": [
    {
      "cell_type": "markdown",
      "metadata": {
        "id": "qFYp_M-pnw1c"
      },
      "source": [
        "# Ejercicios de Bucles"
      ]
    },
    {
      "cell_type": "markdown",
      "metadata": {
        "id": "SXFRkQ3Gnw1o"
      },
      "source": [
        "## Ejercicio 1"
      ]
    },
    {
      "cell_type": "markdown",
      "metadata": {
        "id": "a1e0md_Mnw1q"
      },
      "source": [
        "Escribir un programa que pida al usuario una palabra y la muestre por pantalla 10 veces."
      ]
    },
    {
      "cell_type": "code",
      "execution_count": null,
      "metadata": {
        "colab": {
          "base_uri": "https://localhost:8080/"
        },
        "id": "W_R5TnGVnw1s",
        "outputId": "1f80d254-7629-480e-f18e-ecce6f57b20a"
      },
      "outputs": [
        {
          "output_type": "stream",
          "name": "stdout",
          "text": [
            "Ingrese una palabra: hola\n",
            "hola\n",
            "hola\n",
            "hola\n",
            "hola\n",
            "hola\n",
            "hola\n",
            "hola\n",
            "hola\n",
            "hola\n",
            "hola\n"
          ]
        }
      ],
      "source": [
        "palabra = input(\"Ingrese una palabra: \")\n",
        "for i in range (1, 11):\n",
        "  print(palabra)"
      ]
    },
    {
      "cell_type": "markdown",
      "metadata": {
        "id": "yKHrkNuRnw1t"
      },
      "source": [
        "## Ejercicio 2"
      ]
    },
    {
      "cell_type": "markdown",
      "metadata": {
        "id": "jk0nuwF5nw1v"
      },
      "source": [
        "Escribir un programa que pregunte al usuario su edad y muestre por pantalla todos los años que ha cumplido (desde 1 hasta su edad)."
      ]
    },
    {
      "cell_type": "code",
      "execution_count": null,
      "metadata": {
        "colab": {
          "base_uri": "https://localhost:8080/"
        },
        "id": "cn0gmt-Rnw1w",
        "outputId": "f9581de1-a08d-4e6f-8d64-c4ad1880af41"
      },
      "outputs": [
        {
          "output_type": "stream",
          "name": "stdout",
          "text": [
            "Ingrese su edad: 7\n",
            "Estas son todos los años que has cumplido \n",
            "\n",
            "1\n",
            "2\n",
            "3\n",
            "4\n",
            "5\n",
            "6\n",
            "7\n"
          ]
        }
      ],
      "source": [
        "try:\n",
        "  edad = abs(int(input(\"Ingrese su edad: \")))\n",
        "  i = 1\n",
        "  print(\"Estas son todos los años que has cumplido \\n\")\n",
        "  while (i<= edad):\n",
        "    print(i)\n",
        "    i+=1\n",
        "except ValueError:\n",
        "  print(\"Error en el ingreso de valores, debe ser entero o decimal, vuelve a intentar.\")"
      ]
    },
    {
      "cell_type": "markdown",
      "metadata": {
        "id": "sCUEFc07nw1x"
      },
      "source": [
        "## Ejercicio 3"
      ]
    },
    {
      "cell_type": "markdown",
      "metadata": {
        "id": "SPX_4VqGnw1z"
      },
      "source": [
        "Escribir un programa que pida al usuario un número entero positivo y muestre por pantalla todos los números impares desde 1 hasta ese número separados por comas."
      ]
    },
    {
      "cell_type": "code",
      "execution_count": null,
      "metadata": {
        "colab": {
          "base_uri": "https://localhost:8080/"
        },
        "id": "38TP-jQcnw11",
        "outputId": "7dbe8826-375e-430e-a44a-be9565ede19b"
      },
      "outputs": [
        {
          "output_type": "stream",
          "name": "stdout",
          "text": [
            "Ingrese el número entero positivo (negativo se omitirá): 9\n",
            "Los primeros números impares: 1,3,5,7,9\n"
          ]
        }
      ],
      "source": [
        "try:\n",
        "  numero = abs(int(input(\"Ingrese el número entero positivo (negativo se omitirá): \")))\n",
        "  i=1\n",
        "  cadena = ''\n",
        "  while(i<=numero):\n",
        "    cadena += str(i)\n",
        "    i+=2\n",
        "    if(i <= numero): #Se verifica si se debe agregar más números\n",
        "      cadena += \",\"\n",
        "  print(\"Los primeros números impares:\", cadena)\n",
        "except ValueError:\n",
        "  print(\"Error en el ingreso de valores, debe ser entero o decimal, vuelve a intentar.\")"
      ]
    },
    {
      "cell_type": "markdown",
      "metadata": {
        "id": "WlmBK_KInw12"
      },
      "source": [
        "## Ejercicio 4"
      ]
    },
    {
      "cell_type": "markdown",
      "metadata": {
        "id": "38PCHiABnw13"
      },
      "source": [
        "Escribir un programa que pida al usuario un número entero positivo y muestre por pantalla la cuenta atrás desde ese número hasta cero separados por comas."
      ]
    },
    {
      "cell_type": "code",
      "execution_count": null,
      "metadata": {
        "colab": {
          "base_uri": "https://localhost:8080/"
        },
        "id": "brqJGwJTnw15",
        "outputId": "9907decb-81c9-496a-d863-4f1acc3e1ca9"
      },
      "outputs": [
        {
          "output_type": "stream",
          "name": "stdout",
          "text": [
            "Ingrese un numero: 7\n",
            "7,6,5,4,3,2,1,0\n"
          ]
        }
      ],
      "source": [
        "try:\n",
        "  numero = abs(int(input(\"Ingrese un numero: \")))\n",
        "  cadena = str(numero)\n",
        "  for i in range(numero-1, -1, -1):\n",
        "    cadena += \",\" + str(i)\n",
        "  print(cadena)\n",
        "except ValueError:\n",
        "  print(\"Error en el ingreso de valores, debe ser entero o decimal, vuelve a intentar.\")"
      ]
    },
    {
      "cell_type": "markdown",
      "metadata": {
        "id": "Q9vfT5Prnw16"
      },
      "source": [
        "## Ejercicio 5"
      ]
    },
    {
      "cell_type": "markdown",
      "metadata": {
        "id": "tMdFKNErnw17"
      },
      "source": [
        "Escribir un programa que pregunte al usuario una cantidad a invertir, el interés anual y el número de años, y muestre por pantalla el capital obtenido en la inversión cada año que dura la inversión."
      ]
    },
    {
      "cell_type": "code",
      "execution_count": null,
      "metadata": {
        "colab": {
          "base_uri": "https://localhost:8080/"
        },
        "id": "hc0V4UoQnw18",
        "outputId": "2fce8e52-9b21-496a-dc1a-3e07b6193cf8"
      },
      "outputs": [
        {
          "output_type": "stream",
          "name": "stdout",
          "text": [
            "Ingrese una cantidad de dinero a invertir: 5000\n",
            "Ingrese el interés anual en decimal: 0.1\n",
            "Ingrese el número de años: 3\n",
            "El capital obtenido en la inversión, del año 1 es $5500.0\n",
            "El capital obtenido en la inversión, del año 2 es $6050.0\n",
            "El capital obtenido en la inversión, del año 3 es $6655.0\n"
          ]
        }
      ],
      "source": [
        "# Fórmula utilizada: M = C × (1 + i)^n, donde:\n",
        "# M = Capital\n",
        "# C = Cantidad de dinero a invertir\n",
        "# i = Interés anual\n",
        "# n = Número de años\n",
        "# Para todos los datos, se asegura que sean números positivos\n",
        "try:\n",
        "  C=abs(float(input(\"Ingrese una cantidad de dinero a invertir: \")))\n",
        "  i=abs(float(input(\"Ingrese el interés anual en decimal: \")))\n",
        "  year=abs(int(input(\"Ingrese el número de años: \"))) # Para este caso, se debe ingresar un número entero\n",
        "  for n in range(1, year+1):  \n",
        "    M = C*((1 + i)**n)\n",
        "    print(\"El capital obtenido en la inversión, del año \" + str(n) + \" es $\" + str(round(M, 3))) #Se redondea con 3 decimales\n",
        "except ValueError:\n",
        "  print(\"Error en el ingreso en uno de los valores, vuelve a intentar.\")"
      ]
    },
    {
      "cell_type": "markdown",
      "metadata": {
        "id": "gVA7E4WXnw19"
      },
      "source": [
        "## Ejercicio 6"
      ]
    },
    {
      "cell_type": "markdown",
      "metadata": {
        "id": "TfR2Iik0nw19"
      },
      "source": [
        "Escribir un programa que pida al usuario un número entero y muestre por pantalla un triángulo rectángulo como el de más abajo, de altura el número introducido.\n",
        "<pre><code>*\n",
        "**\n",
        "***\n",
        "****\n",
        "*****\n",
        "</code></pre>"
      ]
    },
    {
      "cell_type": "code",
      "execution_count": null,
      "metadata": {
        "colab": {
          "base_uri": "https://localhost:8080/"
        },
        "id": "xdEwNl5Gnw1_",
        "outputId": "eccf144a-b039-4443-9d8e-a12265531b91"
      },
      "outputs": [
        {
          "output_type": "stream",
          "name": "stdout",
          "text": [
            "Ingrese un numero: 5\n",
            "*\n",
            "**\n",
            "***\n",
            "****\n",
            "*****\n"
          ]
        }
      ],
      "source": [
        "try:\n",
        "  numero = int(input(\"Ingrese un numero: \"))\n",
        "  for i in range(1, numero+1):\n",
        "    print(\"*\"*i)\n",
        "except ValueError:\n",
        "  print(\"Error en el ingreso de valores, debe ser entero o decimal, vuelve a intentar.\")"
      ]
    },
    {
      "cell_type": "markdown",
      "metadata": {
        "id": "WnQnk3w_nw2A"
      },
      "source": [
        "## Ejercicio 7"
      ]
    },
    {
      "cell_type": "markdown",
      "metadata": {
        "id": "7CvvlqGHnw2B"
      },
      "source": [
        "Escribir un programa que muestre por pantalla la tabla de multiplicar del 1 al 10."
      ]
    },
    {
      "cell_type": "code",
      "execution_count": null,
      "metadata": {
        "colab": {
          "base_uri": "https://localhost:8080/"
        },
        "id": "BJ7Vlr-Mnw2B",
        "outputId": "e660eadd-ee45-4bae-8aae-da85f141e3ec"
      },
      "outputs": [
        {
          "output_type": "stream",
          "name": "stdout",
          "text": [
            "1 x 1 = 1\n",
            "1 x 2 = 2\n",
            "1 x 3 = 3\n",
            "1 x 4 = 4\n",
            "1 x 5 = 5\n",
            "1 x 6 = 6\n",
            "1 x 7 = 7\n",
            "1 x 8 = 8\n",
            "1 x 9 = 9\n",
            "1 x 10 = 10\n",
            "2 x 1 = 2\n",
            "2 x 2 = 4\n",
            "2 x 3 = 6\n",
            "2 x 4 = 8\n",
            "2 x 5 = 10\n",
            "2 x 6 = 12\n",
            "2 x 7 = 14\n",
            "2 x 8 = 16\n",
            "2 x 9 = 18\n",
            "2 x 10 = 20\n",
            "3 x 1 = 3\n",
            "3 x 2 = 6\n",
            "3 x 3 = 9\n",
            "3 x 4 = 12\n",
            "3 x 5 = 15\n",
            "3 x 6 = 18\n",
            "3 x 7 = 21\n",
            "3 x 8 = 24\n",
            "3 x 9 = 27\n",
            "3 x 10 = 30\n",
            "4 x 1 = 4\n",
            "4 x 2 = 8\n",
            "4 x 3 = 12\n",
            "4 x 4 = 16\n",
            "4 x 5 = 20\n",
            "4 x 6 = 24\n",
            "4 x 7 = 28\n",
            "4 x 8 = 32\n",
            "4 x 9 = 36\n",
            "4 x 10 = 40\n",
            "5 x 1 = 5\n",
            "5 x 2 = 10\n",
            "5 x 3 = 15\n",
            "5 x 4 = 20\n",
            "5 x 5 = 25\n",
            "5 x 6 = 30\n",
            "5 x 7 = 35\n",
            "5 x 8 = 40\n",
            "5 x 9 = 45\n",
            "5 x 10 = 50\n",
            "6 x 1 = 6\n",
            "6 x 2 = 12\n",
            "6 x 3 = 18\n",
            "6 x 4 = 24\n",
            "6 x 5 = 30\n",
            "6 x 6 = 36\n",
            "6 x 7 = 42\n",
            "6 x 8 = 48\n",
            "6 x 9 = 54\n",
            "6 x 10 = 60\n",
            "7 x 1 = 7\n",
            "7 x 2 = 14\n",
            "7 x 3 = 21\n",
            "7 x 4 = 28\n",
            "7 x 5 = 35\n",
            "7 x 6 = 42\n",
            "7 x 7 = 49\n",
            "7 x 8 = 56\n",
            "7 x 9 = 63\n",
            "7 x 10 = 70\n",
            "8 x 1 = 8\n",
            "8 x 2 = 16\n",
            "8 x 3 = 24\n",
            "8 x 4 = 32\n",
            "8 x 5 = 40\n",
            "8 x 6 = 48\n",
            "8 x 7 = 56\n",
            "8 x 8 = 64\n",
            "8 x 9 = 72\n",
            "8 x 10 = 80\n",
            "9 x 1 = 9\n",
            "9 x 2 = 18\n",
            "9 x 3 = 27\n",
            "9 x 4 = 36\n",
            "9 x 5 = 45\n",
            "9 x 6 = 54\n",
            "9 x 7 = 63\n",
            "9 x 8 = 72\n",
            "9 x 9 = 81\n",
            "9 x 10 = 90\n",
            "10 x 1 = 10\n",
            "10 x 2 = 20\n",
            "10 x 3 = 30\n",
            "10 x 4 = 40\n",
            "10 x 5 = 50\n",
            "10 x 6 = 60\n",
            "10 x 7 = 70\n",
            "10 x 8 = 80\n",
            "10 x 9 = 90\n",
            "10 x 10 = 100\n"
          ]
        }
      ],
      "source": [
        "for i in range(1, 11):\n",
        "  for j in range(1, 11):\n",
        "    print(i, \"x\", j, \"=\", j*i)"
      ]
    },
    {
      "cell_type": "markdown",
      "metadata": {
        "id": "AabCE2Gxnw2C"
      },
      "source": [
        "## Ejercicio 8"
      ]
    },
    {
      "cell_type": "markdown",
      "metadata": {
        "id": "DH6jBeM_nw2C"
      },
      "source": [
        "Escribir un programa que pida al usuario un número entero y muestre por pantalla un triángulo rectángulo como el de más abajo.\n",
        "<pre><code>1\n",
        "3 1\n",
        "5 3 1\n",
        "7 5 3 1\n",
        "9 7 5 3 1\n",
        "</code></pre>"
      ]
    },
    {
      "cell_type": "code",
      "execution_count": null,
      "metadata": {
        "colab": {
          "base_uri": "https://localhost:8080/"
        },
        "id": "2t_TMckmnw2D",
        "outputId": "9b0afb9b-aa9f-4ad1-f77d-104c5a37b21d"
      },
      "outputs": [
        {
          "output_type": "stream",
          "name": "stdout",
          "text": [
            "Ingrese un numero: 5\n",
            "1 \n",
            "3 1 \n",
            "5 3 1 \n",
            "7 5 3 1 \n",
            "9 7 5 3 1 \n"
          ]
        }
      ],
      "source": [
        "def sequencia(n):\n",
        "  for i in range(1, n+1, 1):\n",
        "    cadena = \"\"\n",
        "    for j in range (i, 0, -1):\n",
        "      cadena+= str(2*j-1) + \" \"\n",
        "\n",
        "    print(cadena) \n",
        "try:\n",
        "  numero = int(input(\"Ingrese un numero: \"))\n",
        "  sequencia(numero)\n",
        "    \n",
        "except ValueError:\n",
        "  print(\"Error en el ingreso de valores, debe ser entero o decimal, vuelve a intentar.\")"
      ]
    },
    {
      "cell_type": "markdown",
      "metadata": {
        "id": "t0XK4kVtnw2E"
      },
      "source": [
        "## Ejercicio 9"
      ]
    },
    {
      "cell_type": "markdown",
      "metadata": {
        "id": "FXwsU5_Anw2E"
      },
      "source": [
        "Escribir un programa que almacene la cadena de caracteres <font color=#B40431>contraseña</font> en una variable, pregunte al usuario por la contraseña hasta que introduzca la contraseña correcta."
      ]
    },
    {
      "cell_type": "code",
      "execution_count": null,
      "metadata": {
        "colab": {
          "base_uri": "https://localhost:8080/"
        },
        "id": "5Aa0CJolnw2F",
        "outputId": "a25b1d28-3ed0-4c8e-e979-e26051000cb3"
      },
      "outputs": [
        {
          "output_type": "stream",
          "name": "stdout",
          "text": [
            "Ingrese una contraseña: Academia3.4\n",
            "Contraseña correcta.\n"
          ]
        }
      ],
      "source": [
        "#Dado que aqui, se debe utilizar el bucle for\n",
        "x = \"Academia3.4\"\n",
        "y = input(\"Ingrese una contraseña: \")\n",
        "if(len(y)!= len(x)):\n",
        "  print(\"Contraseña incorrecta.\")\n",
        "else:\n",
        "  switch = 0\n",
        "  for i in range (0, len(y)):\n",
        "    if(x[i] != y[i]):\n",
        "      switch = 1\n",
        "  if(switch == 1):\n",
        "    print(\"Contraseña incorrecta.\")\n",
        "  else:\n",
        "    print(\"Contraseña correcta.\")"
      ]
    },
    {
      "cell_type": "markdown",
      "metadata": {
        "id": "1rm2rGyKnw2G"
      },
      "source": [
        "## Ejercicio 10"
      ]
    },
    {
      "cell_type": "markdown",
      "metadata": {
        "id": "QZHH6T6_nw2G"
      },
      "source": [
        "Escribir un programa que pida al usuario un número entero y muestre por pantalla si es un número primo o no."
      ]
    },
    {
      "cell_type": "code",
      "execution_count": null,
      "metadata": {
        "colab": {
          "base_uri": "https://localhost:8080/"
        },
        "id": "haMgfMEdnw2H",
        "outputId": "13c23055-d52b-48a9-fdcf-4e24b01ae6dc"
      },
      "outputs": [
        {
          "output_type": "stream",
          "name": "stdout",
          "text": [
            "Ingrese un numero: 13\n",
            "El numero ingresado es primo.\n"
          ]
        }
      ],
      "source": [
        "def es_primo(numero):\n",
        "  for n in range(2, numero):\n",
        "    if(numero % n == 0):\n",
        "      return False\n",
        "  return True\n",
        "\n",
        "try:\n",
        "  numero = int(input(\"Ingrese un numero: \"))\n",
        "  if(es_primo(numero)):\n",
        "    print(\"El numero ingresado es primo.\")\n",
        "  else:\n",
        "    print(\"El numero ingresado no es primo.\")\n",
        "    \n",
        "except ValueError:\n",
        "  print(\"Error en el ingreso de valores, debe ser entero o decimal, vuelve a intentar.\")"
      ]
    },
    {
      "cell_type": "markdown",
      "metadata": {
        "id": "Og3_NUDtnw2H"
      },
      "source": [
        "## Ejercicio 11"
      ]
    },
    {
      "cell_type": "markdown",
      "metadata": {
        "id": "OWiGMUbKnw2I"
      },
      "source": [
        "Escribir un programa que pida al usuario una palabra y luego muestre por pantalla una a una las letras de la palabra introducida empezando por la última."
      ]
    },
    {
      "cell_type": "code",
      "execution_count": null,
      "metadata": {
        "colab": {
          "base_uri": "https://localhost:8080/"
        },
        "id": "6QiQL6q8nw2J",
        "outputId": "95b2de3a-f811-4b43-9e9e-baee04a78060"
      },
      "outputs": [
        {
          "output_type": "stream",
          "name": "stdout",
          "text": [
            "Ingrese una palabra: sebastian\n",
            "Palabra al reves, naitsabes\n"
          ]
        }
      ],
      "source": [
        "palabra = input(\"Ingrese una palabra: \")\n",
        "cadena = \"\"\n",
        "for i in range(len(palabra)-1, -1, -1):\n",
        "  cadena+=palabra[i]\n",
        "print(\"Palabra al reves,\", cadena)"
      ]
    },
    {
      "cell_type": "markdown",
      "metadata": {
        "id": "spMnt2o3nw2J"
      },
      "source": [
        "## Ejercicio 12"
      ]
    },
    {
      "cell_type": "markdown",
      "metadata": {
        "id": "XTMf_rqVnw2K"
      },
      "source": [
        "Escribir un programa en el que se pregunte al usuario por una frase y una letra, y muestre por pantalla el número de veces que aparece la letra en la frase."
      ]
    },
    {
      "cell_type": "code",
      "execution_count": null,
      "metadata": {
        "colab": {
          "base_uri": "https://localhost:8080/"
        },
        "id": "k6fHnJEtnw2L",
        "outputId": "f27afc58-aa5f-4274-9b98-b83108e05b11"
      },
      "outputs": [
        {
          "output_type": "stream",
          "name": "stdout",
          "text": [
            "Ingrese una frase: sebastian sigue aprendiendo\n",
            "Ingrese una letra: a\n",
            "La cantidad de letra a es 3\n"
          ]
        }
      ],
      "source": [
        "frase = input(\"Ingrese una frase: \")\n",
        "letra = input(\"Ingrese una letra: \")\n",
        "cont=0\n",
        "for i in range(0, len(frase)):\n",
        "  if(letra==frase[i]):\n",
        "    cont+=1\n",
        "print(\"La cantidad de letra\", letra, \"es\", cont)"
      ]
    },
    {
      "cell_type": "markdown",
      "metadata": {
        "id": "XhxdROzDnw2L"
      },
      "source": [
        "## Ejercicio 13"
      ]
    },
    {
      "cell_type": "markdown",
      "metadata": {
        "id": "_stQFz9Wnw2L"
      },
      "source": [
        "Escribir un programa que muestre el eco de todo lo que el usuario introduzca hasta que el usuario escriba “salir” que terminará."
      ]
    },
    {
      "cell_type": "code",
      "execution_count": null,
      "metadata": {
        "colab": {
          "base_uri": "https://localhost:8080/"
        },
        "id": "JcFAkz4nnw2M",
        "outputId": "bac4e1b7-64cd-442d-c0c6-eef194f58db5"
      },
      "outputs": [
        {
          "name": "stdout",
          "output_type": "stream",
          "text": [
            "Ingrese 'salir' tal cual: d\n",
            "Ingrese 'salir' tal cual: 23\n",
            "Ingrese 'salir' tal cual: Salir\n",
            "Ingrese 'salir' tal cual: SALIR\n",
            "Ingrese 'salir' tal cual: salir\n"
          ]
        }
      ],
      "source": [
        "switch = 1\n",
        "while(switch == 1):\n",
        "  salida = input(\"Ingrese 'salir' tal cual: \")\n",
        "  if(salida == \"salir\"):\n",
        "    switch = 0"
      ]
    }
  ],
  "metadata": {
    "kernelspec": {
      "display_name": "Python 3",
      "language": "python",
      "name": "python3"
    },
    "language_info": {
      "codemirror_mode": {
        "name": "ipython",
        "version": 3
      },
      "file_extension": ".py",
      "mimetype": "text/x-python",
      "name": "python",
      "nbconvert_exporter": "python",
      "pygments_lexer": "ipython3",
      "version": "3.6.9"
    },
    "colab": {
      "name": "Ejercitación 1.3 - Bucles.ipynb",
      "provenance": []
    }
  },
  "nbformat": 4,
  "nbformat_minor": 0
}