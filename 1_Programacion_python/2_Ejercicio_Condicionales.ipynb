{
  "cells": [
    {
      "cell_type": "markdown",
      "metadata": {
        "id": "0i_FEVrcLgYn"
      },
      "source": [
        "# Ejercicios de Condicionales"
      ]
    },
    {
      "cell_type": "markdown",
      "metadata": {
        "id": "BIjTss-DLgY4"
      },
      "source": [
        "## Ejercicio 1"
      ]
    },
    {
      "cell_type": "markdown",
      "metadata": {
        "id": "O5PV1nH2LgY6"
      },
      "source": [
        "Escribir un programa que pregunte al usuario su edad y muestre por pantalla si es mayor de edad o no."
      ]
    },
    {
      "cell_type": "code",
      "execution_count": null,
      "metadata": {
        "colab": {
          "base_uri": "https://localhost:8080/"
        },
        "id": "PkAW96o9LgY7",
        "outputId": "530e9c6e-6387-4117-8706-3066939663d8"
      },
      "outputs": [
        {
          "output_type": "stream",
          "name": "stdout",
          "text": [
            "Ingrese su edad, usuario: 65\n",
            "Según la edad ingresada, usted es mayor y corresponde a la tercera edad.\n"
          ]
        }
      ],
      "source": [
        "try:\n",
        "  edad = int(input(\"Ingrese su edad, usuario: \"))\n",
        "  if(edad>=18 and edad<65):\n",
        "    print(\"Según la edad ingresada, usted es mayor de edad.\")\n",
        "  elif(edad>=65):\n",
        "    print(\"Según la edad ingresada, usted es mayor y corresponde a la tercera edad.\")\n",
        "  else:\n",
        "    print(\"Según la edad ingresada, usted es menor de edad.\")\n",
        "\n",
        "except ValueError:\n",
        "  print(\"Error en el ingreso de valores, debe ser entero o decimal, vuelve a intentar.\")"
      ]
    },
    {
      "cell_type": "markdown",
      "metadata": {
        "id": "-uTkQsmbLgY9"
      },
      "source": [
        "## Ejercicio 2"
      ]
    },
    {
      "cell_type": "markdown",
      "metadata": {
        "id": "jdS31BQcLgY_"
      },
      "source": [
        "Escribir un programa que almacene la cadena de caracteres <font color=#B40431>contraseña</font> en una variable, pregunte al usuario por la contraseña e imprima por pantalla si la contraseña introducida por el usuario coincide con la guardada en la variable sin tener en cuenta mayúsculas y minúsculas."
      ]
    },
    {
      "cell_type": "code",
      "execution_count": null,
      "metadata": {
        "colab": {
          "base_uri": "https://localhost:8080/"
        },
        "id": "FxGDzWG-LgZA",
        "outputId": "66ec6ad3-7334-42d1-c8fe-f46a640cd9f3"
      },
      "outputs": [
        {
          "output_type": "stream",
          "name": "stdout",
          "text": [
            "Ingrese una contraseña: Academia3.4\n",
            "Contraseña correcta.\n"
          ]
        }
      ],
      "source": [
        "x = \"Academia3.4\"\n",
        "y = input(\"Ingrese una contraseña: \")\n",
        "if(x == y):\n",
        "  print(\"Contraseña correcta.\")\n",
        "else:\n",
        "  print(\"Contraseña incorrecta.\")"
      ]
    },
    {
      "cell_type": "markdown",
      "metadata": {
        "id": "to0wnykkLgZC"
      },
      "source": [
        "## Ejercicio 3"
      ]
    },
    {
      "cell_type": "markdown",
      "metadata": {
        "id": "kUMlrl0eLgZE"
      },
      "source": [
        "Escribir un programa que pida al usuario dos números y muestre por pantalla su división. Si el divisor es cero el programa debe mostrar un error."
      ]
    },
    {
      "cell_type": "code",
      "execution_count": null,
      "metadata": {
        "colab": {
          "base_uri": "https://localhost:8080/"
        },
        "id": "slTfjYR8LgZF",
        "outputId": "120f2193-964b-4e7f-a6d1-c1bff5f17c69"
      },
      "outputs": [
        {
          "output_type": "stream",
          "name": "stdout",
          "text": [
            "Ingrese el número dividendo: 4\n",
            "Ingrese el número divisor: 3\n",
            "El resultado de la división es 1.333\n"
          ]
        }
      ],
      "source": [
        "try:\n",
        "  x = float(input(\"Ingrese el número dividendo: \"))\n",
        "  y = float(input(\"Ingrese el número divisor: \"))\n",
        "  r = round(x/y, 3)\n",
        "  print(\"El resultado de la división es\", r)\n",
        "except ZeroDivisionError:\n",
        "  print(\"Usted ingresó 0 al divisor o no has ingresado bien los valores, vuelve a intentar.\")"
      ]
    },
    {
      "cell_type": "markdown",
      "metadata": {
        "id": "NK2Hhr-3LgZH"
      },
      "source": [
        "## Ejercicio 4"
      ]
    },
    {
      "cell_type": "markdown",
      "metadata": {
        "id": "XL9bRVsLLgZJ"
      },
      "source": [
        "Escribir un programa que pida al usuario un número entero y muestre por pantalla si es par o impar."
      ]
    },
    {
      "cell_type": "code",
      "execution_count": null,
      "metadata": {
        "colab": {
          "base_uri": "https://localhost:8080/"
        },
        "id": "EwYjM6kzLgZK",
        "outputId": "81353425-667f-4df4-c510-9dc72bb2e98d"
      },
      "outputs": [
        {
          "output_type": "stream",
          "name": "stdout",
          "text": [
            "Ingrese un número: 224\n",
            "El número es par.\n"
          ]
        }
      ],
      "source": [
        "try:\n",
        "  x = float(input(\"Ingrese un número: \"))\n",
        "  if(x%2 == 0):\n",
        "    print(\"El número es par.\")\n",
        "  else:\n",
        "    print(\"El número es impar\")\n",
        "\n",
        "except ValueError:\n",
        "  print(\"Error en el ingreso de valores, debe ser entero o decimal, vuelve a intentar.\")"
      ]
    },
    {
      "cell_type": "markdown",
      "metadata": {
        "id": "_eeJy2IBLgZL"
      },
      "source": [
        "## Ejercicio 5"
      ]
    },
    {
      "cell_type": "markdown",
      "metadata": {
        "id": "4REDikvOLgZM"
      },
      "source": [
        "Para aplicar un determinado impuesto se debe ser mayor de 16 años y tener unos ingresos iguales o superiores a 10000 $ mensuales. Escribir un programa que pregunte al usuario su edad y sus ingresos mensuales y muestre por pantalla si el usuario tiene que pagar o no."
      ]
    },
    {
      "cell_type": "code",
      "execution_count": null,
      "metadata": {
        "colab": {
          "base_uri": "https://localhost:8080/"
        },
        "id": "JIvZT0z9LgZN",
        "outputId": "1ea94c32-2b42-439f-972f-2edc9bb57dfb"
      },
      "outputs": [
        {
          "output_type": "stream",
          "name": "stdout",
          "text": [
            "Ingrese la edad del usuario: 17\n",
            "Ingrese los ingresos mensuales del usuario: 10000\n",
            "El usuario debe pagar el impuesto.\n"
          ]
        }
      ],
      "source": [
        "try:\n",
        "  edad = int(input(\"Ingrese la edad del usuario: \"))\n",
        "  ingreso = float(input(\"Ingrese los ingresos mensuales del usuario: \"))\n",
        "  if(edad > 16 and ingreso >= 10000):\n",
        "    print(\"El usuario debe pagar el impuesto.\")\n",
        "  else:\n",
        "    print(\"El usuario no debe pagar el impuesto.\")\n",
        "except ValueError:\n",
        "  print(\"Error en el ingreso de valores, debe ser entero o decimal, vuelve a intentar.\")"
      ]
    },
    {
      "cell_type": "markdown",
      "metadata": {
        "id": "b6gAqg3gLgZN"
      },
      "source": [
        "## Ejercicio 6"
      ]
    },
    {
      "cell_type": "markdown",
      "metadata": {
        "id": "DDv4RXgrLgZO"
      },
      "source": [
        "Los alumnos de un curso se han dividido en dos grupos A y B de acuerdo al sexo y el nombre. El grupo A esta formado por las mujeres con un nombre anterior a la M y los hombres con un nombre posterior a la N y el grupo B por el resto. Escribir un programa que pregunte al usuario su nombre y sexo, y muestre por pantalla el grupo que le corresponde."
      ]
    },
    {
      "cell_type": "code",
      "execution_count": null,
      "metadata": {
        "colab": {
          "base_uri": "https://localhost:8080/"
        },
        "id": "_uzamf6qLgZP",
        "outputId": "1cede475-2423-4f32-aaf1-d38cba6380d3"
      },
      "outputs": [
        {
          "output_type": "stream",
          "name": "stdout",
          "text": [
            "Ingrese el nombre de la persona: Sara\n",
            "Ingrese el sexo de la persona, hombre(h o H) o mujer (m o M): m\n",
            "La persona pertenece al grupo B.\n"
          ]
        }
      ],
      "source": [
        "nombre = input(\"Ingrese el nombre de la persona: \").upper()\n",
        "sexo = input(\"Ingrese el sexo de la persona, hombre(h o H) o mujer (m o M): \").upper()\n",
        "if((nombre[0]<'M' and sexo == 'M') or (nombre[0]>'N' and sexo == 'H')):\n",
        "  print(\"La persona pertenece al grupo A.\")\n",
        "\n",
        "elif((nombre[0]>'M' and sexo == 'M') or (nombre[0]<'N' and sexo == 'H')):\n",
        "  print(\"La persona pertenece al grupo B.\")\n",
        "else:\n",
        "  print(\"El usuario no pertenece a ningún grupo, ya que es probable que no ha ingresado los valores correspondiente.\")"
      ]
    },
    {
      "cell_type": "markdown",
      "metadata": {
        "id": "kDEs4fT2LgZQ"
      },
      "source": [
        "## Ejercicio 7"
      ]
    },
    {
      "cell_type": "markdown",
      "metadata": {
        "id": "AKYGerEHLgZQ"
      },
      "source": [
        "Las franjas impositivas para la declaración de la renta en un determinado país son los siguientes:\n",
        "<table>\n",
        "<thead>\n",
        "<tr>\n",
        "<th style=\"text-align:center\">Renta en &#36;</th>\n",
        "<th style=\"text-align:center\">Impuesto </th>\n",
        "</tr>\n",
        "</thead>\n",
        "<tbody>\n",
        "<tr>\n",
        "<td style=\"text-align:center\">Menos de 10000</td>\n",
        "<td style=\"text-align:center\">5&#37; </td>\n",
        "</tr>\n",
        "<tr>\n",
        "<td style=\"text-align:center\">Entre 10000 y 20000</td>\n",
        "<td style=\"text-align:center\">15&#37;</td>\n",
        "</tr>\n",
        "<tr>\n",
        "<td style=\"text-align:center\">Entre 200000 y 35000 </td>\n",
        "<td style=\"text-align:center\">20&#37;</td>\n",
        "</tr>\n",
        "<tr>\n",
        "<td style=\"text-align:center\">Entre 350000 y 60000</td>\n",
        "<td style=\"text-align:center\">30&#37;</td>\n",
        "</tr>\n",
        "<tr>\n",
        "<td style=\"text-align:center\">Más de 60000</td>\n",
        "<td style=\"text-align:center\">45&#37;</td>\n",
        "</tr>\n",
        "</tbody>\n",
        "</table>\n",
        "Escribir un programa que pregunte al usuario su renta anual y muestre por pantalla el tipo impositivo que le corresponde."
      ]
    },
    {
      "cell_type": "code",
      "execution_count": null,
      "metadata": {
        "colab": {
          "base_uri": "https://localhost:8080/"
        },
        "id": "p2jRSqVZLgZU",
        "outputId": "6769765e-a843-4280-aedb-eabed5b64278"
      },
      "outputs": [
        {
          "output_type": "stream",
          "name": "stdout",
          "text": [
            "Ingrese el valor de la renta: 10000000\n",
            "Se le aplica 45% de impuesto, por lo que su renta es 5500000.0\n"
          ]
        }
      ],
      "source": [
        "try:\n",
        "  renta = float(input(\"Ingrese el valor de la renta: \")) \n",
        "  if(renta < 10000):\n",
        "    print(\"Se le aplica 5% de impuesto, por lo que su renta es\", renta - (renta*0.05))\n",
        "  elif(renta >= 10000 and renta < 20000):\n",
        "    print(\"Se le aplica 15% de impuesto, por lo que su renta es\", renta - (renta*0.15))\n",
        "  elif(renta >= 20000 and renta < 35000):\n",
        "    print(\"Se le aplica 20% de impuesto, por lo que su renta es\", renta - (renta*0.2))\n",
        "  elif(renta >= 35000 and renta < 60000):\n",
        "    print(\"Se le aplica 30% de impuesto, por lo que su renta es\", renta - (renta*0.3))\n",
        "  else:\n",
        "    print(\"Se le aplica 45% de impuesto, por lo que su renta es\", renta - (renta*0.45))\n",
        "\n",
        "except ValueError:\n",
        "  print(\"Error en el ingreso de valores, debe ser entero o decimal, vuelve a intentar.\")"
      ]
    },
    {
      "cell_type": "markdown",
      "metadata": {
        "id": "6pcXhhHFLgZU"
      },
      "source": [
        "## Ejercicio 8"
      ]
    },
    {
      "cell_type": "markdown",
      "metadata": {
        "id": "eKzEVRQWLgZV"
      },
      "source": [
        "En una determinada empresa, sus empleados son evaluados al final de cada año. Los puntos que pueden obtener en la evaluación comienzan en 0.0 y pueden ir aumentando, traduciéndose en mejores beneficios. Los puntos que pueden conseguir los empleados pueden ser 0.0, 0.4, 0.6 o más, pero no valores intermedios entre las cifras mencionadas. A continuación se muestra una tabla con los niveles correspondientes a cada puntuación. La cantidad de dinero conseguida en cada nivel es de 2500 $ multiplicada por la puntuación del nivel.\n",
        "\n",
        "<table>\n",
        "<thead>\n",
        "<tr>\n",
        "<th style=\"text-align:center\">Nivel</th>\n",
        "<th style=\"text-align:center\">Puntuación</th>\n",
        "</tr>\n",
        "</thead>\n",
        "<tbody>\n",
        "<tr>\n",
        "<td style=\"text-align:center\">Inaceptable</td>\n",
        "<td style=\"text-align:center\">0.0</td>\n",
        "</tr>\n",
        "<tr>\n",
        "<td style=\"text-align:center\">Aceptable</td>\n",
        "<td style=\"text-align:center\">0.4</td>\n",
        "</tr>\n",
        "<tr>\n",
        "<td style=\"text-align:center\">Meritorio</td>\n",
        "<td style=\"text-align:center\">0.6 o más</td>\n",
        "</tr>\n",
        "</tbody>\n",
        "</table>\n",
        "\n",
        "\n",
        "Escribir un programa que lea la puntuación del usuario e indique su nivel de rendimiento, así como la cantidad de dinero que recibirá el usuario."
      ]
    },
    {
      "cell_type": "code",
      "execution_count": null,
      "metadata": {
        "colab": {
          "base_uri": "https://localhost:8080/"
        },
        "id": "TZOHPzPOLgZX",
        "outputId": "53e3e3fe-798c-402a-f512-81a68c2ed9e5"
      },
      "outputs": [
        {
          "output_type": "stream",
          "name": "stdout",
          "text": [
            "Ingrese el puntaje obtenido: 0.5\n",
            "Nivel de desempeño aceptable, su dinero conseguido es $1250.0\n"
          ]
        }
      ],
      "source": [
        "try:\n",
        "  Puntajes = float(input(\"Ingrese el puntaje obtenido: \"))\n",
        "  if(Puntajes < 0.4):\n",
        "    print(\"Nivel de desempeño inaceptable, su dinero conseguido es $\" + str(2500*Puntajes))\n",
        "  elif(Puntajes >= 0.4 and Puntajes < 0.6):\n",
        "    print(\"Nivel de desempeño aceptable, su dinero conseguido es $\" + str(2500*Puntajes))\n",
        "  else:\n",
        "    print(\"Nivel de desempeño MERITORIO, su dinero conseguido es $\" + str(2500*Puntajes))\n",
        "except ValueError:\n",
        "  print(\"Error en el ingreso de valores, debe ser entero o decimal, vuelve a intentar.\")  "
      ]
    },
    {
      "cell_type": "markdown",
      "metadata": {
        "id": "WValeKgqLgZY"
      },
      "source": [
        "## Ejercicio 9"
      ]
    },
    {
      "cell_type": "markdown",
      "metadata": {
        "id": "B0MBYtRLLgZZ"
      },
      "source": [
        "Escribir un programa para una empresa que tiene salas de juegos para todas las edades y quiere calcular de forma automática el precio que debe cobrar a sus clientes por entrar. El programa debe preguntar al usuario la edad del cliente y mostrar el precio de la entrada. Si el cliente es menor de 4 años puede entrar gratis, si tiene entre 4 y 18 años debe pagar 50 pesos y si es mayor de 18 años, 100 pesos."
      ]
    },
    {
      "cell_type": "code",
      "execution_count": null,
      "metadata": {
        "colab": {
          "base_uri": "https://localhost:8080/"
        },
        "id": "MtVx83dELgZa",
        "outputId": "4288296d-32f8-4727-9169-ee4e6515e27f"
      },
      "outputs": [
        {
          "output_type": "stream",
          "name": "stdout",
          "text": [
            "Ingrese la edad del usuario: 18\n",
            "Debes pagar $100 para obtener la entrada.\n"
          ]
        }
      ],
      "source": [
        "try:\n",
        "  edad = abs(int(input(\"Ingrese la edad del usuario: \"))) #No debe ser negativo, de lo contrario se tomará como positivo\n",
        "  if(edad < 4):\n",
        "    print(\"Su entrada es gratis, puedes pasar.\")\n",
        "  elif(edad >= 4 and edad < 18):\n",
        "    print(\"Debes pagar $50 para obtener la entrada.\")\n",
        "  else:\n",
        "    print(\"Debes pagar $100 para obtener la entrada.\")\n",
        "except ValueError:\n",
        "  print(\"Error en el ingreso de valores, debe ser entero, vuelve a intentar.\")"
      ]
    },
    {
      "cell_type": "markdown",
      "metadata": {
        "id": "KLN43Og_LgZb"
      },
      "source": [
        "## Ejercicio 10"
      ]
    },
    {
      "cell_type": "markdown",
      "metadata": {
        "id": "WNpmWDi7LgZc"
      },
      "source": [
        "La pizzería Bella Napoli ofrece pizzas vegetarianas y no vegetarianas a sus clientes. Los ingredientes para cada tipo de pizza aparecen a continuación.\n",
        "\n",
        "<ul>\n",
        "<li>Ingredientes vegetarianos: Pimiento y tofu.</li>\n",
        "<li>Ingredientes no vegetarianos: Peperoni, Jamón y Salmón.</li>\n",
        "</ul>\n",
        "\n",
        "Escribir un programa que pregunte al usuario si quiere una pizza vegetariana o no, y en función de su respuesta le muestre un menú con los ingredientes disponibles para que elija. Solo se puede eligir un ingrediente además de la mozzarella y el tomate que están en todas la pizzas. Al final se debe mostrar por pantalla si la pizza elegida es vegetariana o no y todos los ingredientes que lleva."
      ]
    },
    {
      "cell_type": "code",
      "execution_count": null,
      "metadata": {
        "colab": {
          "base_uri": "https://localhost:8080/"
        },
        "id": "bg44c_huLgZd",
        "outputId": "d51b82ac-7baf-43e9-b904-61903bd0b391"
      },
      "outputs": [
        {
          "output_type": "stream",
          "name": "stdout",
          "text": [
            "¡Bienvenido a la Pizzeria Bella Napoli!\n",
            "Si desea una pizza vegetariana, ingrese 1, de lo contrario, ingrese cualquier valor: 0\n",
            "Elige uno de los ingredientes, Peperoni (ingrese 1), Jamón (ingrese 2) y Salmón (ingrese 3): 3\n",
            "Su pizza elegida es No vegetariana, lo cual contiene los siguientes ingredientes:\n",
            "Mozarella, tomates y Salmón\n"
          ]
        }
      ],
      "source": [
        "try:\n",
        "  print(\"¡Bienvenido a la Pizzeria Bella Napoli!\")\n",
        "  vegetariano = input(\"Si desea una pizza vegetariana, ingrese 1, de lo contrario, ingrese cualquier valor: \")\n",
        "  if(vegetariano == '1'):\n",
        "    pizza = \"Vegetariana\"\n",
        "    ingrediente = input(\"Elige uno de los ingredientes, Pimiento (ingrese 1) o todu (ingrese 2): \")\n",
        "    if(ingrediente == '1'):\n",
        "      aux = \"Pimiento\"\n",
        "    elif(ingrediente == '2'):\n",
        "      aux = \"Todu\"\n",
        "    else:\n",
        "      aux = \"Nada\"\n",
        "  else:\n",
        "    pizza = \"No vegetariana\"\n",
        "    ingrediente = input(\"Elige uno de los ingredientes, Peperoni (ingrese 1), Jamón (ingrese 2) y Salmón (ingrese 3): \")\n",
        "    if(ingrediente == '1'):\n",
        "      aux = \"Peperoni\"\n",
        "    elif(ingrediente == '2'):\n",
        "      aux = \"Jamón\"\n",
        "    elif(ingrediente == '3'):\n",
        "      aux = \"Salmón\"\n",
        "    else:\n",
        "      aux = \"Nada\"\n",
        "  print(\"Su pizza elegida es \" + pizza + \", lo cual contiene los siguientes ingredientes:\")\n",
        "  print(\"Mozarella, tomates y\", aux)\n",
        "\n",
        "except ValueError:\n",
        "  print(\"Error inesperado, posiblemente por mal ingreso de valores.\")"
      ]
    }
  ],
  "metadata": {
    "kernelspec": {
      "display_name": "Python 3",
      "language": "python",
      "name": "python3"
    },
    "language_info": {
      "codemirror_mode": {
        "name": "ipython",
        "version": 3
      },
      "file_extension": ".py",
      "mimetype": "text/x-python",
      "name": "python",
      "nbconvert_exporter": "python",
      "pygments_lexer": "ipython3",
      "version": "3.6.9"
    },
    "colab": {
      "name": "Ejercitación 1.2 -Condicionales.ipynb",
      "provenance": []
    }
  },
  "nbformat": 4,
  "nbformat_minor": 0
}