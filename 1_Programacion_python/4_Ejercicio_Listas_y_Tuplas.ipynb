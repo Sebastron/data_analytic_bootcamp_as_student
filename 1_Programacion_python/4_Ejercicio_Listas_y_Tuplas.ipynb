{
  "cells": [
    {
      "cell_type": "markdown",
      "metadata": {
        "id": "GGzu5mZj4s-B"
      },
      "source": [
        "# Ejercicios de Listas y Tuplas"
      ]
    },
    {
      "cell_type": "markdown",
      "metadata": {
        "id": "7sjz5qw54s-S"
      },
      "source": [
        "## Ejercicio 1"
      ]
    },
    {
      "cell_type": "markdown",
      "metadata": {
        "id": "719lHniq4s-U"
      },
      "source": [
        "Escribir un programa que almacene las asignaturas de un curso (por ejemplo Matemáticas, Física, Química, Historia y Lengua) en una lista y la muestre por pantalla."
      ]
    },
    {
      "cell_type": "code",
      "execution_count": null,
      "metadata": {
        "colab": {
          "base_uri": "https://localhost:8080/"
        },
        "id": "1c5zW6VQ4s-W",
        "outputId": "31a1982a-bf27-4d28-afa8-6c78b8a4b19a"
      },
      "outputs": [
        {
          "output_type": "stream",
          "name": "stdout",
          "text": [
            "Ingrese una asignatura para guardar: Matematica\n",
            "¿Quieres continuar?, ingrese 'no' para salir: si\n",
            "Ingrese una asignatura para guardar: Lenguaje\n",
            "¿Quieres continuar?, ingrese 'no' para salir: \n",
            "Ingrese una asignatura para guardar: Historia\n",
            "¿Quieres continuar?, ingrese 'no' para salir: NO\n",
            "Asignaturas almacenadas:\n",
            "1) Matematica\n",
            "2) Lenguaje\n",
            "3) Historia\n"
          ]
        }
      ],
      "source": [
        "switch = 1\n",
        "asignaturas = []\n",
        "while(switch == 1):\n",
        "  asignatura = input(\"Ingrese una asignatura para guardar: \")\n",
        "  asignaturas.append(asignatura)\n",
        "  salida = input(\"¿Quieres continuar?, ingrese 'no' para salir: \").upper()\n",
        "  if(salida == \"NO\"):\n",
        "    switch = 0\n",
        "print(\"asignaturas almacenadas:\")\n",
        "i=1\n",
        "for a in asignaturas:\n",
        "  print(str(i) + \") \" + a)\n",
        "  i+=1"
      ]
    },
    {
      "cell_type": "markdown",
      "metadata": {
        "id": "CvXDyly34s-Y"
      },
      "source": [
        "## Ejercicio 2"
      ]
    },
    {
      "cell_type": "markdown",
      "metadata": {
        "id": "GXcrvCF-4s-Z"
      },
      "source": [
        "Escribir un programa que almacene las asignaturas de un curso (por ejemplo Matemáticas, Física, Química, Historia y Lengua) en una lista y la muestre por pantalla el mensaje <font color=#B40431>Yo estudio &#60;asignatura&#62;</font>, donde <font color=#B40431>&#60;asignatura&#62;</font> es cada una de las asignaturas de la lista."
      ]
    },
    {
      "cell_type": "code",
      "execution_count": 10,
      "metadata": {
        "colab": {
          "base_uri": "https://localhost:8080/"
        },
        "id": "oRSCv5zF4s-b",
        "outputId": "27db1a3f-4022-4806-a519-c046327150c8"
      },
      "outputs": [
        {
          "output_type": "stream",
          "name": "stdout",
          "text": [
            "Ingrese una asignatura para guardar: Lenguaje\n",
            "¿Quieres continuar?, ingrese 'no' para salir: si\n",
            "Ingrese una asignatura para guardar: Historia\n",
            "¿Quieres continuar?, ingrese 'no' para salir: si\n",
            "Ingrese una asignatura para guardar: Matemática\n",
            "¿Quieres continuar?, ingrese 'no' para salir: no\n",
            "Yo estudio, Lenguaje, Historia y Matemática\n"
          ]
        }
      ],
      "source": [
        "switch = 1\n",
        "asignaturas = []\n",
        "while(switch == 1):\n",
        "  asignatura = input(\"Ingrese una asignatura para guardar: \")\n",
        "  asignaturas.append(asignatura)\n",
        "  salida = input(\"¿Quieres continuar?, ingrese 'no' para salir: \").upper()\n",
        "  if(salida == \"NO\"):\n",
        "    switch = 0\n",
        "frase = \"Yo estudio\"\n",
        "cont=0\n",
        "for i in asignaturas:\n",
        "  if(len(asignaturas) == 1):\n",
        "    frase += ' ' + i\n",
        "    break\n",
        "  else: \n",
        "    if(cont+1 == len(asignaturas)):\n",
        "      frase += ' y ' +i\n",
        "    else:\n",
        "      frase += ', ' + i\n",
        "  cont+=1\n",
        "print(frase)\n",
        "  "
      ]
    },
    {
      "cell_type": "markdown",
      "metadata": {
        "id": "gt9Avc084s-d"
      },
      "source": [
        "## Ejercicio 3"
      ]
    },
    {
      "cell_type": "markdown",
      "metadata": {
        "id": "uvfm88Jl4s-f"
      },
      "source": [
        "Escribir un programa que almacene las asignaturas de un curso (por ejemplo Matemáticas, Física, Química, Historia y Lengua) en una lista, pregunte al usuario la nota que ha sacado en cada asignatura, y después las muestre por pantalla con el mensaje <font color=#B40431>En &#60;asignatura&#62; has sacado &#60;nota&#62;</font> donde <font color=#B40431>&#60;asignatura&#62;</font> es cada una de las asignaturas de la lista y <font color=#B40431>&#60;nota&#62;</font> cada una de las correspondientes notas introducidas por el usuario."
      ]
    },
    {
      "cell_type": "code",
      "execution_count": null,
      "metadata": {
        "id": "FtiW162s4s-h",
        "colab": {
          "base_uri": "https://localhost:8080/"
        },
        "outputId": "a4c19ea7-7f38-48cb-9c99-7ce4a5b1632e"
      },
      "outputs": [
        {
          "output_type": "stream",
          "name": "stdout",
          "text": [
            "Ingrese una asignatura para guardar: Historia\n",
            "Ingrese la nota obtenida de la asignatura: 4.3\n",
            "¿Quieres continuar?, ingrese 'no' para salir: si\n",
            "Ingrese una asignatura para guardar: Matematica\n",
            "Ingrese la nota obtenida de la asignatura: 7.0\n",
            "¿Quieres continuar?, ingrese 'no' para salir: no\n",
            "Asignaturas almacenadas:\n",
            "En Historia has sacado 4.3\n",
            "En Matematica has sacado 7.0\n"
          ]
        }
      ],
      "source": [
        "try:\n",
        "  switch = 1\n",
        "  asignaturas = []\n",
        "  while(switch == 1):\n",
        "    asignatura = []\n",
        "    nombre = input(\"Ingrese una asignatura para guardar: \")\n",
        "    asignatura.append(nombre)\n",
        "    nota = float(input(\"Ingrese la nota obtenida de la asignatura: \"))\n",
        "    asignatura.append(nota)\n",
        "    asignaturas.append(asignatura)\n",
        "    salida = input(\"¿Quieres continuar?, ingrese 'no' para salir: \")\n",
        "    if(salida == \"no\" or salida == \"No\" or salida == \"nO\" or salida == \"NO\"):\n",
        "      switch = 0\n",
        "  print(\"asignaturas almacenadas:\")\n",
        "  i=1\n",
        "  for a in asignaturas:\n",
        "    print(\"En\", a[0], \"has sacado\", a[1])\n",
        "    i+=1\n",
        "except ValueError:\n",
        "  print(\"Error en el ingreso del valor, debe ser decimal, vuelve a intentar.\")"
      ]
    },
    {
      "cell_type": "markdown",
      "metadata": {
        "id": "sr_wy5w44s-i"
      },
      "source": [
        "## Ejercicio 4"
      ]
    },
    {
      "cell_type": "markdown",
      "metadata": {
        "id": "k2_Ta71m4s-j"
      },
      "source": [
        "Escribir un programa que pregunte al usuario los números ganadores de la lotería primitiva, los almacene en una lista y los muestre por pantalla ordenados de menor a mayor."
      ]
    },
    {
      "cell_type": "code",
      "execution_count": null,
      "metadata": {
        "id": "eMVVaeJJ4s-l",
        "colab": {
          "base_uri": "https://localhost:8080/"
        },
        "outputId": "e21e0c5a-8680-4236-e792-ebac6f37bdfd"
      },
      "outputs": [
        {
          "output_type": "stream",
          "name": "stdout",
          "text": [
            "Ingrese los números ganadores de la loteria, separado por comas (ej: 34,42,12): 323,1,56,12,63,4,6\n",
            "Los números ganadores son: [1, 4, 6, 12, 56, 63, 323]\n"
          ]
        }
      ],
      "source": [
        "ganador = input(\"Ingrese los números ganadores de la loteria, separado por comas (ej: 34,42,12): \")\n",
        "numeros = ganador.split(\",\")\n",
        "#Dado que la lista están en string, necesitamos transformar en entero para aplicar sort\n",
        "for i in range(len(numeros)):\n",
        "    numeros[i] = int(numeros[i])\n",
        "numeros = sorted(numeros, reverse = False)\n",
        "print(\"Los números ganadores son:\", numeros)"
      ]
    },
    {
      "cell_type": "code",
      "execution_count": null,
      "metadata": {
        "colab": {
          "base_uri": "https://localhost:8080/"
        },
        "outputId": "b90ef1b6-870a-4242-a5a0-247362eb5d06",
        "id": "emJj7cJp9IFc"
      },
      "outputs": [
        {
          "output_type": "stream",
          "name": "stdout",
          "text": [
            "Ingrese los números ganadores de la loteria, separado por comas (ej: 34,42,12): 442,24,1,45,2,7\n",
            "Los números ganadores son: [1, 2, 7, 24, 45, 442]\n"
          ]
        }
      ],
      "source": [
        "ganador = input(\"Ingrese los números ganadores de la loteria, separado por comas (ej: 34,42,12): \")\n",
        "numeros = ganador.split(\",\")\n",
        "#Dado que la lista están en string, necesitamos transformar en entero para aplicar sort\n",
        "for i in range(len(numeros)):\n",
        "    numeros[i] = int(numeros[i])\n",
        "numeros = sorted(numeros, reverse = False)\n",
        "print(\"Los números ganadores son:\", numeros)"
      ]
    },
    {
      "cell_type": "markdown",
      "metadata": {
        "id": "KBrnyyy44s-l"
      },
      "source": [
        "## Ejercicio 5"
      ]
    },
    {
      "cell_type": "markdown",
      "metadata": {
        "id": "mJKBQwBm4s-o"
      },
      "source": [
        "Escribir un programa que almacene en una lista los números del 1 al 10 y los muestre por pantalla en orden inverso separados por comas."
      ]
    },
    {
      "cell_type": "code",
      "execution_count": null,
      "metadata": {
        "id": "-6GjiZq64s-p",
        "colab": {
          "base_uri": "https://localhost:8080/"
        },
        "outputId": "aa4a9984-8a64-4911-809c-01bf0db20470"
      },
      "outputs": [
        {
          "output_type": "stream",
          "name": "stdout",
          "text": [
            "10,9,8,7,6,5,4,3,2,1\n"
          ]
        }
      ],
      "source": [
        "numeros = sorted([5,2,1,6,7,4,3,8,10,9], reverse = True)\n",
        "cadena = \"\"\n",
        "for i in range(0,len(numeros)):\n",
        "  if(i+1 == len(numeros)):\n",
        "    cadena += str(numeros[i])\n",
        "  else:\n",
        "    cadena += str(numeros[i])+\",\"\n",
        "#Dado que la lista están en string, necesitamos transformar en entero para aplicar sort\n",
        "print(cadena)"
      ]
    },
    {
      "cell_type": "markdown",
      "metadata": {
        "id": "19FxJAWR4s-q"
      },
      "source": [
        "## Ejercicio 6"
      ]
    },
    {
      "cell_type": "markdown",
      "metadata": {
        "id": "DQKccZbO4s-r"
      },
      "source": [
        "Escribir un programa que almacene las asignaturas de un curso (por ejemplo Matemáticas, Física, Química, Historia y Lengua) en una lista, pregunte al usuario la nota que ha sacado en cada asignatura y elimine de la lista las asignaturas aprobadas. al final el programa debe mostrar por pantalla las asignaturas que el usuario tiene que repetir."
      ]
    },
    {
      "cell_type": "code",
      "execution_count": null,
      "metadata": {
        "id": "V4ztFVJ54s-s",
        "colab": {
          "base_uri": "https://localhost:8080/"
        },
        "outputId": "cd8e375f-d779-432a-dfa4-7898395b29c9"
      },
      "outputs": [
        {
          "output_type": "stream",
          "name": "stdout",
          "text": [
            "Ingrese una asignatura para guardar: Lenguaje\n",
            "Ingrese la nota obtenida de la asignatura: 3.9\n",
            "¿Quieres continuar?, ingrese 'no' para salir: si\n",
            "Ingrese una asignatura para guardar: Matematica\n",
            "Ingrese la nota obtenida de la asignatura: 6.5\n",
            "¿Quieres continuar?, ingrese 'no' para salir: si\n",
            "Ingrese una asignatura para guardar: Historia\n",
            "Ingrese la nota obtenida de la asignatura: 2.9\n",
            "¿Quieres continuar?, ingrese 'no' para salir: si\n",
            "Ingrese una asignatura para guardar: Fisica\n",
            "Ingrese la nota obtenida de la asignatura: 4.0\n",
            "¿Quieres continuar?, ingrese 'no' para salir: no\n",
            "Asignaturas almacenadas:\n",
            "Las asignaturas que reprobaron son: \n",
            "1) Lenguaje\n",
            "1) Historia\n"
          ]
        }
      ],
      "source": [
        "try:\n",
        "  switch = 1\n",
        "  asignaturas = []\n",
        "  while(switch == 1):\n",
        "    asignatura = []\n",
        "    nombre = input(\"Ingrese una asignatura para guardar: \")\n",
        "    asignatura.append(nombre)\n",
        "    nota = float(input(\"Ingrese la nota obtenida de la asignatura: \"))\n",
        "    asignatura.append(nota)\n",
        "    asignaturas.append(asignatura)\n",
        "    salida = input(\"¿Quieres continuar?, ingrese 'no' para salir: \")\n",
        "    if(salida == \"no\" or salida == \"No\" or salida == \"nO\" or salida == \"NO\"):\n",
        "      switch = 0\n",
        "  print(\"asignaturas almacenadas:\")\n",
        "  i=0\n",
        "  for a in asignaturas:\n",
        "    if(a[1] >= 4.0):\n",
        "      asignaturas.pop(i)\n",
        "    i+=1\n",
        "  print(\"Las asignaturas que reprobaron son: \")\n",
        "  i=1\n",
        "  for reprobados in asignaturas:\n",
        "    print(str(i)+\") \" + reprobados[0])\n",
        "\n",
        "except ValueError:\n",
        "  print(\"Error en el ingreso del valor, debe ser decimal, vuelve a intentar.\")"
      ]
    },
    {
      "cell_type": "markdown",
      "metadata": {
        "id": "XcWqUEkT4s-t"
      },
      "source": [
        "## Ejercicio 7"
      ]
    },
    {
      "cell_type": "markdown",
      "metadata": {
        "id": "Wv5hU2tl4s-u"
      },
      "source": [
        "Escribir un programa que almacene el abecedario en una lista, elimine de la lista las letras que ocupen posiciones múltiplos de 3, y muestre por pantalla la lista resultante."
      ]
    },
    {
      "cell_type": "code",
      "execution_count": null,
      "metadata": {
        "id": "alIwc0-z4s-u",
        "colab": {
          "base_uri": "https://localhost:8080/"
        },
        "outputId": "d0187ff2-fbac-4498-ad3b-d32adf93b782"
      },
      "outputs": [
        {
          "output_type": "stream",
          "name": "stdout",
          "text": [
            "Lista resultante: ['B', 'C', 'D', 'F', 'G', 'H', 'J', 'K', 'L', 'N', 'Ñ', 'O', 'Q', 'R', 'S', 'U', 'V', 'W', 'Y', 'Z']\n"
          ]
        }
      ],
      "source": [
        "abecedario = ['a','B','C','D','E','F','G','H','I','J','K','L','M','N','Ñ','O','P','Q','R','S','T','U', 'V', 'W', 'X', 'Y', 'Z']\n",
        "for i in range(0, len(abecedario)):\n",
        "  if(i%3 == 0 and i <= len(abecedario)):\n",
        "    abecedario.pop(i)\n",
        "print(\"Lista resultante:\", abecedario)"
      ]
    },
    {
      "cell_type": "markdown",
      "metadata": {
        "id": "oWKwmew84s-v"
      },
      "source": [
        "## Ejercicio 8"
      ]
    },
    {
      "cell_type": "markdown",
      "metadata": {
        "id": "YRF9RpDO4s-w"
      },
      "source": [
        "Escribir un programa que pida al usuario una palabra y muestre por pantalla si es un palíndromo."
      ]
    },
    {
      "cell_type": "code",
      "execution_count": 17,
      "metadata": {
        "colab": {
          "base_uri": "https://localhost:8080/"
        },
        "id": "9M-4SuB04s-w",
        "outputId": "a0769d8c-7dae-4ee3-edf8-bd7c58451fec"
      },
      "outputs": [
        {
          "output_type": "stream",
          "name": "stdout",
          "text": [
            "Ingrese una frase: luz azul\n",
            "Es Palindromo.\n"
          ]
        }
      ],
      "source": [
        "def espalindromo(palabra):\n",
        "    inicio = 0\n",
        "    fin = len(palabra) - 1\n",
        "    while(palabra[inicio] == palabra[fin]):\n",
        "        if(inicio >= fin):\n",
        "            return True\n",
        "        inicio += 1\n",
        "        fin -= 1\n",
        "    return False\n",
        "\n",
        "x = input(\"Ingrese una frase: \").replace(\" \", \"\")\n",
        "if(espalindromo(x)):\n",
        "  print(\"Es Palindromo.\")\n",
        "else:\n",
        "  print(\"No es Palindromo.\")"
      ]
    },
    {
      "cell_type": "markdown",
      "metadata": {
        "id": "SSLlAQrt4s-w"
      },
      "source": [
        "## Ejercicio 9"
      ]
    },
    {
      "cell_type": "markdown",
      "metadata": {
        "id": "hOQwfZp44s-x"
      },
      "source": [
        "Escribir un programa que pida al usuario una palabra y muestre por pantalla el número de veces que contiene cada vocal."
      ]
    },
    {
      "cell_type": "code",
      "execution_count": 23,
      "metadata": {
        "id": "-plHlQ1q4s-y",
        "colab": {
          "base_uri": "https://localhost:8080/"
        },
        "outputId": "dea26952-ca91-4bef-9f05-0dbd2280bbcc"
      },
      "outputs": [
        {
          "output_type": "stream",
          "name": "stdout",
          "text": [
            "Ingrese una palabra: ejercitaciones\n",
            "La vocal 'A' aparece 1 veces\n",
            "La vocal 'E' aparece 3 veces\n",
            "La vocal 'I' aparece 2 veces\n",
            "La vocal 'O' aparece 1 veces\n",
            "La vocal 'U' aparece 0 veces\n",
            "Por lo tanto, la cantidad de vocales son: 7\n"
          ]
        }
      ],
      "source": [
        "palabra = input(\"Ingrese una palabra: \").upper()\n",
        "vocales = ['A', 'E', 'I', 'O', 'U']\n",
        "total=0\n",
        "for vocal in vocales: \n",
        "    contador = 0\n",
        "    for letra in palabra: \n",
        "        if letra == vocal:\n",
        "            contador += 1\n",
        "    total+=contador\n",
        "    print(\"La vocal '\"+ vocal + \"' aparece \" + str(contador) + \" veces\")\n",
        "print(\"Por lo tanto, la cantidad de vocales son:\", total)"
      ]
    },
    {
      "cell_type": "markdown",
      "metadata": {
        "id": "eZpAzrcd4s-y"
      },
      "source": [
        "## Ejercicio 10"
      ]
    },
    {
      "cell_type": "markdown",
      "metadata": {
        "id": "X5rzlvrI4s-z"
      },
      "source": [
        "Escribir un programa que almacene en una lista los siguientes precios, 50, 75, 46, 22, 80, 65, 8, y muestre por pantalla el menor y el mayor de los precios."
      ]
    },
    {
      "cell_type": "code",
      "execution_count": null,
      "metadata": {
        "id": "98Q1L42B4s-0",
        "colab": {
          "base_uri": "https://localhost:8080/"
        },
        "outputId": "911ef3cf-8575-4c75-8980-073464397508"
      },
      "outputs": [
        {
          "output_type": "stream",
          "name": "stdout",
          "text": [
            "[8, 22, 46, 50, 65, 75, 80]\n"
          ]
        }
      ],
      "source": [
        "precio= sorted([50, 75, 46, 22, 80, 65, 8])\n",
        "print(precio)"
      ]
    },
    {
      "cell_type": "markdown",
      "metadata": {
        "id": "uNynN8GX4s-0"
      },
      "source": [
        "## Ejercicio 11"
      ]
    },
    {
      "cell_type": "markdown",
      "metadata": {
        "id": "Ijqny_4_4s-1"
      },
      "source": [
        "Escribir un programa que almacene los vectores (1,2,3) y (-1,0,2) en dos listas y muestre por pantalla su producto escalar."
      ]
    },
    {
      "cell_type": "code",
      "source": [
        "#Sin librerías\n",
        "lista1 = (1, 2, 3)\n",
        "lista2 = (-1, 0, 2)\n",
        "producto = 0\n",
        "for i in range(len(lista1)):\n",
        "    producto += lista1[i]*lista2[i]\n",
        "print(\"Producto escalar de los dos vectores ingresados es:\", producto) "
      ],
      "metadata": {
        "colab": {
          "base_uri": "https://localhost:8080/"
        },
        "id": "zDX_vadLz9c5",
        "outputId": "32c93bd3-0caa-47c9-ea5a-9c529aad3843"
      },
      "execution_count": 13,
      "outputs": [
        {
          "output_type": "stream",
          "name": "stdout",
          "text": [
            "Producto escalar de los dos vectores ingresados es: 5\n"
          ]
        }
      ]
    },
    {
      "cell_type": "code",
      "execution_count": 14,
      "metadata": {
        "id": "RHGlgqsQ4s-2",
        "colab": {
          "base_uri": "https://localhost:8080/"
        },
        "outputId": "c397410b-3da6-47d6-fee6-2c9bd926fef9"
      },
      "outputs": [
        {
          "output_type": "stream",
          "name": "stdout",
          "text": [
            "Producto escalar de los dos vectores ingresados es: 5\n"
          ]
        }
      ],
      "source": [
        "#Usando la librería Numpy\n",
        "import numpy as np\n",
        "lista1 = np.array([1,2,3])\n",
        "lista2 = np.array([-1,0,2])\n",
        "print(\"Producto escalar de los dos vectores ingresados es:\",np.dot(lista1,lista2))"
      ]
    },
    {
      "cell_type": "markdown",
      "metadata": {
        "id": "0pexYXxt4s-3"
      },
      "source": [
        "## Ejercicio 12"
      ]
    },
    {
      "cell_type": "markdown",
      "metadata": {
        "id": "aL2PdSKs4s-4"
      },
      "source": [
        "Escribir un programa que almacene las matrices\n",
        "\n",
        "$a = \\left(\n",
        "\\begin{array}{rrr}\n",
        "1 & 2 & 3\\ \\\\\n",
        "4 & 5 & 6\n",
        "\\end{array}\n",
        "\\right)\n",
        "\\quad  y\n",
        "\\quad\n",
        "B = \\left(\n",
        "\\begin{array}{rr}\n",
        "-1 & 0\\ \\\\\n",
        "0 & 1\\ \\\\\n",
        "1 & 1 \n",
        "\\end{array}\n",
        "\\right)\n",
        "$\n",
        "\n",
        "en una lista y muestre por pantalla su producto.\n",
        "Nota: Para representar matrices mediante listas usar listas anidadas, representando cada vector fila en una lista."
      ]
    },
    {
      "cell_type": "code",
      "execution_count": 2,
      "metadata": {
        "id": "kUF9DdGo4s-6",
        "colab": {
          "base_uri": "https://localhost:8080/"
        },
        "outputId": "d458a949-3245-4ec4-e560-6a40309044c3"
      },
      "outputs": [
        {
          "output_type": "stream",
          "name": "stdout",
          "text": [
            "(2, 5)\n",
            "(2, 11)\n"
          ]
        }
      ],
      "source": [
        "A = ((1, 2, 3),\n",
        "     (4, 5, 6))\n",
        "B = ((-1, 0),\n",
        "     (0, 1),\n",
        "     (1,1))\n",
        "result = [[0,0],\n",
        "          [0,0]]\n",
        "for i in range(len(A)):\n",
        "    for j in range(len(B[0])):\n",
        "        for k in range(len(B)):\n",
        "            result[i][j] += A[i][k] * B[k][j]\n",
        "for i in range(len(result)):\n",
        "    result[i] = tuple(result[i])\n",
        "result = tuple(result)\n",
        "for i in range(len(result)):\n",
        "    print(result[i])"
      ]
    },
    {
      "cell_type": "markdown",
      "metadata": {
        "id": "KW3XzUmk4s-7"
      },
      "source": [
        "## Ejercicio 13"
      ]
    },
    {
      "cell_type": "markdown",
      "metadata": {
        "id": "4BRFNVst4s-7"
      },
      "source": [
        "Escribir un programa que pregunte por una muestra de números, separados por comas, los guarde en una lista y muestre por pantalla su media y desviación típica."
      ]
    },
    {
      "cell_type": "code",
      "execution_count": 1,
      "metadata": {
        "id": "qYq_NiD-4s-8",
        "colab": {
          "base_uri": "https://localhost:8080/"
        },
        "outputId": "fc9db9af-d20a-4fee-9367-a26bc876424d"
      },
      "outputs": [
        {
          "output_type": "stream",
          "name": "stdout",
          "text": [
            "Ingrese los números ganadores de la loteria, separado por comas (ej: 34,42,12): 34,42,12\n",
            "La media es 29.333333333333332 , y la desviación típica es 12.684198393626971\n"
          ]
        }
      ],
      "source": [
        "numeros = input(\"Ingrese los números ganadores de la loteria, separado por comas (ej: 34,42,12): \")\n",
        "x = numeros.split(\",\")\n",
        "n = len(x)\n",
        "for i in range(n):\n",
        "    x[i] = int(x[i])\n",
        "x = tuple(x)\n",
        "sum = 0\n",
        "sumsq = 0\n",
        "for i in x:\n",
        "    sum += i\n",
        "    sumsq += i**2\n",
        "mean = sum/n\n",
        "stdev = (sumsq/n-mean**2)**(1/2)\n",
        "print('La media es', mean, ', y la desviación típica es', stdev)"
      ]
    }
  ],
  "metadata": {
    "kernelspec": {
      "display_name": "Python 3",
      "language": "python",
      "name": "python3"
    },
    "language_info": {
      "codemirror_mode": {
        "name": "ipython",
        "version": 3
      },
      "file_extension": ".py",
      "mimetype": "text/x-python",
      "name": "python",
      "nbconvert_exporter": "python",
      "pygments_lexer": "ipython3",
      "version": "3.6.9"
    },
    "colab": {
      "name": "Ejercitación 1.4 - Listas-y-Tuplas.ipynb",
      "provenance": []
    }
  },
  "nbformat": 4,
  "nbformat_minor": 0
}