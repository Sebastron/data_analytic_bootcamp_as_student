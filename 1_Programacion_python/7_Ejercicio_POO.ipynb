{
  "cells": [
    {
      "cell_type": "markdown",
      "metadata": {
        "id": "TAYsw48DLBXr"
      },
      "source": [
        "# Ejercicios de Programación Orientada a Objetos"
      ]
    },
    {
      "cell_type": "markdown",
      "metadata": {
        "id": "38dCIWBHLBXz"
      },
      "source": [
        "**Nota:** Los ejercicios son graduales, es decir, en cada ejercicio se van implementando mejoras a una (o varias) clase(s)."
      ]
    },
    {
      "cell_type": "markdown",
      "metadata": {
        "id": "Am-RLINBLBX2"
      },
      "source": [
        "## Ejercicio 1"
      ]
    },
    {
      "cell_type": "markdown",
      "metadata": {
        "id": "c4fcqCyoLBX4"
      },
      "source": [
        "Crear una nueva clase llamada **NumeroComplejo**. Esta clase tiene un atributo **x** para la coordenada en x e **y** para la coordenada en y. Representar un número complejo de la forma (x, y)."
      ]
    },
    {
      "cell_type": "code",
      "execution_count": 9,
      "metadata": {
        "id": "5HwwXEogLBX6",
        "colab": {
          "base_uri": "https://localhost:8080/",
          "height": 0
        },
        "outputId": "07fbb3e3-ade7-4c8d-ee1a-cbfe9eab927c"
      },
      "outputs": [
        {
          "output_type": "stream",
          "name": "stdout",
          "text": [
            "12\n",
            "5\n"
          ]
        }
      ],
      "source": [
        "class NumeroComplejo():\n",
        "    def __init__(self,x,y):\n",
        "        self.x = x\n",
        "        self.y = y\n",
        "obj = NumeroComplejo(12,5)\n",
        "print(obj.x)\n",
        "print(obj.y)"
      ]
    },
    {
      "cell_type": "markdown",
      "metadata": {
        "id": "hWcurQg7LBX8"
      },
      "source": [
        "## Ejercicio 2"
      ]
    },
    {
      "cell_type": "markdown",
      "metadata": {
        "id": "13GvVoadLBX-"
      },
      "source": [
        "Definir para la clase **NumeroComplejo** un método que permita imprimir una instancia de la clase. Recordemos que al intentar imprimir un tipo definido por nosotros, se imprime la dirección de memoria"
      ]
    },
    {
      "cell_type": "code",
      "execution_count": 13,
      "metadata": {
        "colab": {
          "base_uri": "https://localhost:8080/",
          "height": 0
        },
        "id": "BurJfvF8LBYA",
        "outputId": "f5b2c2d3-fe47-42ee-f846-bd066ff50c03"
      },
      "outputs": [
        {
          "output_type": "stream",
          "name": "stdout",
          "text": [
            "Create el numero complejo: 12 + 4j\n"
          ]
        }
      ],
      "source": [
        "class NumeroComplejo():\n",
        "    def __init__(self,x,y):\n",
        "        self.x = x\n",
        "        self.y = y\n",
        "\n",
        "def imprimir(x,y):\n",
        "    ncomplex =  NumeroComplejo(x,y)\n",
        "    print(f\"Create el numero complejo: {ncomplex.x} + {ncomplex.y}j\")\n",
        "\n",
        "imprimir(12,4)"
      ]
    },
    {
      "cell_type": "markdown",
      "metadata": {
        "id": "Hq7WxSZ8LBYB"
      },
      "source": [
        "## Ejercicio 3"
      ]
    },
    {
      "cell_type": "markdown",
      "metadata": {
        "id": "wUCx7PDsLBYD"
      },
      "source": [
        "Definir la función **__str__** para la clase **NumeroComplejo** para poder imprimir usando la función print."
      ]
    },
    {
      "cell_type": "code",
      "execution_count": 14,
      "metadata": {
        "id": "lVx_RFRFLBYE",
        "colab": {
          "base_uri": "https://localhost:8080/",
          "height": 35
        },
        "outputId": "99b785cf-8274-4a4a-944e-b2f8259a72bf"
      },
      "outputs": [
        {
          "output_type": "execute_result",
          "data": {
            "text/plain": [
              "'Numero complejo: 12, 4j'"
            ],
            "application/vnd.google.colaboratory.intrinsic+json": {
              "type": "string"
            }
          },
          "metadata": {},
          "execution_count": 14
        }
      ],
      "source": [
        "class NumeroComplejo():\n",
        "    def __init__(self,x,y):\n",
        "        self.x = x\n",
        "        self.y = y\n",
        "    def str(self):\n",
        "        return f\"Numero complejo: {self.x}, {self.y}j\"\n",
        "\n",
        "num_complejo =  NumeroComplejo(12,4)\n",
        "num_complejo.str()"
      ]
    },
    {
      "cell_type": "markdown",
      "metadata": {
        "id": "X5rmSoz7LBYF"
      },
      "source": [
        "## Ejercicio 4"
      ]
    },
    {
      "cell_type": "markdown",
      "metadata": {
        "id": "YueATYN3LBYG"
      },
      "source": [
        "Definir una función que compara dos números complejos, ya que si dos objetos distintos tienen sus atributos iguales, no se consideran iguales.\n"
      ]
    },
    {
      "cell_type": "code",
      "execution_count": 17,
      "metadata": {
        "id": "Kh9IvMoyLBYH",
        "colab": {
          "base_uri": "https://localhost:8080/",
          "height": 35
        },
        "outputId": "3f3cd4f6-b9da-4099-954a-4bf51475e58f"
      },
      "outputs": [
        {
          "output_type": "execute_result",
          "data": {
            "text/plain": [
              "'Los objetos no son iguales'"
            ],
            "application/vnd.google.colaboratory.intrinsic+json": {
              "type": "string"
            }
          },
          "metadata": {},
          "execution_count": 17
        }
      ],
      "source": [
        "class NumeroComplejo():\n",
        "    def __init__(self,x,y):\n",
        "        self.x = x\n",
        "        self.y = y\n",
        "    def str(self):\n",
        "        return f\"Numero complejo: {self.x}, {self.y}j\"\n",
        "    \n",
        "    def comparar(self, numero2):\n",
        "        if(self.x == numero2.x and self.y == numero2.y):\n",
        "            return \"Los objetos son iguales\"\n",
        "        else:\n",
        "            return \"Los objetos no son iguales\"\n",
        "\n",
        "\n",
        "num_complejo1 =  NumeroComplejo(12,4)\n",
        "num_complejo2 =  NumeroComplejo(3,4)\n",
        "num_complejo1.comparar(num_complejo2)"
      ]
    },
    {
      "cell_type": "markdown",
      "metadata": {
        "id": "ZG9UylUdLBYI"
      },
      "source": [
        "## Ejercicio 5"
      ]
    },
    {
      "cell_type": "markdown",
      "metadata": {
        "id": "6KrcfnnwLBYJ"
      },
      "source": [
        "Implementar un método que sume dos numeros complejos sin modificiar los objetos originales, ya que se retorna un nuevo numero NumeroComplejo."
      ]
    },
    {
      "cell_type": "code",
      "execution_count": 30,
      "metadata": {
        "id": "KPstqOk1LBYK",
        "colab": {
          "base_uri": "https://localhost:8080/",
          "height": 0
        },
        "outputId": "231b4a08-d382-4f24-e745-3115bc6f8e60"
      },
      "outputs": [
        {
          "output_type": "stream",
          "name": "stdout",
          "text": [
            "La suma es: -21 + 88j\n"
          ]
        }
      ],
      "source": [
        "class NumeroComplejo():\n",
        "    def __init__(self,x,y):\n",
        "        self.x = x\n",
        "        self.y = y\n",
        "    def str(self):\n",
        "        return f\"Numero complejo: {self.x}, {self.y}j\"\n",
        "    \n",
        "    def comparar(self, numero2):\n",
        "        if(self.x == numero2.x and self.y == numero2.y):\n",
        "            return \"Los objetos son iguales\"\n",
        "        else:\n",
        "            return \"Los objetos no son iguales\"\n",
        "    def sumar(self, numero2):\n",
        "        if((self.y+numero2.y)>0):\n",
        "            print(f\"La suma es: {self.x+numero2.x} + {self.y+numero2.y}j\")\n",
        "        else:\n",
        "            print(f\"La suma es: {self.x+numero2.x} {self.y+numero2.y}j\")\n",
        "\n",
        "\n",
        "num_complejo1 =  NumeroComplejo(12,84)\n",
        "num_complejo2 =  NumeroComplejo(-33,4)\n",
        "num_complejo1.sumar(num_complejo2)"
      ]
    },
    {
      "cell_type": "markdown",
      "metadata": {
        "id": "XerEhTOALBYK"
      },
      "source": [
        "Ahora, vamos a implementar un objeto **Bus**, que lleva a un grupo de pasajeros y además tiene un chofer. Los pasajeros y el chofer son todos personas, por lo que primero crearemos una clase **Persona** para representarlos."
      ]
    },
    {
      "cell_type": "markdown",
      "metadata": {
        "id": "WM-UtoZBLBYL"
      },
      "source": [
        "## Ejercicio 6"
      ]
    },
    {
      "cell_type": "markdown",
      "metadata": {
        "id": "WGMbrEsNLBYM"
      },
      "source": [
        "Crea una clase **Persona**. Sus atributos deben ser su nombre y su edad. Además crea un método cumpleaños, que aumente en 1 la edad de la persona."
      ]
    },
    {
      "cell_type": "code",
      "execution_count": 31,
      "metadata": {
        "id": "n_NAZpYLLBYM",
        "colab": {
          "base_uri": "https://localhost:8080/",
          "height": 0
        },
        "outputId": "202608ad-f128-4f63-d28f-fdb16c9442cd"
      },
      "outputs": [
        {
          "output_type": "stream",
          "name": "stdout",
          "text": [
            "25\n"
          ]
        }
      ],
      "source": [
        "class Persona():\n",
        "    def __init__(self,nombre,edad):\n",
        "        self.nombre = nombre\n",
        "        self.edad = edad\n",
        "\n",
        "    def birthday(self):\n",
        "        self.edad+=1\n",
        "\n",
        "human = Persona(\"Carlos\",24)\n",
        "human.birthday()\n",
        "print(human.edad)"
      ]
    },
    {
      "cell_type": "markdown",
      "metadata": {
        "id": "vBLuAI5PLBYN"
      },
      "source": [
        "## Ejercicio 7"
      ]
    },
    {
      "cell_type": "markdown",
      "metadata": {
        "id": "Ijl0ekIQLBYN"
      },
      "source": [
        "Para la clase anterior definir el método __str__. Debe retornar al menos el nombre de la persona."
      ]
    },
    {
      "cell_type": "code",
      "execution_count": 32,
      "metadata": {
        "id": "qhH374p_LBYO",
        "colab": {
          "base_uri": "https://localhost:8080/",
          "height": 0
        },
        "outputId": "be0927e5-e5dc-4ac4-d8a9-164e9210492b"
      },
      "outputs": [
        {
          "output_type": "stream",
          "name": "stdout",
          "text": [
            "Tu nombre es: Carlos\n"
          ]
        }
      ],
      "source": [
        "class Persona():\n",
        "    def __init__(self,nombre,edad):\n",
        "        self.nombre = nombre\n",
        "        self.edad = edad\n",
        "\n",
        "    def birthday(self):\n",
        "        self.edad+=1\n",
        "\n",
        "    def str(self):\n",
        "        return f\"Tu nombre es: {self.nombre}\"\n",
        "\n",
        "human = Persona(\"Carlos\",24)\n",
        "print(human.str())"
      ]
    },
    {
      "cell_type": "markdown",
      "metadata": {
        "id": "S0sobPBPLBYO"
      },
      "source": [
        "## Ejercicio 8"
      ]
    },
    {
      "cell_type": "markdown",
      "metadata": {
        "id": "eTG6Dbp0LBYO"
      },
      "source": [
        "Extender la aplicación anterior con una clase **Bus**. Como atributo tiene un arreglo de pasajeros (inicialmente vacío), una capacidad (se ingresa en el constructor) y un chofer. Debes implementar el método ingresar_chofer(self, persona), que recibe una persona y queda como chofer del Bus si es mayor de 18 años. Cabe destacar que el chofer no se ingresa en el constructor."
      ]
    },
    {
      "cell_type": "code",
      "execution_count": 35,
      "metadata": {
        "id": "TwmorVMPLBYP",
        "colab": {
          "base_uri": "https://localhost:8080/",
          "height": 35
        },
        "outputId": "79ef7c0d-da66-494b-f10e-07ae3274d9be"
      },
      "outputs": [
        {
          "output_type": "execute_result",
          "data": {
            "text/plain": [
              "'Bien!, esteban eres el chofer del bus'"
            ],
            "application/vnd.google.colaboratory.intrinsic+json": {
              "type": "string"
            }
          },
          "metadata": {},
          "execution_count": 35
        }
      ],
      "source": [
        "class Bus(Persona):\n",
        "    def __init__(self,capacidad,pasajeros=[]):\n",
        "        self.capacidad = capacidad\n",
        "        self.pasajeros = pasajeros\n",
        "\n",
        "    def ingresar_chofer(self,persona):\n",
        "        if(persona.edad>=18):\n",
        "            return f\"Bien!, {persona.nombre} eres el chofer del bus\"\n",
        "        else:\n",
        "            return f\"Lo siento!, {persona.nombre} no puedes ser el chofer, porque eres menor de edad\"\n",
        "\n",
        "persona1 = Persona(\"Julio\",17)\n",
        "persona2 = Persona(\"panchito\",17)\n",
        "persona3 = Persona(\"pepito\",15)\n",
        "persona4 = Persona(\"esteban\",95)\n",
        "mercedesbus = Bus(40,[persona1.nombre,persona2.nombre,persona3.nombre])\n",
        "mercedesbus.ingresar_chofer(persona4)\n"
      ]
    },
    {
      "cell_type": "markdown",
      "metadata": {
        "id": "jj8eEEmKLBYQ"
      },
      "source": [
        "## Ejercicio 9"
      ]
    },
    {
      "cell_type": "markdown",
      "metadata": {
        "id": "v6vIOYMrLBYQ"
      },
      "source": [
        "Extender la clase **Bus** con el método **subir_pasajero(self, persona)**. Este método sube a la persona al bus (i.e. La agrega al arreglo de asientos) siempre que el número de pasajeros en el Bus sea menor que la capacidad total."
      ]
    },
    {
      "cell_type": "code",
      "execution_count": 38,
      "metadata": {
        "id": "lCmVp107LBYR",
        "colab": {
          "base_uri": "https://localhost:8080/",
          "height": 35
        },
        "outputId": "9ea78753-b550-4ab3-c2d0-3597a4a7d318"
      },
      "outputs": [
        {
          "output_type": "execute_result",
          "data": {
            "text/plain": [
              "'Puede4s subir Fernanda'"
            ],
            "application/vnd.google.colaboratory.intrinsic+json": {
              "type": "string"
            }
          },
          "metadata": {},
          "execution_count": 38
        }
      ],
      "source": [
        "class Bus(Persona):\n",
        "    def __init__(self,capacidad,pasajeros=[]):\n",
        "        self.capacidad = capacidad\n",
        "        self.pasajeros = pasajeros\n",
        "\n",
        "    def ingresar_chofer(self,persona):\n",
        "        if(persona.edad>=18):\n",
        "            return f\"Bien!, {persona.nombre} eres el chofer del bus\"\n",
        "        else:\n",
        "            return f\"Lo siento!, {persona.nombre} no puedes ser el chofer, porque eres menor de edad\"\n",
        "    def subir_pasajero(self,persona):\n",
        "        if(self.capacidad>len(self.pasajeros)):\n",
        "            self.pasajeros.append(persona.nombre)\n",
        "            return f\"Puedes subir {persona.nombre}\"\n",
        "        else:\n",
        "            return f\"No Puedes subir {persona.nombre}\"\n",
        "\n",
        "persona1 = Persona(\"Julio\",17)\n",
        "persona2 = Persona(\"panchito\",17)\n",
        "persona3 = Persona(\"pepito\",15)\n",
        "persona4 = Persona(\"esteban\",95)\n",
        "pasajero1 = Persona(\"Fernanda\",35)\n",
        "mercedesbus = Bus(40,[persona1.nombre,persona2.nombre,persona3.nombre])\n",
        "mercedesbus.subir_pasajero(pasajero1)"
      ]
    }
  ],
  "metadata": {
    "kernelspec": {
      "display_name": "Python 3",
      "language": "python",
      "name": "python3"
    },
    "language_info": {
      "codemirror_mode": {
        "name": "ipython",
        "version": 3
      },
      "file_extension": ".py",
      "mimetype": "text/x-python",
      "name": "python",
      "nbconvert_exporter": "python",
      "pygments_lexer": "ipython3",
      "version": "3.6.9"
    },
    "colab": {
      "name": "Ejercitación 3.1 - POO.ipynb",
      "provenance": [],
      "collapsed_sections": []
    }
  },
  "nbformat": 4,
  "nbformat_minor": 0
}