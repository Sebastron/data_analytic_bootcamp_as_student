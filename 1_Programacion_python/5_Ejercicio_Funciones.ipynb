{
  "cells": [
    {
      "cell_type": "markdown",
      "metadata": {
        "id": "6N-DreaT_Mem"
      },
      "source": [
        "# Ejercicios de Funciones"
      ]
    },
    {
      "cell_type": "markdown",
      "metadata": {
        "id": "5OVHnSZg_MfO"
      },
      "source": [
        "## Ejercicio 1"
      ]
    },
    {
      "cell_type": "markdown",
      "metadata": {
        "id": "-ao6Cq8e_MfS"
      },
      "source": [
        "Escribir una función que muestre por pantalla el saludo <font color=#B40431>¡Hola amiga!</font> cada vez que se la invoque."
      ]
    },
    {
      "cell_type": "code",
      "execution_count": null,
      "metadata": {
        "colab": {
          "base_uri": "https://localhost:8080/"
        },
        "id": "MvHcv4Fi_MfY",
        "outputId": "54794142-decd-4505-9661-92fe9eeecd00"
      },
      "outputs": [
        {
          "output_type": "stream",
          "name": "stdout",
          "text": [
            "¡Hola amiga!\n"
          ]
        }
      ],
      "source": [
        "def hola():\n",
        "  print(\"¡Hola amiga!\")\n",
        "hola()"
      ]
    },
    {
      "cell_type": "markdown",
      "metadata": {
        "id": "86LC9pcI_Mfb"
      },
      "source": [
        "## Ejercicio 2"
      ]
    },
    {
      "cell_type": "markdown",
      "metadata": {
        "id": "eEpMtpta_Mfl"
      },
      "source": [
        "Escribir una función a la que se le pase una cadena <font color=#B40431>&#60;nombre&#62;</font> y muestre por pantalla el saludo <font color=#B40431>¡hola &#60;nombre&#62;!</font>."
      ]
    },
    {
      "cell_type": "code",
      "execution_count": null,
      "metadata": {
        "colab": {
          "base_uri": "https://localhost:8080/"
        },
        "id": "AUM_rMVc_Mfp",
        "outputId": "0598f7ba-6daf-4e2a-dea5-b075b6cfa2b2"
      },
      "outputs": [
        {
          "output_type": "stream",
          "name": "stdout",
          "text": [
            "Ingrese su nombre, usuario: Sebastian\n",
            "¡Hola Sebastian!\n"
          ]
        }
      ],
      "source": [
        "def hola(x):\n",
        "  print(\"¡Hola {}!\".format(x))\n",
        "nombre = input(\"Ingrese su nombre, usuario: \")\n",
        "hola(nombre)"
      ]
    },
    {
      "cell_type": "markdown",
      "metadata": {
        "id": "irzY198J_Mfs"
      },
      "source": [
        "## Ejercicio 3"
      ]
    },
    {
      "cell_type": "markdown",
      "metadata": {
        "id": "6OUGoNnh_Mfz"
      },
      "source": [
        "Escribir una función que reciba un número entero positivo y devuelva su factorial."
      ]
    },
    {
      "cell_type": "code",
      "execution_count": null,
      "metadata": {
        "colab": {
          "base_uri": "https://localhost:8080/"
        },
        "id": "YA9S54wU_Mf8",
        "outputId": "81ff1047-9288-499b-be39-b716833fad61"
      },
      "outputs": [
        {
          "output_type": "stream",
          "name": "stdout",
          "text": [
            "Ingrese el numero entero positivo: 10\n",
            "Resultado del factorial de 10: 3628800\n"
          ]
        }
      ],
      "source": [
        "def factorial(n):\n",
        "  if(n==0):\n",
        "    return 1\n",
        "  else:\n",
        "    return n * factorial(n-1)\n",
        "try:\n",
        "   x = abs(int(input(\"Ingrese el numero entero positivo: \")))\n",
        "   print(\"Resultado del factorial de {}: {}\".format(x, factorial(x)))\n",
        "except ValueError:\n",
        "  print(\"Error en el ingreso del valor de número, debe ser entero, vuelve a intentar.\") \n",
        " "
      ]
    },
    {
      "cell_type": "markdown",
      "metadata": {
        "id": "grF7VtsS_MgF"
      },
      "source": [
        "## Ejercicio 4"
      ]
    },
    {
      "cell_type": "markdown",
      "metadata": {
        "id": "VvVXGc-L_MgJ"
      },
      "source": [
        "Escribir una función que calcule el total de una factura tras aplicarle el IVA. La función debe recibir la cantidad sin IVA y el porcentaje de IVA a aplicar, y devolver el total de la factura. Si se invoca la función sin pasarle el porcentaje de IVA, deberá aplicar un 21%."
      ]
    },
    {
      "cell_type": "code",
      "execution_count": null,
      "metadata": {
        "colab": {
          "base_uri": "https://localhost:8080/"
        },
        "id": "Km3MkbAu_MgW",
        "outputId": "eaf2fb9a-0a0c-443a-c45e-01ff4779d065"
      },
      "outputs": [
        {
          "output_type": "stream",
          "name": "stdout",
          "text": [
            "Ingrese la cantidad sin IVA: 50003\n",
            "Ingrese el porcentaje de IVA en decimal (ej: 0.34): 0.34\n",
            "El total de una factura es: 67004.02\n"
          ]
        }
      ],
      "source": [
        "def iva(*argumentos):\n",
        "  if(argumentos[1]==\"\"):\n",
        "    iva = 0.21\n",
        "  else:\n",
        "    iva = float(argumentos[1])\n",
        "  print(\"El total de una factura es: {}\".format(argumentos[0] + (argumentos[0]*iva)))\n",
        "try:\n",
        "   cantidad = abs(float(input(\"Ingrese la cantidad sin IVA: \")))\n",
        "   por_iva = input(\"Ingrese el porcentaje de IVA en decimal (ej: 0.34): \")\n",
        "   iva(cantidad, por_iva)\n",
        "except ValueError:\n",
        "  print(\"Error en el ingreso de uno de los valores, vuelve a intentar.\") "
      ]
    },
    {
      "cell_type": "markdown",
      "metadata": {
        "id": "BJvxYPdj_MgY"
      },
      "source": [
        "## Ejercicio 5"
      ]
    },
    {
      "cell_type": "markdown",
      "metadata": {
        "id": "r_eGusQU_Mgr"
      },
      "source": [
        "Escribir una función que calcule el área de un círculo y otra que calcule el volumen de un cilindro usando la primera función."
      ]
    },
    {
      "cell_type": "code",
      "execution_count": null,
      "metadata": {
        "id": "F4MwuSAx_Mg0",
        "colab": {
          "base_uri": "https://localhost:8080/"
        },
        "outputId": "615aab59-fee8-4fbd-a084-d52671eaeba6"
      },
      "outputs": [
        {
          "output_type": "stream",
          "name": "stdout",
          "text": [
            "314.1592\n",
            "1570.796\n"
          ]
        }
      ],
      "source": [
        "import math\n",
        "\n",
        "def area_circulo (r):\n",
        "  pi= 3.141592\n",
        "  return((r**2)*pi)\n",
        "\n",
        "print(area_circulo(10))\n",
        "\n",
        "def volumen_cilindro (l, r):\n",
        "  return(area_circulo(r)*l)\n",
        "\n",
        "print(volumen_cilindro(5,10))"
      ]
    },
    {
      "cell_type": "markdown",
      "metadata": {
        "id": "_XuCVKyp_Mg3"
      },
      "source": [
        "## Ejercicio 6"
      ]
    },
    {
      "cell_type": "markdown",
      "metadata": {
        "id": "D4JcESFK_Miq"
      },
      "source": [
        "Escribir una función que reciba una muestra de números en una lista y devuelva su media."
      ]
    },
    {
      "cell_type": "code",
      "execution_count": null,
      "metadata": {
        "id": "QHzEAXhZ_MlY",
        "colab": {
          "base_uri": "https://localhost:8080/"
        },
        "outputId": "54e9cac4-0b49-45c4-85c4-053e863e7582"
      },
      "outputs": [
        {
          "output_type": "stream",
          "name": "stdout",
          "text": [
            "La media de los n[umero de la lista ingresada es:  332.67\n"
          ]
        }
      ],
      "source": [
        "import numpy as np\n",
        "nrs = [223, 345, 567, 234, 975, 34, 55, 343, 218]\n",
        "\n",
        "def media(lista):\n",
        "  return round(np.mean(lista),2)\n",
        "\n",
        "print('La media de los n[umero de la lista ingresada es: ', media(nrs))"
      ]
    },
    {
      "cell_type": "markdown",
      "metadata": {
        "id": "MYV3xdQL_Mll"
      },
      "source": [
        "## Ejercicio 7"
      ]
    },
    {
      "cell_type": "markdown",
      "metadata": {
        "id": "CS_rOfpS_Mln"
      },
      "source": [
        "Escribir una función que reciba una muestra de números en una lista y devuelva otra lista con sus cuadrados."
      ]
    },
    {
      "cell_type": "code",
      "execution_count": null,
      "metadata": {
        "id": "mP3jXeBa_Mlz",
        "colab": {
          "base_uri": "https://localhost:8080/"
        },
        "outputId": "b75981b9-a049-413e-f52a-5b228c3eb0c9"
      },
      "outputs": [
        {
          "output_type": "stream",
          "name": "stdout",
          "text": [
            "Ingrese el numero entero para ingresar a la lista: 34\n",
            "¿Deseas continuar?: Si\n",
            "Ingrese el numero entero para ingresar a la lista: 2\n",
            "¿Deseas continuar?: \n",
            "Ingrese el numero entero para ingresar a la lista: 3\n",
            "¿Deseas continuar?: no\n",
            "Resultado de 3.0, al aplicar todos al cuadrado, es: [1156.0, 4.0, 9.0]\n"
          ]
        }
      ],
      "source": [
        "def cuadrados(lista):\n",
        "  for i in range(len(lista)):\n",
        "    lista[i] = lista[i]**2\n",
        "  return lista\n",
        "try:\n",
        "  switch = 1\n",
        "  numeros = []\n",
        "  while(switch == 1):\n",
        "     x = float(input(\"Ingrese el numero entero para ingresar a la lista: \"))\n",
        "     numeros.append(x)\n",
        "     continuar = input(\"¿Deseas continuar?: \")\n",
        "     if(continuar == \"No\" or continuar == \"no\" or continuar == \"NO\" or continuar == \"nO\" ):\n",
        "       switch = 0\n",
        "  print(\"Resultado de {}, al aplicar todos al cuadrado, es: {}\".format(x, cuadrados(numeros)))\n",
        "except ValueError:\n",
        "  print(\"Error en el ingreso del valor de número, debe ser entero, vuelve a intentar.\") "
      ]
    },
    {
      "cell_type": "markdown",
      "metadata": {
        "id": "qDBZnWbf_Ml1"
      },
      "source": [
        "## Ejercicio 8"
      ]
    },
    {
      "cell_type": "markdown",
      "metadata": {
        "id": "ROqMRaoe_Ml3"
      },
      "source": [
        "Escribir una función que reciba una muestra de números en una lista y devuelva un diccionario con su media, varianza y desviación típica."
      ]
    },
    {
      "cell_type": "code",
      "execution_count": null,
      "metadata": {
        "id": "rW_OmvX__Ml7",
        "colab": {
          "base_uri": "https://localhost:8080/"
        },
        "outputId": "6941601a-b62d-49c7-d7c3-6e1b6ea88eff"
      },
      "outputs": [
        {
          "output_type": "stream",
          "name": "stdout",
          "text": [
            "El diccionario estadístico de la lista ingresada es:  \n",
            "Media: 1084.1 \n",
            "Varianza: 4920231.29 \n",
            "Desviación típica: 2218.16\n"
          ]
        }
      ],
      "source": [
        "import numpy as np\n",
        "nrs2 = np.array([345, 345, 788, 234, 22, 34, 55, 343, 999, 7676])\n",
        "def dicc_datos(lista):\n",
        "  #Media\n",
        "  media = round(np.mean(lista),2)\n",
        "  #Varianza\n",
        "  varianza = round(lista.var(),2)\n",
        "  #Desviación típica\n",
        "  desviacion = round(lista.std(),2)\n",
        "  respuesta = f'\\nMedia: {media} \\nVarianza: {varianza} \\nDesviación típica: {desviacion}'\n",
        "\n",
        "  return respuesta\n",
        "\n",
        "print('El diccionario estadístico de la lista ingresada es: ', dicc_datos(nrs2))"
      ]
    },
    {
      "cell_type": "markdown",
      "metadata": {
        "id": "PtVGVmRK_MmB"
      },
      "source": [
        "## Ejercicio 9"
      ]
    },
    {
      "cell_type": "markdown",
      "metadata": {
        "id": "CN3LtlHv_MmD"
      },
      "source": [
        "Escribir una función que calcule el máximo común divisor de dos números y otra que calcule el mínimo común múltiplo."
      ]
    },
    {
      "cell_type": "code",
      "execution_count": 3,
      "metadata": {
        "id": "b47rYBbW_MmG",
        "colab": {
          "base_uri": "https://localhost:8080/"
        },
        "outputId": "5ac96bc9-4ebd-4eb1-a859-1fa6b58c458a"
      },
      "outputs": [
        {
          "output_type": "stream",
          "name": "stdout",
          "text": [
            "5\n",
            "440.0\n"
          ]
        }
      ],
      "source": [
        "#maximo_comun_divisor\n",
        "def mcd(a,b):\n",
        "  while(b):\n",
        "    a, b = b, a%b\n",
        "  return a\n",
        "\n",
        "#minimo_comun_multimplo\n",
        "def mcm(a,b):\n",
        "  return (a*b)/mcd(a,b)\n",
        "\n",
        "print(mcd(55,40))\n",
        "print(mcm(55,40))"
      ]
    },
    {
      "cell_type": "markdown",
      "metadata": {
        "id": "2GdEIzeT_MmN"
      },
      "source": [
        "## Ejercicio 10"
      ]
    },
    {
      "cell_type": "markdown",
      "metadata": {
        "id": "T3WSbfK6_Mme"
      },
      "source": [
        "Escribir una función que convierta un número decimal en binario y otra que convierta un número binario en decimal."
      ]
    },
    {
      "cell_type": "code",
      "execution_count": null,
      "metadata": {
        "id": "EQ1ZP_nN_Mmr",
        "colab": {
          "base_uri": "https://localhost:8080/"
        },
        "outputId": "25075a07-3701-45b0-97d0-fdada0d70e8e"
      },
      "outputs": [
        {
          "output_type": "stream",
          "name": "stdout",
          "text": [
            "Elige una de las dos operaciones, \n",
            "'1' para transformación de decimal a binario. \n",
            " Para la transformación de binario a decimal, cualquier otro valor.\n",
            "\n",
            "2\n",
            "Ingrese el número binario: 1001010\n",
            "El resultado de conversión es: 74\n"
          ]
        }
      ],
      "source": [
        "def binario_decimal(binario): #El binario debe ser string o lista\n",
        "  suma = 0\n",
        "  pos = len(binario)-1 \n",
        "  for i in binario:\n",
        "    suma += int(i)*(2**pos)\n",
        "    pos-=1\n",
        "  return suma\n",
        "\n",
        "def decimal_binario(decimal):\n",
        "  binario = []\n",
        "  while (decimal != 0):\n",
        "    binario.append(decimal % 2) # se obtiene el 1 o 0, según el resto de la división\n",
        "    decimal //= 2 # Se debe realizar una división entera para obtener otro binario\n",
        "  return binario\n",
        "\n",
        "print(\"Elige una de las dos operaciones, \\n'1' para transformación de decimal a binario. \\n Para la transformación de binario a decimal, cualquier otro valor.\\n\")\n",
        "menu = input(\"\")\n",
        "if(menu == \"1\"):\n",
        "  try:\n",
        "    n_decimal = int(input(\"Ingrese el número decimal: \"))\n",
        "    print(\"El resultado de conversión es: {}\".format(decimal_binario(n_decimal)))\n",
        "  except ValueError:\n",
        "    print(\"Error en el ingreso del valor de número, debe ser entero, vuelve a intentar.\") \n",
        "else:\n",
        "    n_binario = input(\"Ingrese el número binario: \")\n",
        "    print(\"El resultado de conversión es: {}\".format(binario_decimal(n_binario)))\n"
      ]
    },
    {
      "cell_type": "markdown",
      "metadata": {
        "id": "haffGK8S_Mmv"
      },
      "source": [
        "## Ejercicio 11"
      ]
    },
    {
      "cell_type": "markdown",
      "metadata": {
        "id": "TzgPH1CV_MnA"
      },
      "source": [
        "Escribir un programa que reciba una cadena de caracteres y devuelva un diccionario con cada palabra que contiene y su frecuencia. Escribir otra función que reciba el diccionario generado con la función anterior y devuelva una tupla con la palabra más repetida y su frecuencia."
      ]
    },
    {
      "cell_type": "code",
      "execution_count": null,
      "metadata": {
        "id": "cRcwCn-4_MnF",
        "outputId": "ea4767a6-326c-4416-9b9a-e81befd7eb57",
        "colab": {
          "base_uri": "https://localhost:8080/"
        }
      },
      "outputs": [
        {
          "output_type": "stream",
          "name": "stdout",
          "text": [
            "{'un': 2, 'día': 1, 'como': 1, 'cualquier': 1, 'otro': 1, 'joven': 1, 'y': 1, 'fornido': 1, 'lobo': 1, 'sintió': 1, 'cómo': 1, 'su': 1, 'garganta': 1, 'se': 1, 'atoraba': 1, 'con': 1, 'el': 1, 'pequeño': 1, 'hueso': 1, 'de': 2, 'una': 1, 'sus': 1, 'presas': 3}\n",
            "La palabra más repetida es: ('presas', 3)\n"
          ]
        }
      ],
      "source": [
        "#funcion que toma el texto y lo separa en palabras\n",
        "def texto(corpus): \n",
        "  corpus=corpus.split(\" \")\n",
        "  frecuencia_palabras = {}\n",
        "  for palabras in corpus:\n",
        "    if palabras in frecuencia_palabras:\n",
        "      frecuencia_palabras[palabras] += 1\n",
        "    else:\n",
        "      frecuencia_palabras[palabras] = 1\n",
        "  return frecuencia_palabras\n",
        "\n",
        "#funcion que devuelve la palabra mas repetida\n",
        "def repetida(frecuencia_palabras):\n",
        "  palabra='' \n",
        "  frec=0\n",
        "  for p,f in frecuencia_palabras.items():\n",
        "    if f>frec:\n",
        "      palabra=p\n",
        "      frec=f\n",
        "  return palabra,frec\n",
        "\n",
        "cadena=\"Un día como cualquier otro un joven y fornido lobo sintió cómo su garganta se atoraba con el pequeño hueso de una de sus presas presas presas\"\n",
        "c = cadena.lower()\n",
        "\n",
        "print(texto(c))\n",
        "print(\"La palabra más repetida es:\", repetida(texto(c)))"
      ]
    }
  ],
  "metadata": {
    "kernelspec": {
      "display_name": "Python 3",
      "language": "python",
      "name": "python3"
    },
    "language_info": {
      "codemirror_mode": {
        "name": "ipython",
        "version": 3
      },
      "file_extension": ".py",
      "mimetype": "text/x-python",
      "name": "python",
      "nbconvert_exporter": "python",
      "pygments_lexer": "ipython3",
      "version": "3.6.9"
    },
    "colab": {
      "name": "Ejercitación 2.1 - Funciones.ipynb",
      "provenance": [],
      "collapsed_sections": []
    }
  },
  "nbformat": 4,
  "nbformat_minor": 0
}