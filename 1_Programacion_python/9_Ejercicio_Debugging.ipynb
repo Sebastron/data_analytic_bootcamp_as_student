{
  "cells": [
    {
      "cell_type": "markdown",
      "metadata": {
        "id": "pzdof4dS3W80"
      },
      "source": [
        "# Ejercicios de Debugging"
      ]
    },
    {
      "cell_type": "markdown",
      "metadata": {
        "id": "ZPNdo8qJ3W9H"
      },
      "source": [
        "## Ejercicio 1"
      ]
    },
    {
      "cell_type": "markdown",
      "metadata": {
        "id": "_ETpiXZN3W9J"
      },
      "source": [
        "Corregir los errores sintácticos del siguiente programa:"
      ]
    },
    {
      "cell_type": "code",
      "execution_count": null,
      "metadata": {
        "colab": {
          "base_uri": "https://localhost:8080/",
          "height": 130
        },
        "id": "1g3DmlOf3W9M",
        "outputId": "c1d56c51-a632-4412-fc6b-5d1cd02e25e4"
      },
      "outputs": [
        {
          "output_type": "error",
          "ename": "SyntaxError",
          "evalue": "ignored",
          "traceback": [
            "\u001b[0;36m  File \u001b[0;32m\"<ipython-input-2-f636a68eee11>\"\u001b[0;36m, line \u001b[0;32m2\u001b[0m\n\u001b[0;31m    if contraseña in ['sesamo'):\u001b[0m\n\u001b[0m                              ^\u001b[0m\n\u001b[0;31mSyntaxError\u001b[0m\u001b[0;31m:\u001b[0m invalid syntax\n"
          ]
        }
      ],
      "source": [
        "contraseña = input('Introduce la contraseña: \")\n",
        "if contraseña in ['sesamo'):\n",
        "  print('Pasa')\n",
        "else\n",
        "  print('No pasa')"
      ]
    },
    {
      "cell_type": "code",
      "execution_count": null,
      "metadata": {
        "colab": {
          "base_uri": "https://localhost:8080/"
        },
        "id": "A98swldZ3W9R",
        "outputId": "081c63ea-239f-4e00-b336-db0eada6cafb"
      },
      "outputs": [
        {
          "output_type": "stream",
          "name": "stdout",
          "text": [
            "Introduce la contraseña: sesamo\n",
            "Pasa\n"
          ]
        }
      ],
      "source": [
        "contraseña = input(\"Introduce la contraseña: \")\n",
        "if contraseña in ['sesamo']:\n",
        "  print('Pasa')\n",
        "else:\n",
        "  print('No pasa')"
      ]
    },
    {
      "cell_type": "markdown",
      "metadata": {
        "id": "vpdSWCpz3W9S"
      },
      "source": [
        "## Ejercicio 2"
      ]
    },
    {
      "cell_type": "markdown",
      "metadata": {
        "id": "iUXVht6I3W9V"
      },
      "source": [
        "Detectar y corregir los errores del siguiente programa que aplica el iva a una factura:"
      ]
    },
    {
      "cell_type": "code",
      "execution_count": null,
      "metadata": {
        "colab": {
          "base_uri": "https://localhost:8080/",
          "height": 252
        },
        "id": "RNvimyIA3W9X",
        "outputId": "363971b7-d61b-4b52-a799-b114341bc38e"
      },
      "outputs": [
        {
          "name": "stdout",
          "output_type": "stream",
          "text": [
            "Introduce la base imponible de la factura: 1000\n"
          ]
        },
        {
          "output_type": "error",
          "ename": "NameError",
          "evalue": "ignored",
          "traceback": [
            "\u001b[0;31m---------------------------------------------------------------------------\u001b[0m",
            "\u001b[0;31mNameError\u001b[0m                                 Traceback (most recent call last)",
            "\u001b[0;32m<ipython-input-4-d86635c951d6>\u001b[0m in \u001b[0;36m<module>\u001b[0;34m()\u001b[0m\n\u001b[1;32m      1\u001b[0m \u001b[0mbase\u001b[0m \u001b[0;34m=\u001b[0m \u001b[0minput\u001b[0m\u001b[0;34m(\u001b[0m\u001b[0;34m'Introduce la base imponible de la factura: '\u001b[0m\u001b[0;34m)\u001b[0m\u001b[0;34m\u001b[0m\u001b[0;34m\u001b[0m\u001b[0m\n\u001b[0;32m----> 2\u001b[0;31m \u001b[0mprint\u001b[0m\u001b[0;34m(\u001b[0m\u001b[0maplica_iva\u001b[0m\u001b[0;34m(\u001b[0m\u001b[0mbase\u001b[0m\u001b[0;34m,\u001b[0m \u001b[0miva\u001b[0m\u001b[0;34m)\u001b[0m\u001b[0;34m)\u001b[0m\u001b[0;34m\u001b[0m\u001b[0;34m\u001b[0m\u001b[0m\n\u001b[0m\u001b[1;32m      3\u001b[0m \u001b[0;34m\u001b[0m\u001b[0m\n\u001b[1;32m      4\u001b[0m \u001b[0;32mdef\u001b[0m \u001b[0maplica_iva\u001b[0m\u001b[0;34m(\u001b[0m\u001b[0mbase\u001b[0m\u001b[0;34m,\u001b[0m \u001b[0miva\u001b[0m \u001b[0;34m=\u001b[0m \u001b[0;36m21\u001b[0m\u001b[0;34m)\u001b[0m\u001b[0;34m:\u001b[0m\u001b[0;34m\u001b[0m\u001b[0;34m\u001b[0m\u001b[0m\n\u001b[1;32m      5\u001b[0m     \u001b[0mbase\u001b[0m \u001b[0;34m=\u001b[0m \u001b[0mbase\u001b[0m \u001b[0;34m*\u001b[0m \u001b[0miva\u001b[0m\u001b[0;34m\u001b[0m\u001b[0;34m\u001b[0m\u001b[0m\n",
            "\u001b[0;31mNameError\u001b[0m: name 'aplica_iva' is not defined"
          ]
        }
      ],
      "source": [
        "base = input('Introduce la base imponible de la factura: ')\n",
        "print(aplica_iva(base, iva))\n",
        "\n",
        "def aplica_iva(base, iva = 21):\n",
        "    base = base * iva   \n",
        "    return base "
      ]
    },
    {
      "cell_type": "code",
      "execution_count": null,
      "metadata": {
        "colab": {
          "base_uri": "https://localhost:8080/"
        },
        "id": "JgwG04HK3W9Z",
        "outputId": "3ca68c8a-12d6-45c5-c55c-3471d3dfbd5f"
      },
      "outputs": [
        {
          "output_type": "stream",
          "name": "stdout",
          "text": [
            "Introduce la base imponible de la factura: 1000\n",
            "21000.0\n"
          ]
        }
      ],
      "source": [
        "def aplica_iva(base, iva = 21):\n",
        "    base = base * iva   \n",
        "    return base \n",
        "try: \n",
        "  base = float(input('Introduce la base imponible de la factura: '))\n",
        "  print(aplica_iva(base))\n",
        "except ValuesError:\n",
        "  print(\"No ha ingresado la base imponible correctamente.\")"
      ]
    },
    {
      "cell_type": "markdown",
      "metadata": {
        "id": "lThTTQFI3W9a"
      },
      "source": [
        "## Ejercicio 3"
      ]
    },
    {
      "cell_type": "markdown",
      "metadata": {
        "id": "Xk3uZxy23W9d"
      },
      "source": [
        "Detectar y corregir los errores del siguiente programa que calcula el producto escalar de dos vectores:"
      ]
    },
    {
      "cell_type": "code",
      "execution_count": null,
      "metadata": {
        "colab": {
          "base_uri": "https://localhost:8080/",
          "height": 321
        },
        "id": "zFLZj0ub3W9f",
        "outputId": "ebe76b9d-67ba-4298-8c3b-5d058bdd0144"
      },
      "outputs": [
        {
          "output_type": "error",
          "ename": "TypeError",
          "evalue": "ignored",
          "traceback": [
            "\u001b[0;31m---------------------------------------------------------------------------\u001b[0m",
            "\u001b[0;31mTypeError\u001b[0m                                 Traceback (most recent call last)",
            "\u001b[0;32m<ipython-input-9-7a1a9b93b91a>\u001b[0m in \u001b[0;36m<module>\u001b[0;34m()\u001b[0m\n\u001b[1;32m      7\u001b[0m     \u001b[0;32mreturn\u001b[0m \u001b[0msum\u001b[0m\u001b[0;34m(\u001b[0m\u001b[0mu\u001b[0m\u001b[0;34m)\u001b[0m\u001b[0;34m\u001b[0m\u001b[0;34m\u001b[0m\u001b[0m\n\u001b[1;32m      8\u001b[0m \u001b[0;34m\u001b[0m\u001b[0m\n\u001b[0;32m----> 9\u001b[0;31m \u001b[0mprint\u001b[0m\u001b[0;34m(\u001b[0m\u001b[0mproducto_escalar\u001b[0m\u001b[0;34m(\u001b[0m\u001b[0mu\u001b[0m\u001b[0;34m,\u001b[0m \u001b[0mv\u001b[0m\u001b[0;34m)\u001b[0m\u001b[0;34m)\u001b[0m\u001b[0;34m\u001b[0m\u001b[0;34m\u001b[0m\u001b[0m\n\u001b[0m",
            "\u001b[0;32m<ipython-input-9-7a1a9b93b91a>\u001b[0m in \u001b[0;36mproducto_escalar\u001b[0;34m(u, v)\u001b[0m\n\u001b[1;32m      4\u001b[0m \u001b[0;32mdef\u001b[0m \u001b[0mproducto_escalar\u001b[0m\u001b[0;34m(\u001b[0m\u001b[0mu\u001b[0m\u001b[0;34m,\u001b[0m \u001b[0mv\u001b[0m\u001b[0;34m)\u001b[0m\u001b[0;34m:\u001b[0m\u001b[0;34m\u001b[0m\u001b[0;34m\u001b[0m\u001b[0m\n\u001b[1;32m      5\u001b[0m     \u001b[0;32mfor\u001b[0m \u001b[0mi\u001b[0m \u001b[0;32min\u001b[0m \u001b[0mu\u001b[0m\u001b[0;34m:\u001b[0m\u001b[0;34m\u001b[0m\u001b[0;34m\u001b[0m\u001b[0m\n\u001b[0;32m----> 6\u001b[0;31m         \u001b[0mu\u001b[0m\u001b[0;34m[\u001b[0m\u001b[0mi\u001b[0m\u001b[0;34m+\u001b[0m\u001b[0;36m1\u001b[0m\u001b[0;34m]\u001b[0m \u001b[0;34m*=\u001b[0m \u001b[0mv\u001b[0m\u001b[0;34m[\u001b[0m\u001b[0mi\u001b[0m\u001b[0;34m+\u001b[0m\u001b[0;36m1\u001b[0m\u001b[0;34m]\u001b[0m\u001b[0;34m\u001b[0m\u001b[0;34m\u001b[0m\u001b[0m\n\u001b[0m\u001b[1;32m      7\u001b[0m     \u001b[0;32mreturn\u001b[0m \u001b[0msum\u001b[0m\u001b[0;34m(\u001b[0m\u001b[0mu\u001b[0m\u001b[0;34m)\u001b[0m\u001b[0;34m\u001b[0m\u001b[0;34m\u001b[0m\u001b[0m\n\u001b[1;32m      8\u001b[0m \u001b[0;34m\u001b[0m\u001b[0m\n",
            "\u001b[0;31mTypeError\u001b[0m: 'tuple' object does not support item assignment"
          ]
        }
      ],
      "source": [
        "u = (1, 2, 3)\n",
        "v = (4, 5, 6)\n",
        "\n",
        "def producto_escalar(u, v):\n",
        "    for i in u:\n",
        "        u[i+1] *= v[i+1]\n",
        "    return sum(u)\n",
        "\n",
        "print(producto_escalar(u, v))"
      ]
    },
    {
      "cell_type": "code",
      "execution_count": null,
      "metadata": {
        "colab": {
          "base_uri": "https://localhost:8080/"
        },
        "id": "uaEYT2a83W9g",
        "outputId": "3150bd16-97c0-409e-c3c6-dd0b38c9329c"
      },
      "outputs": [
        {
          "output_type": "stream",
          "name": "stdout",
          "text": [
            "32\n"
          ]
        }
      ],
      "source": [
        "u = [1, 2, 3]\n",
        "v = [4, 5, 6]\n",
        "\n",
        "def producto_escalar(u, v):\n",
        "    for i in range(len(v)):\n",
        "        u[i] *= v[i]\n",
        "    return sum(u)\n",
        "\n",
        "print(producto_escalar(u, v))"
      ]
    },
    {
      "cell_type": "markdown",
      "metadata": {
        "id": "qms869PO3W9h"
      },
      "source": [
        "## Ejercicio 4"
      ]
    },
    {
      "cell_type": "markdown",
      "metadata": {
        "id": "hGySjzxJ3W9j"
      },
      "source": [
        "Detectar y corregir los errores del siguiente programa que devuelve y elimina el teléfono de un listado telefónico a través del nombre del usuario:"
      ]
    },
    {
      "cell_type": "code",
      "execution_count": null,
      "metadata": {
        "colab": {
          "base_uri": "https://localhost:8080/",
          "height": 200
        },
        "id": "rdXybVHL3W9k",
        "outputId": "1d5a1a13-57a4-47a9-b1b1-cf2c636d8810"
      },
      "outputs": [
        {
          "output_type": "error",
          "ename": "NameError",
          "evalue": "ignored",
          "traceback": [
            "\u001b[0;31m---------------------------------------------------------------------------\u001b[0m",
            "\u001b[0;31mNameError\u001b[0m                                 Traceback (most recent call last)",
            "\u001b[0;32m<ipython-input-22-85bfb90dc6b2>\u001b[0m in \u001b[0;36m<module>\u001b[0;34m()\u001b[0m\n\u001b[1;32m      5\u001b[0m     \u001b[0;32mreturn\u001b[0m \u001b[0mlistin\u001b[0m\u001b[0;34m[\u001b[0m\u001b[0musuario\u001b[0m\u001b[0;34m]\u001b[0m\u001b[0;34m\u001b[0m\u001b[0;34m\u001b[0m\u001b[0m\n\u001b[1;32m      6\u001b[0m \u001b[0;34m\u001b[0m\u001b[0m\n\u001b[0;32m----> 7\u001b[0;31m \u001b[0mprint\u001b[0m\u001b[0;34m(\u001b[0m\u001b[0melimina\u001b[0m\u001b[0;34m(\u001b[0m\u001b[0mlistin\u001b[0m\u001b[0;34m,\u001b[0m \u001b[0;34m'Pablo'\u001b[0m\u001b[0;34m)\u001b[0m\u001b[0;34m)\u001b[0m\u001b[0;34m\u001b[0m\u001b[0;34m\u001b[0m\u001b[0m\n\u001b[0m",
            "\u001b[0;31mNameError\u001b[0m: name 'listin' is not defined"
          ]
        }
      ],
      "source": [
        "listado = {'Juan':123456789, 'Pedro':987654321}\n",
        "\n",
        "def elimina(listin, usuario):\n",
        "    del listin[usuario]\n",
        "    return listin[usuario]\n",
        "\n",
        "print(elimina(listin, 'Pablo'))"
      ]
    },
    {
      "cell_type": "code",
      "execution_count": null,
      "metadata": {
        "colab": {
          "base_uri": "https://localhost:8080/"
        },
        "id": "8jS8njAC3W9l",
        "outputId": "65a0a3d9-e495-45f9-c3fe-20f5d91f167a"
      },
      "outputs": [
        {
          "output_type": "stream",
          "name": "stdout",
          "text": [
            "{'Pedro': 987654321}\n"
          ]
        }
      ],
      "source": [
        "def elimina(listin, usuario):\n",
        "    del listin[usuario]\n",
        "    return listin\n",
        "\n",
        "try:\n",
        "  listado = {'Juan':123456789, 'Pedro':987654321}\n",
        "  print(elimina(listado, 'Juan'))\n",
        "\n",
        "except KeyError:\n",
        "  print(\"El nombre clave que ha ingresado no existe en el diccionario.\")"
      ]
    },
    {
      "cell_type": "markdown",
      "metadata": {
        "id": "M9lFR1wh3W9m"
      },
      "source": [
        "## Ejercicio 5"
      ]
    },
    {
      "cell_type": "markdown",
      "metadata": {
        "id": "LXqPo9Uq3W9p"
      },
      "source": [
        "Detectar y corregir los errores del siguiente programa que multiplica dos matrices:"
      ]
    },
    {
      "cell_type": "code",
      "execution_count": null,
      "metadata": {
        "colab": {
          "base_uri": "https://localhost:8080/",
          "height": 321
        },
        "id": "RiH_Ujr43W9r",
        "outputId": "eef7ed9b-bdd4-432f-e186-0f609fffc04f"
      },
      "outputs": [
        {
          "output_type": "error",
          "ename": "TypeError",
          "evalue": "ignored",
          "traceback": [
            "\u001b[0;31m---------------------------------------------------------------------------\u001b[0m",
            "\u001b[0;31mTypeError\u001b[0m                                 Traceback (most recent call last)",
            "\u001b[0;32m<ipython-input-23-1e354a87f54e>\u001b[0m in \u001b[0;36m<module>\u001b[0;34m()\u001b[0m\n\u001b[1;32m     17\u001b[0m     \u001b[0;32mreturn\u001b[0m \u001b[0mtuple\u001b[0m\u001b[0;34m(\u001b[0m\u001b[0mproducto\u001b[0m\u001b[0;34m)\u001b[0m\u001b[0;34m\u001b[0m\u001b[0;34m\u001b[0m\u001b[0m\n\u001b[1;32m     18\u001b[0m \u001b[0;34m\u001b[0m\u001b[0m\n\u001b[0;32m---> 19\u001b[0;31m \u001b[0mprint\u001b[0m\u001b[0;34m(\u001b[0m\u001b[0mproducto\u001b[0m\u001b[0;34m(\u001b[0m\u001b[0ma\u001b[0m\u001b[0;34m,\u001b[0m \u001b[0mb\u001b[0m\u001b[0;34m)\u001b[0m\u001b[0;34m)\u001b[0m\u001b[0;34m\u001b[0m\u001b[0;34m\u001b[0m\u001b[0m\n\u001b[0m",
            "\u001b[0;32m<ipython-input-23-1e354a87f54e>\u001b[0m in \u001b[0;36mproducto\u001b[0;34m(a, b)\u001b[0m\n\u001b[1;32m     11\u001b[0m         \u001b[0;32mfor\u001b[0m \u001b[0mj\u001b[0m \u001b[0;32min\u001b[0m \u001b[0mrange\u001b[0m\u001b[0;34m(\u001b[0m\u001b[0mlen\u001b[0m\u001b[0;34m(\u001b[0m\u001b[0ma\u001b[0m\u001b[0;34m[\u001b[0m\u001b[0;36m0\u001b[0m\u001b[0;34m]\u001b[0m\u001b[0;34m)\u001b[0m\u001b[0;34m)\u001b[0m\u001b[0;34m:\u001b[0m\u001b[0;34m\u001b[0m\u001b[0;34m\u001b[0m\u001b[0m\n\u001b[1;32m     12\u001b[0m             \u001b[0msuma\u001b[0m \u001b[0;34m=\u001b[0m \u001b[0;36m0\u001b[0m\u001b[0;34m\u001b[0m\u001b[0;34m\u001b[0m\u001b[0m\n\u001b[0;32m---> 13\u001b[0;31m             \u001b[0;32mfor\u001b[0m \u001b[0mk\u001b[0m \u001b[0;32min\u001b[0m \u001b[0mrange\u001b[0m\u001b[0;34m(\u001b[0m\u001b[0mlen\u001b[0m\u001b[0;34m(\u001b[0m\u001b[0ma\u001b[0m\u001b[0;34m[\u001b[0m\u001b[0;36m0\u001b[0m\u001b[0;34m]\u001b[0m\u001b[0;34m+\u001b[0m\u001b[0;36m1\u001b[0m\u001b[0;34m)\u001b[0m\u001b[0;34m)\u001b[0m\u001b[0;34m:\u001b[0m\u001b[0;34m\u001b[0m\u001b[0;34m\u001b[0m\u001b[0m\n\u001b[0m\u001b[1;32m     14\u001b[0m                 \u001b[0msuma\u001b[0m \u001b[0;34m+=\u001b[0m \u001b[0ma\u001b[0m\u001b[0;34m[\u001b[0m\u001b[0mi\u001b[0m\u001b[0;34m]\u001b[0m\u001b[0;34m[\u001b[0m\u001b[0mk\u001b[0m\u001b[0;34m]\u001b[0m \u001b[0;34m*\u001b[0m \u001b[0mb\u001b[0m\u001b[0;34m[\u001b[0m\u001b[0mk\u001b[0m\u001b[0;34m+\u001b[0m\u001b[0;36m1\u001b[0m\u001b[0;34m]\u001b[0m\u001b[0;34m[\u001b[0m\u001b[0mj\u001b[0m\u001b[0;34m]\u001b[0m\u001b[0;34m\u001b[0m\u001b[0;34m\u001b[0m\u001b[0m\n\u001b[1;32m     15\u001b[0m             \u001b[0mfila\u001b[0m\u001b[0;34m[\u001b[0m\u001b[0mj\u001b[0m\u001b[0;34m]\u001b[0m \u001b[0;34m=\u001b[0m \u001b[0msuma\u001b[0m\u001b[0;34m\u001b[0m\u001b[0;34m\u001b[0m\u001b[0m\n",
            "\u001b[0;31mTypeError\u001b[0m: can only concatenate tuple (not \"int\") to tuple"
          ]
        }
      ],
      "source": [
        "a = ((1, 2, 3),\n",
        "     (3, 2, 1))\n",
        "b = ((1, 2),\n",
        "     (3, 4),\n",
        "     (5, 6))\n",
        "\n",
        "def producto(a, b):\n",
        "    producto = []\n",
        "    for i in range(len(b)):\n",
        "        fila = []\n",
        "        for j in range(len(a[0])):\n",
        "            suma = 0\n",
        "            for k in range(len(a[0]+1)):\n",
        "                suma += a[i][k] * b[k+1][j]\n",
        "            fila[j] = suma\n",
        "        producto[i] = tuple(fila)\n",
        "    return tuple(producto)\n",
        "\n",
        "print(producto(a, b))"
      ]
    },
    {
      "cell_type": "code",
      "execution_count": null,
      "metadata": {
        "colab": {
          "base_uri": "https://localhost:8080/"
        },
        "id": "OA4DHw0q3W9u",
        "outputId": "e631aa7a-37b2-4d28-81a6-bf3d14046dd4"
      },
      "outputs": [
        {
          "output_type": "stream",
          "name": "stdout",
          "text": [
            "((22, 28), (14, 20))\n"
          ]
        }
      ],
      "source": [
        "a = ((1, 2, 3),\n",
        "     (3, 2, 1))\n",
        "b = ((1, 2),\n",
        "     (3, 4),\n",
        "     (5, 6))\n",
        "\n",
        "def producto(a, b):\n",
        "    producto = []\n",
        "    for i in range(len(a)):\n",
        "        fila = [] \n",
        "        for j in range(len(b[0])):\n",
        "            suma = 0\n",
        "            for k in range(len(a[0])):\n",
        "                suma += a[i][k] * b[k][j]\n",
        "            fila.append(suma)\n",
        "        producto.append(tuple(fila))\n",
        "    return tuple(producto)\n",
        "\n",
        "print(producto(a, b))"
      ]
    }
  ],
  "metadata": {
    "kernelspec": {
      "display_name": "Python 3",
      "language": "python",
      "name": "python3"
    },
    "language_info": {
      "codemirror_mode": {
        "name": "ipython",
        "version": 3
      },
      "file_extension": ".py",
      "mimetype": "text/x-python",
      "name": "python",
      "nbconvert_exporter": "python",
      "pygments_lexer": "ipython3",
      "version": "3.6.9"
    },
    "colab": {
      "name": "Ejercitación 4.3 - Debugging.ipynb",
      "provenance": [],
      "collapsed_sections": []
    }
  },
  "nbformat": 4,
  "nbformat_minor": 0
}