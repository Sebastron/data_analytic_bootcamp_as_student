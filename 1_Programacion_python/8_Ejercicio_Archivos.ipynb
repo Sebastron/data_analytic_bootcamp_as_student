{
  "cells": [
    {
      "cell_type": "markdown",
      "metadata": {
        "id": "2J-l6YOUQfGq"
      },
      "source": [
        "# Ejercicios de Archivos"
      ]
    },
    {
      "cell_type": "markdown",
      "metadata": {
        "id": "ZF-7fpTUQfHI"
      },
      "source": [
        "## Ejercicio 1"
      ]
    },
    {
      "cell_type": "markdown",
      "metadata": {
        "id": "lwpQKQk1QfHK"
      },
      "source": [
        "Escribir una función que pida un número entero entre 1 y 10 y guarde en un archivo con el nombre <font color=#B40431>tabla-n.txt</font> la tabla de multiplicar de ese número, donde <font color=#B40431>n</font> es el número introducido."
      ]
    },
    {
      "cell_type": "code",
      "source": [
        "#Solución del ejercicio\n",
        "def tabla(file, number):\n",
        "  f = open(file_name, 'w') #Argumento w significa write\n",
        "\n",
        "  for i in range(1,11):\n",
        "    f.write(str(numero)+ 'x'+ str(i)+\"=\"+str(numero*i)+\"\\n\")\n",
        "  f.close()\n",
        "\n",
        "numero = int(input(\"Ingrese un numero de 1 al 10: \"))\n",
        "file_name = 'tabla-'+str(numero)+'.txt'\n",
        "tabla(file_name, numero)"
      ],
      "metadata": {
        "colab": {
          "base_uri": "https://localhost:8080/"
        },
        "id": "jyK60d91RvcO",
        "outputId": "a1b64650-c87d-43a5-a161-c0814432aae9"
      },
      "execution_count": null,
      "outputs": [
        {
          "name": "stdout",
          "output_type": "stream",
          "text": [
            "Ingrese un numero de 1 al 10: 10\n"
          ]
        }
      ]
    },
    {
      "cell_type": "markdown",
      "metadata": {
        "id": "LfvCTi9gQfHU"
      },
      "source": [
        "## Ejercicio 2"
      ]
    },
    {
      "cell_type": "markdown",
      "metadata": {
        "id": "NNybxwLZQfHX"
      },
      "source": [
        "Escribir una función que pida un número entero entre 1 y 10, lea el archivo <font color=#B40431>tabla-n.txt</font> con la tabla de multiplicar de ese número, donde <font color=#B40431>n</font> es el número introducido, y la muestre por pantalla. Si el fichero no existe debe mostrar un mensaje por pantalla informando de ello."
      ]
    },
    {
      "cell_type": "code",
      "source": [
        "def lectura(numero, file_name):\n",
        "  try: \n",
        "      f = open(file_name, 'r')\n",
        "      for row in f:\n",
        "        print(row)\n",
        "  except FileNotFoundError:\n",
        "      print('No existe el fichero con la tabla del', numero)\n",
        "\n",
        "numero = int(input('Introduce un número entero entre 1 y 10: '))\n",
        "archivo = 'tabla-' + str(numero) + '.txt'\n",
        "lectura(numero, archivo)"
      ],
      "metadata": {
        "colab": {
          "base_uri": "https://localhost:8080/"
        },
        "id": "g_c8uxX0TIiO",
        "outputId": "ccdca955-a62a-40bd-d684-4e60d7b53be4"
      },
      "execution_count": null,
      "outputs": [
        {
          "output_type": "stream",
          "name": "stdout",
          "text": [
            "Introduce un número entero entre 1 y 10: 4\n",
            "4x1=4\n",
            "\n",
            "4x2=8\n",
            "\n",
            "4x3=12\n",
            "\n",
            "4x4=16\n",
            "\n",
            "4x5=20\n",
            "\n",
            "4x6=24\n",
            "\n",
            "4x7=28\n",
            "\n",
            "4x8=32\n",
            "\n",
            "4x9=36\n",
            "\n",
            "4x10=40\n",
            "\n"
          ]
        }
      ]
    },
    {
      "cell_type": "markdown",
      "metadata": {
        "id": "o4CdL_ZgQfHi"
      },
      "source": [
        "## Ejercicio 3"
      ]
    },
    {
      "cell_type": "markdown",
      "metadata": {
        "id": "lX6fidgQQfHl"
      },
      "source": [
        "Escribir una función que pida dos números <font color=#B40431>n</font> y <font color=#B40431>m</font> entre 1 y 10, lea el archivo <font color=#B40431>tabla-n.txt</font> con la tabla de multiplicar de ese número, y muestre por pantalla la línea <font color=#B40431>m</font> del archivo. Si el archivo no existe debe mostrar un mensaje por pantalla informando de ello."
      ]
    },
    {
      "cell_type": "code",
      "execution_count": null,
      "metadata": {
        "id": "4BGGeMN-QfHo",
        "colab": {
          "base_uri": "https://localhost:8080/"
        },
        "outputId": "0c9570e5-8a64-4bf8-dbbe-58465e86c5b1"
      },
      "outputs": [
        {
          "output_type": "stream",
          "name": "stdout",
          "text": [
            "Introduce la tabla de un número entre 1 y 10: 4\n",
            "Introduce la linea del archivo entre 1 y 10: 9\n",
            "4x9=36\n",
            "\n"
          ]
        }
      ],
      "source": [
        "def lectura(n, m, file_name):\n",
        "  try: \n",
        "      f = open(file_name, 'r')\n",
        "      for row in f:\n",
        "        num = int((row.split('='))[0].split(\"x\")[1])\n",
        "        if(num == m):\n",
        "          print(row)\n",
        "          break\n",
        "  except FileNotFoundError:\n",
        "      print('No existe el fichero con la tabla del', n)\n",
        "\n",
        "n = int(input('Introduce la tabla de un número entre 1 y 10: '))\n",
        "m = int(input('Introduce la linea del archivo entre 1 y 10: '))\n",
        "archivo = 'tabla-' + str(n) + '.txt'\n",
        "lectura(n, m, archivo)"
      ]
    },
    {
      "cell_type": "markdown",
      "metadata": {
        "id": "fiNSovI5QfHr"
      },
      "source": [
        "## Ejercicio 4"
      ]
    },
    {
      "cell_type": "markdown",
      "metadata": {
        "id": "zK19v9x7QfHu"
      },
      "source": [
        "Escribir un programa que acceda a un archivo de Internet mediante su url y muestre por pantalla el número de palabras que contiene."
      ]
    },
    {
      "cell_type": "code",
      "execution_count": null,
      "metadata": {
        "id": "RZLCFoHoQfHy",
        "colab": {
          "base_uri": "https://localhost:8080/"
        },
        "outputId": "02e1f1bf-a14d-431a-ff4e-247697a4d526"
      },
      "outputs": [
        {
          "output_type": "stream",
          "name": "stdout",
          "text": [
            "4772\n",
            "¡La url https://no-existe.txt no existe!\n"
          ]
        }
      ],
      "source": [
        "def words_file(url):\n",
        "\n",
        "    from urllib import request\n",
        "    from urllib.error import URLError\n",
        "    try:\n",
        "        file = request.urlopen(url)\n",
        "    except URLError:\n",
        "        return('¡La url ' + url + ' no existe!')\n",
        "    else:\n",
        "        content = file.read()\n",
        "        return len(content.split())\n",
        "\n",
        "print(words_file('https://www.udemy.com/courses/search/?q=cursos+gratis&sort=relevance&src=ukw'))\n",
        "print(words_file('https://no-existe.txt'))"
      ]
    },
    {
      "cell_type": "markdown",
      "metadata": {
        "id": "qiHZWvD9QfH1"
      },
      "source": [
        "## Ejercicio 5"
      ]
    },
    {
      "cell_type": "markdown",
      "metadata": {
        "id": "DtXjzAyzQfH4"
      },
      "source": [
        "Escribir un programa que abra el <a href=\"https://ec.europa.eu/eurostat/estat-navtree-portlet-prod/BulkDownloadListing?file=data/sdg_08_10.tsv.gz&amp;unzip=true\">archivo con información</a> sobre el PBI per cápita de los países de la Unión Europea, pregunte por las iniciales de un país y muestre el PBI per cápita de ese país de todos los años disponibles."
      ]
    },
    {
      "cell_type": "code",
      "execution_count": null,
      "metadata": {
        "id": "JhsJn896QfH5",
        "colab": {
          "base_uri": "https://localhost:8080/"
        },
        "outputId": "4b40b42a-a2cd-4f1c-b6be-102d16234582"
      },
      "outputs": [
        {
          "output_type": "stream",
          "name": "stdout",
          "text": [
            "Introduce el código de un país: chile\n",
            "producto interno Bruto de chile\n",
            "Año \t PIB\n",
            "2000 \t 21460\n",
            "2001 \t 22190\n",
            "2002 \t 22430\n",
            "2003 \t 22680\n",
            "2004 \t 23020\n",
            "2005 \t 23420\n",
            "2006 \t 24000\n",
            "2007 \t 24380\n",
            "2008 \t 24200\n",
            "2009 \t 23100\n",
            "2010 \t 23040\n",
            "2011 \t 22770\n",
            "2012 \t 22080\n",
            "2013 \t 21840\n",
            "2014 \t 22210\n",
            "2015 \t 23080\n",
            "2016 \t 23760\n",
            "2017 \t 24430\n",
            "2018 \t 24880\n",
            "2019 \t 25200 p\n",
            "2020 \t 22350 p\n",
            "2021 \t 23510 p\n"
          ]
        }
      ],
      "source": [
        "def verpib(url, pais='ES'):\n",
        "\n",
        "    #LLamo librerias neceserias para leer el url\n",
        "    from urllib import request\n",
        "    from urllib.error import URLError\n",
        "    try:\n",
        "        f = request.urlopen(url)\n",
        "    except URLError:\n",
        "        return('La url ' + url + ' no existe')\n",
        "\n",
        "    else:\n",
        "        #Leo los datos\n",
        "        data = f.read().decode('utf-8').split('\\n')\n",
        "\n",
        "        #recorro y separo por el tab\n",
        "        data = [i.split('\\t') for i in data] \n",
        "\n",
        "        data = [list(map(str.strip, i)) for i in data]\n",
        "        for i in data:\n",
        "            i[0] = i[0].split(',')[-1] \n",
        "        data[0][0] = 'anos'\n",
        "        data = {i[0]:i[1:] for i in data}\n",
        "        result = {data['anos'][i]:data[pais][i] for i in range(len(data['anos']))}\n",
        "        return result\n",
        "\n",
        "pais = input('Introduce el código de un país: ')\n",
        "print('producto interno Bruto de', pais)\n",
        "print('Año', '\\t', 'PIB')\n",
        "for ano, pib in verpib('https://ec.europa.eu/eurostat/estat-navtree-portlet-prod/BulkDownloadListing?file=data/sdg_08_10.tsv.gz&unzip=true').items():\n",
        "    print(ano, '\\t', pib)"
      ]
    },
    {
      "cell_type": "markdown",
      "metadata": {
        "id": "Qx3ONT-FQfH6"
      },
      "source": [
        "## Ejercicio 6"
      ]
    },
    {
      "cell_type": "markdown",
      "metadata": {
        "id": "ijTH9DmTQfIC"
      },
      "source": [
        "Escribir un programa para gestionar un listado telefónico con los nombres y los teléfonos de los clientes de una empresa. El programa debe tener funciones para crear el archivo con el listado si no existe, para consultar el teléfono de un cliente, añadir el teléfono de un nuevo cliente y eliminar el teléfono de un cliente. El listado debe estar guardado en el archivo de texto <font color=#B40431>listado.txt</font> donde el nombre del cliente y su teléfono deben aparecer separados por comas y cada cliente en una línea distinta."
      ]
    },
    {
      "cell_type": "code",
      "execution_count": null,
      "metadata": {
        "id": "Pc_jyC_aQfIF",
        "colab": {
          "base_uri": "https://localhost:8080/"
        },
        "outputId": "953a3373-f523-48f7-c7d3-2ea46a16cb1f"
      },
      "outputs": [
        {
          "name": "stdout",
          "output_type": "stream",
          "text": [
            "Gestión del listado telefónico\n",
            "============================\n",
            "1 - Consultar un teléfono\n",
            "2 - Añadir un teléfono\n",
            "3 - Eliminar un teléfono\n",
            "4 - Crear el listado\n",
            "0 - Terminar\n",
            "Ingrese el número de la opción deseada: 2\n",
            "Ingresa el nombre del cliente: sebastian\n",
            "Ingresa el teléfono del cliente: 1234\n",
            "El teléfono se ha añadido.\n",
            "\n",
            "Gestión del listado telefónico\n",
            "============================\n",
            "1 - Consultar un teléfono\n",
            "2 - Añadir un teléfono\n",
            "3 - Eliminar un teléfono\n",
            "4 - Crear el listado\n",
            "0 - Terminar\n",
            "Ingrese el número de la opción deseada: 1\n",
            "Ingresa el nombre del cliente: sebastian\n",
            "1234\n",
            "\n",
            "Gestión del listado telefónico\n",
            "============================\n",
            "1 - Consultar un teléfono\n",
            "2 - Añadir un teléfono\n",
            "3 - Eliminar un teléfono\n",
            "4 - Crear el listado\n",
            "0 - Terminar\n",
            "Ingrese el número de la opción deseada: 4\n",
            "El fichero listado.txt ya existe. ¿Desea vaciarlo (S/N)? s\n",
            "Se ha creado el fichero.\n",
            "\n",
            "Gestión del listado telefónico\n",
            "============================\n",
            "1 - Consultar un teléfono\n",
            "2 - Añadir un teléfono\n",
            "3 - Eliminar un teléfono\n",
            "4 - Crear el listado\n",
            "0 - Terminar\n",
            "Ingrese el número de la opción deseada: 0\n"
          ]
        }
      ],
      "source": [
        "def obtener_telefono(file, cliente):\n",
        "\n",
        "    try: \n",
        "        f = open(file, 'r')\n",
        "    except FileNotFoundError:\n",
        "        return('¡El fichero ' + file + ' no existe!\\n')\n",
        "    else:\n",
        "        directorio = f.readlines()\n",
        "        f.close()\n",
        "        directorio = dict([tuple(line.split(',')) for line in directorio])\n",
        "        if cliente in directorio:\n",
        "            return directorio[cliente]\n",
        "        else:\n",
        "            return('¡El cliente ' + cliente + ' no existe!\\n')\n",
        "\n",
        "\n",
        "def agregar_telefono(file, cliente, telf):\n",
        "\n",
        "    try: \n",
        "        f = open(file, 'a')\n",
        "    except FileNotFoundError:\n",
        "        return('¡El fichero ' + file + ' no existe!\\n')\n",
        "    else:\n",
        "        f.write(cliente + ',' + telf + '\\n')\n",
        "        f.close()\n",
        "        return('El teléfono se ha añadido.\\n')\n",
        "\n",
        "def remover_telefono(file, cliente):\n",
        "\n",
        "    try: \n",
        "        f = open(file, 'r')\n",
        "    except FileNotFoundError:\n",
        "        return('¡El fichero ' + file + ' no existe!\\n')\n",
        "    else:\n",
        "        directorio = f.readlines()\n",
        "        f.close()\n",
        "        directorio = dict([tuple(line.split(',')) for line in directorio])\n",
        "        if cliente in directorio:\n",
        "            del directorio[cliente]\n",
        "            f = open(file, 'w')\n",
        "            for name, telf in directorio.items():\n",
        "                f.write(name + ',' + telf)\n",
        "            f.close()\n",
        "            return ('¡El cliente se ha borrado!\\n')\n",
        "        else:\n",
        "            return('¡El cliente ' + cliente + ' no existe!\\n')\n",
        "\n",
        "\n",
        "def crear_directorio(file):\n",
        "    import os\n",
        "    if os.path.isfile(file):\n",
        "        answer = input('El fichero ' + file + ' ya existe. ¿Desea vaciarlo (S/N)? ')\n",
        "        if answer == 'N': \n",
        "            return 'No se ha creado el fichero porque ya existe.\\n'\n",
        "    f = open(file, 'w')\n",
        "    f.close()\n",
        "    return 'Se ha creado el fichero.\\n'\n",
        "     \n",
        "\n",
        "def menu():\n",
        "    print('Gestión del listado telefónico')\n",
        "    print('============================')\n",
        "    print('1 - Consultar un teléfono')\n",
        "    print('2 - Añadir un teléfono')\n",
        "    print('3 - Eliminar un teléfono')\n",
        "    print('4 - Crear el listado')\n",
        "    print('0 - Terminar')\n",
        "    option = input('Ingrese el número de la opción deseada: ')\n",
        "    return option\n",
        "\n",
        "\n",
        "def directorio():\n",
        "  \n",
        "    file = 'listado.txt' \n",
        "    while True:\n",
        "        option = menu()\n",
        "        if option == '1':\n",
        "            name = input('Ingresa el nombre del cliente: ')\n",
        "            print(obtener_telefono(file, name))\n",
        "        elif option == '2':\n",
        "            name = input('Ingresa el nombre del cliente: ')\n",
        "            telf = input('Ingresa el teléfono del cliente: ')\n",
        "            print(agregar_telefono(file, name, telf))\n",
        "        elif option == '3':\n",
        "            name = input('Ingresa el nombre del cliente: ')\n",
        "            print(remover_telefono(file, name))\n",
        "        elif option == '4':\n",
        "            print(crear_directorio(file))\n",
        "        else:\n",
        "            break\n",
        "    return\n",
        "\n",
        "directorio()"
      ]
    },
    {
      "cell_type": "markdown",
      "metadata": {
        "id": "fjzWjeL-QfIG"
      },
      "source": [
        "## Ejercicio 7"
      ]
    },
    {
      "cell_type": "markdown",
      "metadata": {
        "id": "15KWscGjQfIH"
      },
      "source": [
        "El archivo <a href=\"https://drive.google.com/file/d/1V06-QPe36PIIMq0z6Nm8_02mHB1KX_Cu/view?usp=sharing\"> cotizacion.csv </a> contiene las cotizaciones de las empresas del IBEX35 con las siguientes columnas: <font color=#B40431>Nombre</font> (nombre de la empresa), <font color=#B40431>Final</font> (precio de la acción al cierre de bolsa), <font color=#B40431>Máximo</font> (precio máximo de la acción durante la jornada), <font color=#B40431>Mínimo</font> (precio mínimo de la acción durante la jornada), <font color=#B40431>Volumen</font> (Volumen al cierre de bolsa), <font color=#B40431>Efectivo</font> (capitalización al cierre en miles de euros).\n",
        "<ol>\n",
        "<li>\n",
        "<p>Construir una función reciba el archivo de cotizaciones y devuelva un diccionario con los datos del archivo por columnas.</p>\n",
        "</li>\n",
        "<li>\n",
        "<p>Construir una función que reciba el diccionario devuelto por la función anterior y cree un archivo en formato csv con el mínimo, el máximo y la media de dada columna.</p>\n",
        "</li>\n",
        "</ol>"
      ]
    },
    {
      "cell_type": "code",
      "source": [
        "from typing import KeysView\n",
        "from google.colab import drive\n",
        "import csv\n",
        "\n",
        "def limpiar(digitos):\n",
        "\n",
        "    digitos = digitos.replace('.', '')\n",
        "    digitos = digitos.replace(',','.')\n",
        "    return float(digitos) \n",
        "\n",
        "def procesamiento_datos(ruta):\n",
        "\n",
        "    try:\n",
        "        f = open(ruta, 'r')\n",
        "        #print (\"El fichero si existe.\")\n",
        "    except FileNotFoundError:\n",
        "        print('El fichero no existe.')\n",
        "        return\n",
        "\n",
        "    lineas = f.readlines()\n",
        "    f.close()\n",
        "    claves = lineas[0]\n",
        "    claves = claves[:-1].split(';')\n",
        "    cotizaciones = {}\n",
        "    for i in claves:\n",
        "        cotizaciones[i] = []\n",
        "    for linea in lineas[1:]:\n",
        "        linea = linea[:-1].split(';')\n",
        "        cotizaciones[claves[0]].append(linea[0])\n",
        "        for i in range(1, len(cotizaciones)):\n",
        "            cotizaciones[claves[i]].append(limpiar(linea[i]))\n",
        "    return cotizaciones\n",
        "\n",
        "\n",
        "def resumen_cotizacion(cotizaciones, ruta):\n",
        "\n",
        "    del cotizaciones['Nombre']\n",
        "    f = open(ruta, 'w')\n",
        "    f.write('Nombre')\n",
        "    for clave in cotizaciones.keys():\n",
        "        f.write(';' + clave)\n",
        "    f.write('\\nMínimo')\n",
        "    for valores in cotizaciones.values():\n",
        "        f.write(';' + str(min(valores)))\n",
        "    f.write('\\nMáximo')\n",
        "    for valores in cotizaciones.values():\n",
        "        f.write(';' + str(max(valores)))\n",
        "    f.write('\\nMedia')\n",
        "    for valores in cotizaciones.values():\n",
        "        f.write(';' + str(round(sum(valores)/len(valores), 2)))\n",
        "    f.close()\n",
        "    return\n",
        "\n",
        "cotizaciones = procesamiento_datos('cotizacion.csv')\n",
        "resumen_cotizacion(cotizaciones, 'resumen-cotizacion.csv')\n",
        "\n",
        "archivo_creado = open('resumen-cotizacion.csv')\n",
        "linea_c=archivo_creado.readline()\n",
        "while linea_c != '':\n",
        "    linea_c=archivo_creado.readline()\n",
        "    print(linea_c)\n",
        "\n"
      ],
      "metadata": {
        "id": "H2x3qOcKBCDv",
        "outputId": "098e621b-2db2-4733-c636-54246855b351",
        "colab": {
          "base_uri": "https://localhost:8080/"
        }
      },
      "execution_count": null,
      "outputs": [
        {
          "output_type": "stream",
          "name": "stdout",
          "text": [
            "Mínimo;1.0165;4.0675;1.0165;1221.0;2343.09\n",
            "\n",
            "Máximo;19705.0;19875.0;19675.0;36129692.0;145765.44\n",
            "\n",
            "Media;2796.77;3170.11;3136.51;4252278.51;31767.78\n",
            "\n"
          ]
        }
      ]
    },
    {
      "cell_type": "markdown",
      "metadata": {
        "id": "nO5YED_3QfIN"
      },
      "source": [
        "## Ejercicio 8"
      ]
    },
    {
      "cell_type": "markdown",
      "metadata": {
        "id": "BF4jfq7NQfIP"
      },
      "source": [
        "El archivo <a href=\"https://drive.google.com/file/d/1jmWkkmpRb-7OmTjiIWFLgjY15MyMBenL/view?usp=sharing\"> calificaciones.csv </a>  contiene las calificaciones de un curso. Durante el curso se realizaron dos exámenes parciales de teoría y un examen de prácticas. Los alumnos que tuvieron menos de 4 en alguno de estos exámenes pudieron repetirlo al final del curso (convocatoria ordinaria). Escribir un programa que contenga las siguientes funciones:\n",
        "<ol>\n",
        "<li>\n",
        "<p>Una función que reciba el archivo de calificaciones y devuelva una lista de diccionarios, donde cada diccionario contiene la información de los exámenes y la asistencia de un alumno. La lista tiene que estar ordenada por apellidos.</p>\n",
        "</li>\n",
        "<li>\n",
        "<p>Una función que reciba una lista de diccionarios como la que devuelve la función anterior y añada a cada diccionario un nuevo par con la nota final del curso. El peso de cada parcial de teoría en la nota final es de un 30% mientras que el peso del examen de prácticas es de un 40%.</p>\n",
        "</li>\n",
        "<li>\n",
        "<p>Una función que reciba una lista de diccionarios como la que devuelve la función anterior y devuelva dos listas, una con los alumnos aprobados y otra con los alumnos suspensos. Para aprobar el curso, la asistencia tiene que ser mayor o igual que el 75%, la nota de los exámenes parciales y de prácticas mayor o igual que 4 y la nota final mayor o igual que 5.</p>\n",
        "</li>\n",
        "</ol>"
      ]
    },
    {
      "cell_type": "code",
      "source": [
        "def nota(cifra):\n",
        "   \n",
        "    cifra = cifra.replace(',','.')\n",
        "    return float(cifra) \n",
        "\n",
        "def calificaciones(ruta):\n",
        "    \n",
        "    try:       \n",
        "        f = open(ruta, 'r')\n",
        "    except FileNotFoundError:\n",
        "        #print('El fichero no existe.')\n",
        "        calificaciones=\"error\"\n",
        "        return(\"error\")\n",
        "    else:\n",
        "      lineas = f.readlines()\n",
        "      \n",
        "      f.close()\n",
        "      \n",
        "      claves = lineas[0][:-1].split(\";\")\n",
        "      \n",
        "      calificaciones = []\n",
        "      \n",
        "      for i in lineas[1:]:\n",
        "          \n",
        "          valores = i[:-1].split(\";\")\n",
        "          \n",
        "          alumno = {}\n",
        "          \n",
        "          for j in range(len(valores)):\n",
        "              alumno[claves[j]] = valores[j]\n",
        "          \n",
        "          calificaciones.append(alumno)\n",
        "      return calificaciones\n",
        "\n",
        "def añadir_nota_final(calificaciones):\n",
        "     if calificaciones==\"error\": \n",
        "       return\n",
        "     else:\n",
        "      def nota_final(alumno):\n",
        "          \n",
        "          if alumno['Ordinario1']: \n",
        "              parcial1 = nota(alumno['Ordinario1'])\n",
        "          elif alumno['Parcial1']:\n",
        "              parcial1 = nota(alumno['Parcial1'])\n",
        "          else: \n",
        "              parcial1 = 0\n",
        "          if alumno['Ordinario2']: \n",
        "              parcial2 = nota(alumno['Ordinario2'])\n",
        "          elif alumno['Parcial2']:\n",
        "              parcial2 = nota(alumno['Parcial2'])\n",
        "          else: \n",
        "              parcial2 = 0 \n",
        "          if alumno['OrdinarioPracticas']: \n",
        "              practicas = nota(alumno['OrdinarioPracticas'])\n",
        "          elif alumno['Practicas']:\n",
        "              practicas = nota(alumno['Practicas'])\n",
        "          else:\n",
        "              practicas = 0\n",
        "          alumno['Final1'] = parcial1\n",
        "          alumno['Final2'] = parcial2\n",
        "          alumno['FinalPracticas'] = practicas\n",
        "          alumno['NotaFinal'] = parcial1 * 0.3 + parcial2 * 0.3 + practicas * 0.4\n",
        "          return alumno\n",
        "\n",
        "      \n",
        "      return list(map(nota_final, calificaciones))\n",
        "\n",
        "def aprobados_suspensos(calificaciones):\n",
        "    \n",
        "    aprobados = []\n",
        "    suspensos = []\n",
        "   \n",
        "    for alumno in calificaciones:\n",
        "        \n",
        "        if all([int(alumno['Asistencia'][:-1]) >= 75, alumno['Final1'] >= 4, alumno['Final2'] >=4, alumno['FinalPracticas'] >=4, alumno['NotaFinal'] >= 5]):\n",
        "            aprobados.append(alumno['Apellidos'] + ', ' + alumno['Nombre'])\n",
        "        else:\n",
        "            suspensos.append(alumno['Apellidos'] + ', ' + alumno['Nombre'])\n",
        "    return aprobados, suspensos\n",
        "\n",
        "\n",
        "print(añadir_nota_final(calificaciones('calificaciones.csv')))\n",
        "if calificaciones('calificaciones.csv')==\"error\":\n",
        "  print(\"Archivo no encontrado\")\n",
        "else:\n",
        "  aprobados, suspensos = aprobados_suspensos(añadir_nota_final(calificaciones('calificaciones.csv')))\n",
        "  print('Lista de aprobados:', aprobados)\n",
        "  print('Lista de suspensos:', suspensos)"
      ],
      "metadata": {
        "id": "SolQhj6pCKoX",
        "outputId": "42537fc2-c2dd-4d51-bd75-64ea294192a6",
        "colab": {
          "base_uri": "https://localhost:8080/"
        }
      },
      "execution_count": null,
      "outputs": [
        {
          "output_type": "stream",
          "name": "stdout",
          "text": [
            "[{'Apellidos': 'Anido Bonet', 'Nombre': 'David', 'Asistencia': '90%', 'Parcial1': '5,5', 'Parcial2': '2,75', 'Ordinario1': '', 'Ordinario2': '5', 'Practicas': '', 'OrdinarioPracticas': '', 'Final1': 5.5, 'Final2': 5.0, 'FinalPracticas': 0, 'NotaFinal': 3.15}, {'Apellidos': 'Bueno Cerdeira', 'Nombre': 'Patricia', 'Asistencia': '95%', 'Parcial1': '9,5', 'Parcial2': '9', 'Ordinario1': '', 'Ordinario2': '', 'Practicas': '6,25', 'OrdinarioPracticas': '', 'Final1': 9.5, 'Final2': 9.0, 'FinalPracticas': 6.25, 'NotaFinal': 8.05}, {'Apellidos': 'Casariego García', 'Nombre': 'Raúl', 'Asistencia': '98%', 'Parcial1': '4,25', 'Parcial2': '5,75', 'Ordinario1': '', 'Ordinario2': '', 'Practicas': '4', 'OrdinarioPracticas': '5', 'Final1': 4.25, 'Final2': 5.75, 'FinalPracticas': 5.0, 'NotaFinal': 5.0}, {'Apellidos': 'Curbelo Sánchez', 'Nombre': 'Jorge', 'Asistencia': '75%', 'Parcial1': '6,75', 'Parcial2': '4,25', 'Ordinario1': '', 'Ordinario2': '', 'Practicas': '', 'OrdinarioPracticas': '6,5', 'Final1': 6.75, 'Final2': 4.25, 'FinalPracticas': 6.5, 'NotaFinal': 5.9}, {'Apellidos': 'Díaz Souto', 'Nombre': 'Sofía', 'Asistencia': '82%', 'Parcial1': '7', 'Parcial2': '6,5', 'Ordinario1': '', 'Ordinario2': '', 'Practicas': '9', 'OrdinarioPracticas': '', 'Final1': 7.0, 'Final2': 6.5, 'FinalPracticas': 9.0, 'NotaFinal': 7.65}, {'Apellidos': 'García Perez', 'Nombre': 'Yaiza', 'Asistencia': '85%', 'Parcial1': '10', 'Parcial2': '8', 'Ordinario1': '', 'Ordinario2': '', 'Practicas': '7,5', 'OrdinarioPracticas': '', 'Final1': 10.0, 'Final2': 8.0, 'FinalPracticas': 7.5, 'NotaFinal': 8.4}, {'Apellidos': 'Sánchez Jordán', 'Nombre': 'María', 'Asistencia': '92%', 'Parcial1': '8,75', 'Parcial2': '9', 'Ordinario1': '', 'Ordinario2': '', 'Practicas': '6,5', 'OrdinarioPracticas': '', 'Final1': 8.75, 'Final2': 9.0, 'FinalPracticas': 6.5, 'NotaFinal': 7.924999999999999}, {'Apellidos': 'Lorenzo García', 'Nombre': 'Jaime', 'Asistencia': '100%', 'Parcial1': '9,75', 'Parcial2': '8,25', 'Ordinario1': '', 'Ordinario2': '', 'Practicas': '7,5', 'OrdinarioPracticas': '', 'Final1': 9.75, 'Final2': 8.25, 'FinalPracticas': 7.5, 'NotaFinal': 8.4}, {'Apellidos': 'Martínez Lucas', 'Nombre': 'Cecilia', 'Asistencia': '86%', 'Parcial1': '7', 'Parcial2': '4', 'Ordinario1': '', 'Ordinario2': '', 'Practicas': '6,25', 'OrdinarioPracticas': '', 'Final1': 7.0, 'Final2': 4.0, 'FinalPracticas': 6.25, 'NotaFinal': 5.8}, {'Apellidos': 'Mora Peñaloza', 'Nombre': 'Sandra', 'Asistencia': '70%', 'Parcial1': '5,25', 'Parcial2': '2', 'Ordinario1': '', 'Ordinario2': '4', 'Practicas': '6,5', 'OrdinarioPracticas': '', 'Final1': 5.25, 'Final2': 4.0, 'FinalPracticas': 6.5, 'NotaFinal': 5.375}, {'Apellidos': 'Morillo Escudero', 'Nombre': 'Ana', 'Asistencia': '100%', 'Parcial1': '9,5', 'Parcial2': '10', 'Ordinario1': '', 'Ordinario2': '', 'Practicas': '8,75', 'OrdinarioPracticas': '', 'Final1': 9.5, 'Final2': 10.0, 'FinalPracticas': 8.75, 'NotaFinal': 9.35}, {'Apellidos': 'Muñoz Gómez', 'Nombre': 'Carolina', 'Asistencia': '94%', 'Parcial1': '7,75', 'Parcial2': '6,5', 'Ordinario1': '', 'Ordinario2': '', 'Practicas': '4', 'OrdinarioPracticas': '', 'Final1': 7.75, 'Final2': 6.5, 'FinalPracticas': 4.0, 'NotaFinal': 5.875}, {'Apellidos': 'Ramirez de la Puente', 'Nombre': 'Raquel', 'Asistencia': '75%', 'Parcial1': '0', 'Parcial2': '1', 'Ordinario1': '1', 'Ordinario2': '2,75', 'Practicas': '2,25', 'OrdinarioPracticas': '3,25', 'Final1': 1.0, 'Final2': 2.75, 'FinalPracticas': 3.25, 'NotaFinal': 2.425}, {'Apellidos': 'Riego Pizarro', 'Nombre': 'Carlos', 'Asistencia': '75%', 'Parcial1': '4', 'Parcial2': '2,5', 'Ordinario1': '5', 'Ordinario2': '3,75', 'Practicas': '', 'OrdinarioPracticas': '', 'Final1': 5.0, 'Final2': 3.75, 'FinalPracticas': 0, 'NotaFinal': 2.625}, {'Apellidos': 'Rodríguez de Blas', 'Nombre': 'Ignacio', 'Asistencia': '80%', 'Parcial1': '8,25', 'Parcial2': '5,25', 'Ordinario1': '', 'Ordinario2': '', 'Practicas': '6,5', 'OrdinarioPracticas': '', 'Final1': 8.25, 'Final2': 5.25, 'FinalPracticas': 6.5, 'NotaFinal': 6.65}, {'Apellidos': 'Moreno Angulo', 'Nombre': 'Antonio', 'Asistencia': '88%', 'Parcial1': '9', 'Parcial2': '6,75', 'Ordinario1': '', 'Ordinario2': '', 'Practicas': '5,25', 'OrdinarioPracticas': '', 'Final1': 9.0, 'Final2': 6.75, 'FinalPracticas': 5.25, 'NotaFinal': 6.824999999999999}]\n",
            "Lista de aprobados: ['Bueno Cerdeira, Patricia', 'Casariego García, Raúl', 'Curbelo Sánchez, Jorge', 'Díaz Souto, Sofía', 'García Perez, Yaiza', 'Sánchez Jordán, María', 'Lorenzo García, Jaime', 'Martínez Lucas, Cecilia', 'Morillo Escudero, Ana', 'Muñoz Gómez, Carolina', 'Rodríguez de Blas, Ignacio', 'Moreno Angulo, Antonio']\n",
            "Lista de suspensos: ['Anido Bonet, David', 'Mora Peñaloza, Sandra', 'Ramirez de la Puente, Raquel', 'Riego Pizarro, Carlos']\n"
          ]
        }
      ]
    }
  ],
  "metadata": {
    "kernelspec": {
      "display_name": "Python 3",
      "language": "python",
      "name": "python3"
    },
    "language_info": {
      "codemirror_mode": {
        "name": "ipython",
        "version": 3
      },
      "file_extension": ".py",
      "mimetype": "text/x-python",
      "name": "python",
      "nbconvert_exporter": "python",
      "pygments_lexer": "ipython3",
      "version": "3.6.9"
    },
    "colab": {
      "name": "Ejercitación 4.1 - Archivos.ipynb",
      "provenance": [],
      "collapsed_sections": []
    }
  },
  "nbformat": 4,
  "nbformat_minor": 0
}