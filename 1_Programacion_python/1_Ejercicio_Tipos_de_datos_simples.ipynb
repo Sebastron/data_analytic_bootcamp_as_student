{
  "cells": [
    {
      "cell_type": "markdown",
      "metadata": {
        "id": "FYYMLm1Q_fmB"
      },
      "source": [
        "# Ejercicios de Tipos de Datos Simples"
      ]
    },
    {
      "cell_type": "markdown",
      "metadata": {
        "id": "PbLb5xfu_fmW"
      },
      "source": [
        "## Ejercicio 1"
      ]
    },
    {
      "cell_type": "markdown",
      "metadata": {
        "id": "993Y7c4Z_fmY"
      },
      "source": [
        "Escribir un programa que muestre por pantalla la cadena <font color=#B40431>¡Hola Mundo!</font>"
      ]
    },
    {
      "cell_type": "code",
      "execution_count": null,
      "metadata": {
        "colab": {
          "base_uri": "https://localhost:8080/"
        },
        "id": "2_LLkxPI_fmb",
        "outputId": "847c2286-c32e-4bfe-c8a8-cd9ef48a056e"
      },
      "outputs": [
        {
          "output_type": "stream",
          "name": "stdout",
          "text": [
            "¡Hola Mundo!\n"
          ]
        }
      ],
      "source": [
        "print('¡Hola Mundo!')"
      ]
    },
    {
      "cell_type": "markdown",
      "metadata": {
        "id": "9vi8Y2vu_fmj"
      },
      "source": [
        "## Ejercicio 2"
      ]
    },
    {
      "cell_type": "markdown",
      "metadata": {
        "id": "yDvYTSss_fmm"
      },
      "source": [
        "Escribir un programa que almacene la cadena <font color=#B40431>¡Hola Mundo!</font> en una variable y luego muestre por pantalla el contenido de la variable."
      ]
    },
    {
      "cell_type": "code",
      "execution_count": null,
      "metadata": {
        "colab": {
          "base_uri": "https://localhost:8080/"
        },
        "id": "qQQIU-oA_fmu",
        "outputId": "2532e2f6-5771-4c0f-f66f-e198e4d8e218"
      },
      "outputs": [
        {
          "output_type": "stream",
          "name": "stdout",
          "text": [
            "¡Hola Mundo!\n"
          ]
        }
      ],
      "source": [
        "x = \"¡Hola Mundo!\"\n",
        "print(x)"
      ]
    },
    {
      "cell_type": "markdown",
      "metadata": {
        "id": "UB3wJbam_fm0"
      },
      "source": [
        "## Ejercicio 3"
      ]
    },
    {
      "cell_type": "markdown",
      "metadata": {
        "id": "1ntgbKXb_fm3"
      },
      "source": [
        "Escribir un programa que pregunte el nombre del usuario en la consola y después de que el usuario lo introduzca muestre por pantalla la cadena <font color=#B40431>¡Hola &#60;nombre&#62;!</font>, donde <font color=#B40431>&#60;nombre&#62;</font> es el nombre que el usuario haya introducido."
      ]
    },
    {
      "cell_type": "code",
      "execution_count": null,
      "metadata": {
        "colab": {
          "base_uri": "https://localhost:8080/"
        },
        "id": "Hpu8dV2T_fm7",
        "outputId": "fc2717d6-4b41-49ff-cc8d-3b092db882a2"
      },
      "outputs": [
        {
          "output_type": "stream",
          "name": "stdout",
          "text": [
            "Ingrese su nombre, usuario: Sebastian\n",
            "¡Hola Sebastian!\n"
          ]
        }
      ],
      "source": [
        "nombre = input(\"Ingrese su nombre, usuario: \")\n",
        "print(\"¡Hola \" + nombre + \"!\")"
      ]
    },
    {
      "cell_type": "markdown",
      "metadata": {
        "id": "jxmJfFUv_fm9"
      },
      "source": [
        "## Ejercicio 4"
      ]
    },
    {
      "cell_type": "markdown",
      "metadata": {
        "id": "Dl0AytxK_fnC"
      },
      "source": [
        "Escribir un programa que pregunte el nombre del usuario en la consola y un número entero e imprima por pantalla en líneas distintas el nombre del usuario tantas veces como el número introducido."
      ]
    },
    {
      "cell_type": "code",
      "execution_count": null,
      "metadata": {
        "colab": {
          "base_uri": "https://localhost:8080/"
        },
        "id": "Oy2R1M-8_fnI",
        "outputId": "f7f758cb-6217-4cca-f218-b5024184afe4"
      },
      "outputs": [
        {
          "output_type": "stream",
          "name": "stdout",
          "text": [
            "Ingrese su nombre, usuario: Sebastian\n",
            "Ingrese un número entero: 6\n",
            "Sebastian\n",
            "Sebastian\n",
            "Sebastian\n",
            "Sebastian\n",
            "Sebastian\n",
            "Sebastian\n",
            "\n"
          ]
        }
      ],
      "source": [
        "try:\n",
        "  nombre = input(\"Ingrese su nombre, usuario: \")\n",
        "  n = abs(int(input(\"Ingrese un número entero: \")))\n",
        "  print((nombre+'\\n')*n)\n",
        "except ValueError:\n",
        "  print(\"Error en el ingreso del valor de número, debe ser entero, vuelve a intentar.\")"
      ]
    },
    {
      "cell_type": "markdown",
      "metadata": {
        "id": "X9Po4Fxf_fnK"
      },
      "source": [
        "## Ejercicio 5"
      ]
    },
    {
      "cell_type": "markdown",
      "metadata": {
        "id": "sziULnGy_fnM"
      },
      "source": [
        "Escribir un programa que pregunte el nombre del usuario en la consola y después de que el usuario lo introduzca muestre por pantalla <font color=#B40431>&#60;NOMBRE&#62; tiene &#60;n&#62; letras</font>, donde <font color=#B40431>&#60;NOMBRE&#62;</font> es el nombre de usuario en mayúsculas y <font color=#B40431>&#60;n&#62;</font> es el número de letras que tienen el nombre."
      ]
    },
    {
      "cell_type": "code",
      "execution_count": null,
      "metadata": {
        "colab": {
          "base_uri": "https://localhost:8080/"
        },
        "id": "4UohTwBp_fnN",
        "outputId": "5a436fc6-00e3-45e6-cb36-a14d5e775af1"
      },
      "outputs": [
        {
          "output_type": "stream",
          "name": "stdout",
          "text": [
            "Ingrese su nombre, usuario: Sebastian\n",
            "SEBASTIAN tiene 9 letras\n"
          ]
        }
      ],
      "source": [
        "nombre = input(\"Ingrese su nombre, usuario: \").upper()\n",
        "print(nombre, \"tiene\", str(len(nombre)), \"letras\")"
      ]
    },
    {
      "cell_type": "markdown",
      "metadata": {
        "id": "SaPO-f5O_fnO"
      },
      "source": [
        "## Ejercicio 6"
      ]
    },
    {
      "cell_type": "markdown",
      "metadata": {
        "id": "G55mMZOk_fnP"
      },
      "source": [
        "Escribir un programa que realice la siguiente operación aritmética $\\left(\\frac{3+2}{2\\cdot 5}\\right)^2$"
      ]
    },
    {
      "cell_type": "code",
      "execution_count": null,
      "metadata": {
        "colab": {
          "base_uri": "https://localhost:8080/"
        },
        "id": "Cwfqtl1t_fnT",
        "outputId": "86735118-89d3-4082-b571-e642e3f669be"
      },
      "outputs": [
        {
          "output_type": "stream",
          "name": "stdout",
          "text": [
            "0.25\n"
          ]
        }
      ],
      "source": [
        "r = ((3+2)/(2*5))**2\n",
        "print(r)"
      ]
    },
    {
      "cell_type": "markdown",
      "metadata": {
        "id": "I3CMULOM_fnU"
      },
      "source": [
        "## Ejercicio 7"
      ]
    },
    {
      "cell_type": "markdown",
      "metadata": {
        "id": "ydIKivYC_fnV"
      },
      "source": [
        "Escribir un programa que pregunte al usuario por el número de horas trabajadas y el costo por hora. Después debe mostrar por pantalla el sueldo que le corresponde."
      ]
    },
    {
      "cell_type": "code",
      "execution_count": null,
      "metadata": {
        "colab": {
          "base_uri": "https://localhost:8080/"
        },
        "id": "_xj9H5df_fnW",
        "outputId": "d17f8375-a309-409c-80ba-5cc7aa7f785d"
      },
      "outputs": [
        {
          "output_type": "stream",
          "name": "stdout",
          "text": [
            "Ingrese el número de horas trabajadas: 24\n",
            "Ingrese el costo por hora: 10000\n",
            "Su sueldo corresponde a $240000.0\n"
          ]
        }
      ],
      "source": [
        "try:\n",
        "  hora = float(input(\"Ingrese el número de horas trabajadas: \"))\n",
        "  costo = float(input(\"Ingrese el costo por hora: \"))\n",
        "  print(\"Su sueldo corresponde a $\" + str(hora*costo))\n",
        "except ValueError:\n",
        "  print(\"Error en el ingreso de valores, debe ser entero o decimal, vuelve a intentar.\")"
      ]
    },
    {
      "cell_type": "markdown",
      "metadata": {
        "id": "yBkG-ETu_fnX"
      },
      "source": [
        "## Ejercicio 8"
      ]
    },
    {
      "cell_type": "markdown",
      "metadata": {
        "id": "e2XhrO9A_fnY"
      },
      "source": [
        "Escribir un programa que lea un entero positivo, $n$, introducido por el usuario y después muestre en pantalla la suma de todos los enteros desde 1 hasta $n$. La suma de los $n$ primeros enteros positivos puede ser calculada de la siguiente forma: $ \\mbox{suma} = \\frac{n(n+1)}{2} $"
      ]
    },
    {
      "cell_type": "code",
      "execution_count": null,
      "metadata": {
        "colab": {
          "base_uri": "https://localhost:8080/"
        },
        "id": "3u7X2Iop_fna",
        "outputId": "4f69a3ae-5e4d-4c2f-c697-1b7de0b4145e"
      },
      "outputs": [
        {
          "output_type": "stream",
          "name": "stdout",
          "text": [
            "Ingrese un número entero, en caso de ingresar negativo, se tomará como positivo: 45\n",
            "1035.0\n"
          ]
        }
      ],
      "source": [
        "try:\n",
        "  n = abs(int(input(\"Ingrese un número entero, en caso de ingresar negativo, se tomará como positivo: \")))\n",
        "  r = (n*(n+1))/2\n",
        "  print(r)\n",
        "except ValueError:\n",
        "  print(\"Error en el ingreso del valor, debe ser entero, vuelve a intentar.\")"
      ]
    },
    {
      "cell_type": "markdown",
      "metadata": {
        "id": "naxGvYuY_fna"
      },
      "source": [
        "## Ejercicio 9"
      ]
    },
    {
      "cell_type": "markdown",
      "metadata": {
        "id": "GprStuVD_fnb"
      },
      "source": [
        "Escribir un programa que pida al usuario su peso (en kg) y estatura (en metros), calcule el índice de masa corporal y lo almacene en una variable, y muestre por pantalla la frase <font color=#B40431>\"Tu índice de masa corporal es\"&#60;imc&#62;</font> donde <font color=#B40431>&#60;imc&#62;</font> es el índice de masa corporal calculado redondeado con dos decimales."
      ]
    },
    {
      "cell_type": "code",
      "execution_count": null,
      "metadata": {
        "scrolled": true,
        "colab": {
          "base_uri": "https://localhost:8080/"
        },
        "id": "DGKoa5b0_fnd",
        "outputId": "4c3e0353-e8b0-4df0-f7f1-eed38268b946"
      },
      "outputs": [
        {
          "output_type": "stream",
          "name": "stdout",
          "text": [
            "Ingrese su peso, usuario: 98\n",
            "Ingrese su altura, usuario: 1.78\n",
            "Su índice de masa corporal es 30.93 (kg/m^2)\n"
          ]
        }
      ],
      "source": [
        "#Formula del indice de masa corporal utilizada: imc = peso / (estatura)^2\n",
        "#Cualquier valor negativo, se pasa a valor positivo\n",
        "try:\n",
        "  peso = abs(float(input(\"Ingrese su peso, usuario: \")))\n",
        "  estatura = abs(float(input(\"Ingrese su altura, usuario: \")))\n",
        "  imc = round(peso/(estatura**2), 2)\n",
        "  print(\"Su índice de masa corporal es\", imc, \"(kg/m^2)\")\n",
        "\n",
        "except ValueError:\n",
        "  print(\"Error en el ingreso del valor, debe ser entero o decimal, vuelve a intentar.\")"
      ]
    },
    {
      "cell_type": "markdown",
      "metadata": {
        "id": "ESlNRzA3_fnd"
      },
      "source": [
        "## Ejercicio 10"
      ]
    },
    {
      "cell_type": "markdown",
      "metadata": {
        "id": "uC4pNulI_fne"
      },
      "source": [
        "Escribir un programa que pida al usuario dos números enteros y muestre por pantalla la <font color=#B40431>&#60;n&#62;</font> entre <font color=#B40431>&#60;m&#62;</font> da un cociente <font color=#B40431>&#60;c&#62;</font> y un resto <font color=#B40431>&#60;r&#62;</font> donde <font color=#B40431>&#60;n&#62;</font> y <font color=#B40431>&#60;m&#62;</font> son los números introducidos por el usuario, y <font color=#B40431>&#60;c&#62;</font> y <font color=#B40431>&#60;r&#62;</font> son el cociente y el resto de la división entera respectivamente."
      ]
    },
    {
      "cell_type": "code",
      "execution_count": null,
      "metadata": {
        "colab": {
          "base_uri": "https://localhost:8080/"
        },
        "id": "vzr7QmK2_fng",
        "outputId": "2b0ba048-736b-4b75-d9bd-a01916107cf1"
      },
      "outputs": [
        {
          "output_type": "stream",
          "name": "stdout",
          "text": [
            "Ingrese el número entero 'n': 3\n",
            "Ingrese el número entero 'm': 4\n",
            "La 3 entre 4 da un cociente 0 y un resto 3\n",
            "donde 3 y 4 son los números introducidos por el usuario, y 0\n",
            "y 3 son el cociente y el resto de la división entera respectivamente.\n"
          ]
        }
      ],
      "source": [
        "try:\n",
        "  n = int(input(\"Ingrese el número entero 'n': \"))\n",
        "  m = int(input(\"Ingrese el número entero 'm': \"))\n",
        "  c = n//m\n",
        "  r = n%m\n",
        "  print(\"La\", n, \"entre\", m, \"da un cociente\", c, \"y un resto\", r) \n",
        "  print(\"donde\", n, \"y\", m, \"son los números introducidos por el usuario, y\", c) \n",
        "  print(\"y\", r, \"son el cociente y el resto de la división entera respectivamente.\")\n",
        "except ValueError:\n",
        "  print(\"Error en el ingreso del valor, debe ser entero, vuelve a intentar.\")"
      ]
    },
    {
      "cell_type": "markdown",
      "metadata": {
        "id": "Cdhuot-R_fnh"
      },
      "source": [
        "## Ejercicio 11"
      ]
    },
    {
      "cell_type": "markdown",
      "metadata": {
        "id": "ZiA9eBid_fnj"
      },
      "source": [
        "Escribir un programa que pregunte al usuario una cantidad a invertir, el interés anual y el número de años, y muestre por pantalla el capital obtenido en la inversión."
      ]
    },
    {
      "cell_type": "code",
      "execution_count": null,
      "metadata": {
        "colab": {
          "base_uri": "https://localhost:8080/"
        },
        "id": "e7GnFgHF_fnk",
        "outputId": "d3626f7b-0f49-416e-b348-d90374b122c1"
      },
      "outputs": [
        {
          "output_type": "stream",
          "name": "stdout",
          "text": [
            "Ingrese una cantidad de dinero a invertir: 5000\n",
            "Ingrese el interés anual en decimal: 0.1\n",
            "Ingrese el número de años: 3\n",
            "El capital obtenido en la inversión es $6655.0\n"
          ]
        }
      ],
      "source": [
        "# Fórmula utilizada: M = C × (1 + i)^n, donde:\n",
        "# M = Capital\n",
        "# C = Cantidad de dinero a invertir\n",
        "# i = Interés anual\n",
        "# n = Número de años\n",
        "# Para todos los datos, se asegura que sean números positivos\n",
        "try:\n",
        "  C=abs(float(input(\"Ingrese una cantidad de dinero a invertir: \")))\n",
        "  i=abs(float(input(\"Ingrese el interés anual en decimal: \")))\n",
        "  n=abs(int(input(\"Ingrese el número de años: \"))) # Para este caso, se debe ingresar un número entero\n",
        "  M = C*((1 + i)**n)\n",
        "  print(\"El capital obtenido en la inversión es $\" + str(round(M, 3))) #Se redondea con 3 decimales\n",
        "except ValueError:\n",
        "  print(\"Error en el ingreso en uno de los valores, vuelve a intentar.\")"
      ]
    },
    {
      "cell_type": "markdown",
      "metadata": {
        "id": "ACGksecL_fnl"
      },
      "source": [
        "## Ejercicio 12"
      ]
    },
    {
      "cell_type": "markdown",
      "metadata": {
        "id": "BVVzRtZS_fnm"
      },
      "source": [
        "Una juguetería tiene mucho éxito en dos de sus productos: payasos y muñecas. Suele hacer venta por correo y la empresa de logística les cobra por peso de cada paquete así que deben calcular el peso de los payasos y muñecas que saldrán en cada paquete a demanda. Cada payaso pesa 112 g y cada muñeca 75 g. Escribir un programa que lea el número de payasos y muñecas vendidos en el último pedido y calcule el peso total del paquete que será enviado."
      ]
    },
    {
      "cell_type": "code",
      "execution_count": null,
      "metadata": {
        "colab": {
          "base_uri": "https://localhost:8080/"
        },
        "id": "ZvlSd-Eg_fno",
        "outputId": "3b99a9e3-3b03-4a51-f3e0-fc8be36a3bd3"
      },
      "outputs": [
        {
          "output_type": "stream",
          "name": "stdout",
          "text": [
            "Ingrese el número de payasos que se han vendido en el último pedido: 1\n",
            "Ingrese el número de muñecas que se han vendido en el último pedido: 2\n",
            "El peso total del paquete que será enviado son 262 g.\n"
          ]
        }
      ],
      "source": [
        "try:\n",
        "  payaso = abs(int(input(\"Ingrese el número de payasos que se han vendido en el último pedido: \"))) #Se asegura que sea un entero positivo\n",
        "  munecas = abs(int(input(\"Ingrese el número de muñecas que se han vendido en el último pedido: \")))  #Se asegura que sea un entero positivo\n",
        "  peso_total = (payaso*112) + (munecas*75)\n",
        "  print(\"El peso total del paquete que será enviado son\", peso_total, \"g.\")\n",
        "except ValueError:\n",
        "  print(\"Error en el ingreso del valor, debe ser entero positivo, vuelve a intentar.\")"
      ]
    },
    {
      "cell_type": "markdown",
      "metadata": {
        "id": "L0i7Bh4N_fnp"
      },
      "source": [
        "## Ejercicio 13"
      ]
    },
    {
      "cell_type": "markdown",
      "metadata": {
        "id": "Ar9E1kq7_fnq"
      },
      "source": [
        "Imagina que acabas de abrir una nueva cuenta de ahorros que te ofrece el 20 &#37; de interés al año. Estos ahorros debido a intereses, que no se cobran hasta finales de año, se te añaden al balance final de tu cuenta de ahorros. Escribir un programa que comience leyendo la cantidad de dinero depositada en la cuenta de ahorros, introducida por el usuario. Después el programa debe calcular y mostrar por pantalla la cantidad de ahorros tras el primer, segundo y tercer años. Redondear cada cantidad a dos decimales."
      ]
    },
    {
      "cell_type": "code",
      "execution_count": null,
      "metadata": {
        "colab": {
          "base_uri": "https://localhost:8080/"
        },
        "id": "63brqksT_fnr",
        "outputId": "a8a4b320-6856-4d0f-d6a2-fb11db3720b1"
      },
      "outputs": [
        {
          "output_type": "stream",
          "name": "stdout",
          "text": [
            "Ingrese la cantidad de dinero depositada en la cuenta de ahorros: 5000\n",
            "La cantidad de ahorro tras el primer año son: $6000.0\n",
            "La cantidad de ahorro tras el segundo año son: $7200.0\n",
            "La cantidad de ahorro tras el tercer año son: $8640.0\n"
          ]
        }
      ],
      "source": [
        "try:\n",
        "  Depositado = abs(float(input(\"Ingrese la cantidad de dinero depositada en la cuenta de ahorros: \"))) \n",
        "  for i in range(1, 4):\n",
        "    Depositado += 0.2*Depositado #Se asume que por cada año, se suma el 20% del dinero depositado \n",
        "    if(i == 1):\n",
        "      print(\"La cantidad de ahorro tras el primer año son: $\"+ str(round(Depositado, 2)))\n",
        "    if(i == 2):\n",
        "      print(\"La cantidad de ahorro tras el segundo año son: $\"+ str(round(Depositado, 2)))\n",
        "    if(i == 3):\n",
        "      print(\"La cantidad de ahorro tras el tercer año son: $\"+ str(round(Depositado, 2)))\n",
        "\n",
        "except ValueError:\n",
        "  print(\"Error en el ingreso del valor, debe ser entero positivo, vuelve a intentar.\")"
      ]
    },
    {
      "cell_type": "markdown",
      "metadata": {
        "id": "BPj6fiSR_fns"
      },
      "source": [
        "## Ejercicio 14"
      ]
    },
    {
      "cell_type": "markdown",
      "metadata": {
        "id": "a2YcNNK8_fnt"
      },
      "source": [
        "Una panadería vende tiras de pan a 50 \\$ cada una. El pan que no es el día tiene un descuento del 40 &#37; Escribir un programa que comience leyendo el número de tiras vendidas que no son del día. Después el programa debe mostrar el precio habitual de una tira de pan, el descuento que se le hace por no ser fresca y el costo final total."
      ]
    },
    {
      "cell_type": "code",
      "execution_count": null,
      "metadata": {
        "colab": {
          "base_uri": "https://localhost:8080/"
        },
        "id": "KNF7xHjG_fnt",
        "outputId": "0c440875-210d-4827-c1dc-19fd8af4fc1c"
      },
      "outputs": [
        {
          "output_type": "stream",
          "name": "stdout",
          "text": [
            "Ingrese el número de tiras vendidas que no son del día: 2\n",
            "El precio total y habitual del pan es de $100.\n",
            "Sin embargo, el descuento que se le hace son $40.0.\n",
            "Por lo tanto, el costo final es $60.0.\n"
          ]
        }
      ],
      "source": [
        "try:\n",
        "  tpan = int(input(\"Ingrese el número de tiras vendidas que no son del día: \"))\n",
        "  ptpan = tpan*50 # Se obtiene el precio total del pan\n",
        "  print(\"El precio total y habitual del pan es de $\" + str(ptpan) + \".\") \n",
        "  print(\"Sin embargo, el descuento que se le hace son $\" + str(ptpan*0.4) + \".\")\n",
        "  print(\"Por lo tanto, el costo final es $\" + str(ptpan - (ptpan*0.4)) + \".\")\n",
        "except ValueError:\n",
        "  print(\"Error en el ingreso del valor, debe ser entero positivo, vuelve a intentar.\")"
      ]
    }
  ],
  "metadata": {
    "celltoolbar": "Raw Cell Format",
    "kernelspec": {
      "display_name": "Python 3",
      "language": "python",
      "name": "python3"
    },
    "language_info": {
      "codemirror_mode": {
        "name": "ipython",
        "version": 3
      },
      "file_extension": ".py",
      "mimetype": "text/x-python",
      "name": "python",
      "nbconvert_exporter": "python",
      "pygments_lexer": "ipython3",
      "version": "3.6.9"
    },
    "colab": {
      "name": "Ejercitación 1.1 - TiposDatosSimples.ipynb",
      "provenance": []
    }
  },
  "nbformat": 4,
  "nbformat_minor": 0
}